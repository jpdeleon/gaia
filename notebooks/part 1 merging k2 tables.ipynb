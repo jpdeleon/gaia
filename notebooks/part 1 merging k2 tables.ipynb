{
 "cells": [
  {
   "cell_type": "markdown",
   "metadata": {},
   "source": [
    "## gaia/K2/nexsci/cks cross-matched catalogs"
   ]
  },
  {
   "cell_type": "markdown",
   "metadata": {},
   "source": [
    "* merge K2 candidates + parallax + FPP (Mayo+2018) tables\n",
    "* The [Gaia astrophysical parameters inference system (Apsis)](https://www.aanda.org/articles/aa/full_html/2013/11/aa22344-13/aa22344-13.html)"
   ]
  },
  {
   "cell_type": "code",
   "execution_count": 1,
   "metadata": {
    "ExecuteTime": {
     "end_time": "2018-05-01T05:09:27.885359Z",
     "start_time": "2018-05-01T05:09:26.382929Z"
    },
    "collapsed": true
   },
   "outputs": [],
   "source": [
    "import numpy as np\n",
    "#np.warnings.filterwarnings('ignore')\n",
    "import matplotlib.pyplot as pl\n",
    "%matplotlib inline\n",
    "from astropy.table import Table"
   ]
  },
  {
   "cell_type": "code",
   "execution_count": 2,
   "metadata": {
    "ExecuteTime": {
     "end_time": "2018-05-01T05:09:27.891586Z",
     "start_time": "2018-05-01T05:09:27.887742Z"
    },
    "collapsed": true
   },
   "outputs": [],
   "source": [
    "import matplotlib as mpl\n",
    "mpl.rcParams['axes.linewidth'] = 1. #set the value globally"
   ]
  },
  {
   "cell_type": "markdown",
   "metadata": {},
   "source": [
    "# K2 candidates with Gaia parallax"
   ]
  },
  {
   "cell_type": "markdown",
   "metadata": {},
   "source": [
    "The merged Gaia parallax and Kepler host star data is downloadable from [here](https://www.dropbox.com/s/ahrunxv1jxzkolr/k2_dr2_4arcsec.fits?dl=0) and NExSci column meanings [here](https://exoplanetarchive.ipac.caltech.edu/docs/API_k2_columns.html) and gaia column meanings [here](https://gea.esac.esa.int/archive/documentation/GDR2/Gaia_archive/chap_datamodel/sec_dm_main_tables/ssec_dm_gaia_source.html)."
   ]
  },
  {
   "cell_type": "code",
   "execution_count": 3,
   "metadata": {
    "ExecuteTime": {
     "end_time": "2018-05-01T05:09:33.915182Z",
     "start_time": "2018-05-01T05:09:27.893993Z"
    },
    "collapsed": true
   },
   "outputs": [],
   "source": [
    "import getpass\n",
    "\n",
    "user = getpass.getuser()\n",
    "datadir='/home/'+user+'/data/gaia/'\n",
    "k2_data = Table.read(datadir+'k2_dr2_4arcsec.fits', format='fits')"
   ]
  },
  {
   "cell_type": "raw",
   "metadata": {
    "scrolled": false
   },
   "source": [
    "k2_data.columns.keys()"
   ]
  },
  {
   "cell_type": "code",
   "execution_count": 4,
   "metadata": {
    "ExecuteTime": {
     "end_time": "2018-05-01T05:09:34.072576Z",
     "start_time": "2018-05-01T05:09:33.918623Z"
    },
    "scrolled": true
   },
   "outputs": [
    {
     "data": {
      "text/html": [
       "&lt;Table masked=True length=5&gt;\n",
       "<table id=\"table140425163752504\" class=\"table-striped table-bordered table-condensed\">\n",
       "<thead><tr><th>angDist</th><th>epic_number</th><th>source_id</th><th>ra_gaia</th><th>ra_error</th><th>dec_gaia</th><th>dec_error</th><th>parallax</th><th>parallax_error</th><th>pmra</th><th>pmra_error</th><th>pmdec</th><th>pmdec_error</th><th>phot_g_mean_flux</th><th>phot_g_mean_flux_error</th><th>phot_g_mean_mag</th><th>phot_bp_mean_flux</th><th>phot_bp_mean_flux_error</th><th>phot_bp_mean_mag</th><th>phot_rp_mean_flux</th><th>phot_rp_mean_flux_error</th><th>phot_rp_mean_mag</th><th>bp_rp</th><th>radial_velocity</th><th>radial_velocity_error</th><th>teff_val</th><th>a_g_val</th><th>e_bp_min_rp_val</th><th>radius_val</th><th>lum_val</th><th>tm_name</th><th>k2_campaign_str</th><th>k2_type</th><th>ra_nasa</th><th>dec_nasa</th><th>k2_lcflag</th><th>k2_scflag</th><th>k2_teff</th><th>k2_tefferr1</th><th>k2_tefferr2</th><th>k2_logg</th><th>k2_loggerr1</th><th>k2_loggerr2</th><th>k2_metfe</th><th>k2_metfeerr1</th><th>k2_metfeerr2</th><th>k2_rad</th><th>k2_raderr1</th><th>k2_raderr2</th><th>k2_mass</th><th>k2_masserr1</th><th>k2_masserr2</th><th>k2c_disp</th><th>k2c_note</th></tr></thead>\n",
       "<thead><tr><th>arcsec</th><th></th><th></th><th>deg</th><th>0.001 arcsec</th><th>deg</th><th>0.001 arcsec</th><th>0.001 arcsec</th><th>0.001 arcsec</th><th>0.001 arcsec / yr</th><th>0.001 arcsec / yr</th><th>0.001 arcsec / yr</th><th>0.001 arcsec / yr</th><th>ph / s</th><th>ph / s</th><th>mag</th><th>ph / s</th><th>ph / s</th><th>mag</th><th>ph / s</th><th>ph / s</th><th>mag</th><th>mag</th><th>km / s</th><th>km / s</th><th>K</th><th>mag</th><th>mag</th><th>solRad</th><th>solLum</th><th></th><th></th><th></th><th>deg</th><th>deg</th><th></th><th></th><th>K</th><th>K</th><th>K</th><th></th><th></th><th></th><th></th><th></th><th></th><th>solRad</th><th>solRad</th><th>solRad</th><th>solMass</th><th>solMass</th><th>solMass</th><th></th><th></th></tr></thead>\n",
       "<thead><tr><th>float64</th><th>int64</th><th>int64</th><th>float64</th><th>float64</th><th>float64</th><th>float64</th><th>float64</th><th>float64</th><th>float64</th><th>float64</th><th>float64</th><th>float64</th><th>float64</th><th>float64</th><th>float64</th><th>float64</th><th>float64</th><th>float64</th><th>float64</th><th>float64</th><th>float64</th><th>float64</th><th>float64</th><th>float64</th><th>float64</th><th>float64</th><th>float64</th><th>float64</th><th>float64</th><th>str25</th><th>str2</th><th>str8</th><th>float64</th><th>float64</th><th>int64</th><th>int64</th><th>float64</th><th>float64</th><th>float64</th><th>float64</th><th>float64</th><th>float64</th><th>float64</th><th>float64</th><th>float64</th><th>float64</th><th>float64</th><th>float64</th><th>float64</th><th>float64</th><th>float64</th><th>str14</th><th>str59</th></tr></thead>\n",
       "<tr><td>0.140345</td><td>60017806</td><td>2641087471777046016</td><td>353.616269428</td><td>0.0348</td><td>-1.57998492884</td><td>0.0279</td><td>2.8413</td><td>0.0455</td><td>22.318</td><td>0.068</td><td>10.78</td><td>0.05</td><td>291014.0</td><td>72.9614</td><td>12.028582</td><td>160596.0</td><td>317.811</td><td>12.337053</td><td>189717.0</td><td>148.86</td><td>11.566654</td><td>0.770399</td><td>25.79</td><td>1.69</td><td>5924.0</td><td>0.153</td><td>0.0913</td><td>1.13</td><td>1.413</td><td>2MASS J23342787-0134482</td><td>E</td><td>N/A</td><td>353.616152</td><td>-1.580064</td><td>1</td><td>1</td><td>nan</td><td>nan</td><td>nan</td><td>nan</td><td>nan</td><td>nan</td><td>nan</td><td>nan</td><td>nan</td><td>nan</td><td>nan</td><td>nan</td><td>nan</td><td>nan</td><td>nan</td><td>N/A</td><td>N/A</td></tr>\n",
       "<tr><td>0.216363</td><td>60017809</td><td>2634212328648066560</td><td>352.388214108</td><td>0.042</td><td>-3.76887288806</td><td>0.0314</td><td>3.2603</td><td>0.0465</td><td>19.415</td><td>0.095</td><td>4.885</td><td>0.062</td><td>522055.0</td><td>3870.53</td><td>11.394074</td><td>279250.0</td><td>6914.32</td><td>11.736404</td><td>363403.0</td><td>8196.11</td><td>10.860948</td><td>0.875457</td><td>16.58</td><td>10.39</td><td>5535.64</td><td>nan</td><td>nan</td><td>1.53</td><td>1.976</td><td>2MASS J23293314-0346078</td><td>E</td><td>N/A</td><td>352.3881</td><td>-3.768842</td><td>1</td><td>0</td><td>nan</td><td>nan</td><td>nan</td><td>nan</td><td>nan</td><td>nan</td><td>nan</td><td>nan</td><td>nan</td><td>nan</td><td>nan</td><td>nan</td><td>nan</td><td>nan</td><td>nan</td><td>N/A</td><td>N/A</td></tr>\n",
       "<tr><td>3.656256</td><td>60017810</td><td>2740066745462270336</td><td>1.15728651845</td><td>0.4801</td><td>3.54936697526</td><td>0.2785</td><td>1.3113</td><td>0.6026</td><td>-3.077</td><td>1.723</td><td>3.097</td><td>0.584</td><td>324.202</td><td>1.27848</td><td>19.411325</td><td>194.023</td><td>17.4383</td><td>19.631756</td><td>448.011</td><td>14.708</td><td>18.1337</td><td>1.498056</td><td>nan</td><td>nan</td><td>nan</td><td>nan</td><td>nan</td><td>nan</td><td>nan</td><td>2MASS J00043784+0333010</td><td>E</td><td>N/A</td><td>1.15758</td><td>3.55033</td><td>1</td><td>0</td><td>nan</td><td>nan</td><td>nan</td><td>nan</td><td>nan</td><td>nan</td><td>nan</td><td>nan</td><td>nan</td><td>nan</td><td>nan</td><td>nan</td><td>nan</td><td>nan</td><td>nan</td><td>N/A</td><td>N/A</td></tr>\n",
       "<tr><td>0.319951</td><td>60017810</td><td>2740066749756528384</td><td>1.15764561559</td><td>0.041</td><td>3.55033058177</td><td>0.0213</td><td>1.2328</td><td>0.0392</td><td>-5.213</td><td>0.113</td><td>3.132</td><td>0.045</td><td>30766.9</td><td>368.86</td><td>14.468157</td><td>15856.7</td><td>588.079</td><td>14.850857</td><td>22074.4</td><td>768.132</td><td>13.902197</td><td>0.94866</td><td>nan</td><td>nan</td><td>5223.5</td><td>0.2413</td><td>0.1155</td><td>1.12</td><td>0.847</td><td>2MASS J00043784+0333010</td><td>E</td><td>N/A</td><td>1.15758</td><td>3.55033</td><td>1</td><td>0</td><td>nan</td><td>nan</td><td>nan</td><td>nan</td><td>nan</td><td>nan</td><td>nan</td><td>nan</td><td>nan</td><td>nan</td><td>nan</td><td>nan</td><td>nan</td><td>nan</td><td>nan</td><td>N/A</td><td>N/A</td></tr>\n",
       "<tr><td>0.18206</td><td>60017812</td><td>2545233735990589312</td><td>4.17097801639</td><td>0.0642</td><td>-0.15703810746</td><td>0.0452</td><td>1.5988</td><td>0.0768</td><td>9.383</td><td>0.144</td><td>-5.286</td><td>0.098</td><td>5343.56</td><td>24.1827</td><td>16.368788</td><td>1753.41</td><td>37.3913</td><td>17.24168</td><td>5449.32</td><td>64.9816</td><td>15.421065</td><td>1.820615</td><td>nan</td><td>nan</td><td>3926.33</td><td>nan</td><td>nan</td><td>0.82</td><td>0.145</td><td>2MASS J00164102-0009251</td><td>E</td><td>N/A</td><td>4.17096</td><td>-0.15697</td><td>1</td><td>0</td><td>nan</td><td>nan</td><td>nan</td><td>nan</td><td>nan</td><td>nan</td><td>nan</td><td>nan</td><td>nan</td><td>nan</td><td>nan</td><td>nan</td><td>nan</td><td>nan</td><td>nan</td><td>N/A</td><td>N/A</td></tr>\n",
       "</table>"
      ],
      "text/plain": [
       "<Table masked=True length=5>\n",
       "angDist  epic_number      source_id      ... k2_masserr2 k2c_disp k2c_note\n",
       " arcsec                                  ...   solMass                    \n",
       "float64     int64           int64        ...   float64    str14    str59  \n",
       "-------- ----------- ------------------- ... ----------- -------- --------\n",
       "0.140345    60017806 2641087471777046016 ...         nan      N/A      N/A\n",
       "0.216363    60017809 2634212328648066560 ...         nan      N/A      N/A\n",
       "3.656256    60017810 2740066745462270336 ...         nan      N/A      N/A\n",
       "0.319951    60017810 2740066749756528384 ...         nan      N/A      N/A\n",
       " 0.18206    60017812 2545233735990589312 ...         nan      N/A      N/A"
      ]
     },
     "execution_count": 4,
     "metadata": {},
     "output_type": "execute_result"
    }
   ],
   "source": [
    "k2_data[:5]"
   ]
  },
  {
   "cell_type": "markdown",
   "metadata": {},
   "source": [
    "convert table to pandas"
   ]
  },
  {
   "cell_type": "code",
   "execution_count": 5,
   "metadata": {
    "ExecuteTime": {
     "end_time": "2018-05-01T05:09:35.564320Z",
     "start_time": "2018-05-01T05:09:34.076479Z"
    },
    "scrolled": true
   },
   "outputs": [
    {
     "data": {
      "text/html": [
       "<div>\n",
       "<style>\n",
       "    .dataframe thead tr:only-child th {\n",
       "        text-align: right;\n",
       "    }\n",
       "\n",
       "    .dataframe thead th {\n",
       "        text-align: left;\n",
       "    }\n",
       "\n",
       "    .dataframe tbody tr th {\n",
       "        vertical-align: top;\n",
       "    }\n",
       "</style>\n",
       "<table border=\"1\" class=\"dataframe\">\n",
       "  <thead>\n",
       "    <tr style=\"text-align: right;\">\n",
       "      <th></th>\n",
       "      <th>angDist</th>\n",
       "      <th>epic_number</th>\n",
       "      <th>source_id</th>\n",
       "      <th>ra_gaia</th>\n",
       "      <th>ra_error</th>\n",
       "      <th>dec_gaia</th>\n",
       "      <th>dec_error</th>\n",
       "      <th>parallax</th>\n",
       "      <th>parallax_error</th>\n",
       "      <th>pmra</th>\n",
       "      <th>...</th>\n",
       "      <th>k2_metfeerr1</th>\n",
       "      <th>k2_metfeerr2</th>\n",
       "      <th>k2_rad</th>\n",
       "      <th>k2_raderr1</th>\n",
       "      <th>k2_raderr2</th>\n",
       "      <th>k2_mass</th>\n",
       "      <th>k2_masserr1</th>\n",
       "      <th>k2_masserr2</th>\n",
       "      <th>k2c_disp</th>\n",
       "      <th>k2c_note</th>\n",
       "    </tr>\n",
       "  </thead>\n",
       "  <tbody>\n",
       "    <tr>\n",
       "      <th>0</th>\n",
       "      <td>0.140345</td>\n",
       "      <td>60017806.0</td>\n",
       "      <td>2.641087e+18</td>\n",
       "      <td>353.616269</td>\n",
       "      <td>0.0348</td>\n",
       "      <td>-1.579985</td>\n",
       "      <td>0.0279</td>\n",
       "      <td>2.8413</td>\n",
       "      <td>0.0455</td>\n",
       "      <td>22.318</td>\n",
       "      <td>...</td>\n",
       "      <td>NaN</td>\n",
       "      <td>NaN</td>\n",
       "      <td>NaN</td>\n",
       "      <td>NaN</td>\n",
       "      <td>NaN</td>\n",
       "      <td>NaN</td>\n",
       "      <td>NaN</td>\n",
       "      <td>NaN</td>\n",
       "      <td>N/A</td>\n",
       "      <td>N/A</td>\n",
       "    </tr>\n",
       "    <tr>\n",
       "      <th>1</th>\n",
       "      <td>0.216363</td>\n",
       "      <td>60017809.0</td>\n",
       "      <td>2.634212e+18</td>\n",
       "      <td>352.388214</td>\n",
       "      <td>0.0420</td>\n",
       "      <td>-3.768873</td>\n",
       "      <td>0.0314</td>\n",
       "      <td>3.2603</td>\n",
       "      <td>0.0465</td>\n",
       "      <td>19.415</td>\n",
       "      <td>...</td>\n",
       "      <td>NaN</td>\n",
       "      <td>NaN</td>\n",
       "      <td>NaN</td>\n",
       "      <td>NaN</td>\n",
       "      <td>NaN</td>\n",
       "      <td>NaN</td>\n",
       "      <td>NaN</td>\n",
       "      <td>NaN</td>\n",
       "      <td>N/A</td>\n",
       "      <td>N/A</td>\n",
       "    </tr>\n",
       "    <tr>\n",
       "      <th>2</th>\n",
       "      <td>3.656256</td>\n",
       "      <td>60017810.0</td>\n",
       "      <td>2.740067e+18</td>\n",
       "      <td>1.157287</td>\n",
       "      <td>0.4801</td>\n",
       "      <td>3.549367</td>\n",
       "      <td>0.2785</td>\n",
       "      <td>1.3113</td>\n",
       "      <td>0.6026</td>\n",
       "      <td>-3.077</td>\n",
       "      <td>...</td>\n",
       "      <td>NaN</td>\n",
       "      <td>NaN</td>\n",
       "      <td>NaN</td>\n",
       "      <td>NaN</td>\n",
       "      <td>NaN</td>\n",
       "      <td>NaN</td>\n",
       "      <td>NaN</td>\n",
       "      <td>NaN</td>\n",
       "      <td>N/A</td>\n",
       "      <td>N/A</td>\n",
       "    </tr>\n",
       "    <tr>\n",
       "      <th>3</th>\n",
       "      <td>0.319951</td>\n",
       "      <td>60017810.0</td>\n",
       "      <td>2.740067e+18</td>\n",
       "      <td>1.157646</td>\n",
       "      <td>0.0410</td>\n",
       "      <td>3.550331</td>\n",
       "      <td>0.0213</td>\n",
       "      <td>1.2328</td>\n",
       "      <td>0.0392</td>\n",
       "      <td>-5.213</td>\n",
       "      <td>...</td>\n",
       "      <td>NaN</td>\n",
       "      <td>NaN</td>\n",
       "      <td>NaN</td>\n",
       "      <td>NaN</td>\n",
       "      <td>NaN</td>\n",
       "      <td>NaN</td>\n",
       "      <td>NaN</td>\n",
       "      <td>NaN</td>\n",
       "      <td>N/A</td>\n",
       "      <td>N/A</td>\n",
       "    </tr>\n",
       "    <tr>\n",
       "      <th>4</th>\n",
       "      <td>0.182060</td>\n",
       "      <td>60017812.0</td>\n",
       "      <td>2.545234e+18</td>\n",
       "      <td>4.170978</td>\n",
       "      <td>0.0642</td>\n",
       "      <td>-0.157038</td>\n",
       "      <td>0.0452</td>\n",
       "      <td>1.5988</td>\n",
       "      <td>0.0768</td>\n",
       "      <td>9.383</td>\n",
       "      <td>...</td>\n",
       "      <td>NaN</td>\n",
       "      <td>NaN</td>\n",
       "      <td>NaN</td>\n",
       "      <td>NaN</td>\n",
       "      <td>NaN</td>\n",
       "      <td>NaN</td>\n",
       "      <td>NaN</td>\n",
       "      <td>NaN</td>\n",
       "      <td>N/A</td>\n",
       "      <td>N/A</td>\n",
       "    </tr>\n",
       "  </tbody>\n",
       "</table>\n",
       "<p>5 rows × 54 columns</p>\n",
       "</div>"
      ],
      "text/plain": [
       "    angDist  epic_number     source_id     ra_gaia  ra_error  dec_gaia  \\\n",
       "0  0.140345   60017806.0  2.641087e+18  353.616269    0.0348 -1.579985   \n",
       "1  0.216363   60017809.0  2.634212e+18  352.388214    0.0420 -3.768873   \n",
       "2  3.656256   60017810.0  2.740067e+18    1.157287    0.4801  3.549367   \n",
       "3  0.319951   60017810.0  2.740067e+18    1.157646    0.0410  3.550331   \n",
       "4  0.182060   60017812.0  2.545234e+18    4.170978    0.0642 -0.157038   \n",
       "\n",
       "   dec_error  parallax  parallax_error    pmra    ...     k2_metfeerr1  \\\n",
       "0     0.0279    2.8413          0.0455  22.318    ...              NaN   \n",
       "1     0.0314    3.2603          0.0465  19.415    ...              NaN   \n",
       "2     0.2785    1.3113          0.6026  -3.077    ...              NaN   \n",
       "3     0.0213    1.2328          0.0392  -5.213    ...              NaN   \n",
       "4     0.0452    1.5988          0.0768   9.383    ...              NaN   \n",
       "\n",
       "   k2_metfeerr2  k2_rad  k2_raderr1  k2_raderr2  k2_mass  k2_masserr1  \\\n",
       "0           NaN     NaN         NaN         NaN      NaN          NaN   \n",
       "1           NaN     NaN         NaN         NaN      NaN          NaN   \n",
       "2           NaN     NaN         NaN         NaN      NaN          NaN   \n",
       "3           NaN     NaN         NaN         NaN      NaN          NaN   \n",
       "4           NaN     NaN         NaN         NaN      NaN          NaN   \n",
       "\n",
       "   k2_masserr2  k2c_disp  k2c_note  \n",
       "0          NaN       N/A       N/A  \n",
       "1          NaN       N/A       N/A  \n",
       "2          NaN       N/A       N/A  \n",
       "3          NaN       N/A       N/A  \n",
       "4          NaN       N/A       N/A  \n",
       "\n",
       "[5 rows x 54 columns]"
      ]
     },
     "execution_count": 5,
     "metadata": {},
     "output_type": "execute_result"
    }
   ],
   "source": [
    "df1 = k2_data.to_pandas()\n",
    "df1.head()"
   ]
  },
  {
   "cell_type": "code",
   "execution_count": 6,
   "metadata": {
    "ExecuteTime": {
     "end_time": "2018-05-01T05:09:35.576634Z",
     "start_time": "2018-05-01T05:09:35.568637Z"
    },
    "scrolled": true
   },
   "outputs": [
    {
     "data": {
      "text/plain": [
       "(364664, 54)"
      ]
     },
     "execution_count": 6,
     "metadata": {},
     "output_type": "execute_result"
    }
   ],
   "source": [
    "df1.shape"
   ]
  },
  {
   "cell_type": "code",
   "execution_count": 7,
   "metadata": {
    "ExecuteTime": {
     "end_time": "2018-05-01T05:09:36.112731Z",
     "start_time": "2018-05-01T05:09:35.580739Z"
    }
   },
   "outputs": [
    {
     "data": {
      "text/plain": [
       "array(['CANDIDATE', 'CONFIRMED', 'FALSE POSITIVE', 'N/A'], dtype=object)"
      ]
     },
     "execution_count": 7,
     "metadata": {},
     "output_type": "execute_result"
    }
   ],
   "source": [
    "np.unique(df1['k2c_disp'])"
   ]
  },
  {
   "cell_type": "code",
   "execution_count": 8,
   "metadata": {
    "ExecuteTime": {
     "end_time": "2018-05-01T05:09:36.122305Z",
     "start_time": "2018-05-01T05:09:36.115748Z"
    }
   },
   "outputs": [
    {
     "data": {
      "text/plain": [
       "Index(['angDist', 'epic_number', 'source_id', 'ra_gaia', 'ra_error',\n",
       "       'dec_gaia', 'dec_error', 'parallax', 'parallax_error', 'pmra',\n",
       "       'pmra_error', 'pmdec', 'pmdec_error', 'phot_g_mean_flux',\n",
       "       'phot_g_mean_flux_error', 'phot_g_mean_mag', 'phot_bp_mean_flux',\n",
       "       'phot_bp_mean_flux_error', 'phot_bp_mean_mag', 'phot_rp_mean_flux',\n",
       "       'phot_rp_mean_flux_error', 'phot_rp_mean_mag', 'bp_rp',\n",
       "       'radial_velocity', 'radial_velocity_error', 'teff_val', 'a_g_val',\n",
       "       'e_bp_min_rp_val', 'radius_val', 'lum_val', 'tm_name',\n",
       "       'k2_campaign_str', 'k2_type', 'ra_nasa', 'dec_nasa', 'k2_lcflag',\n",
       "       'k2_scflag', 'k2_teff', 'k2_tefferr1', 'k2_tefferr2', 'k2_logg',\n",
       "       'k2_loggerr1', 'k2_loggerr2', 'k2_metfe', 'k2_metfeerr1',\n",
       "       'k2_metfeerr2', 'k2_rad', 'k2_raderr1', 'k2_raderr2', 'k2_mass',\n",
       "       'k2_masserr1', 'k2_masserr2', 'k2c_disp', 'k2c_note'],\n",
       "      dtype='object')"
      ]
     },
     "execution_count": 8,
     "metadata": {},
     "output_type": "execute_result"
    }
   ],
   "source": [
    "df1.columns"
   ]
  },
  {
   "cell_type": "code",
   "execution_count": 9,
   "metadata": {
    "ExecuteTime": {
     "end_time": "2018-05-01T05:09:36.155457Z",
     "start_time": "2018-05-01T05:09:36.126122Z"
    },
    "collapsed": true
   },
   "outputs": [],
   "source": [
    "df1['epic_number'] = df1['epic_number'].astype(int)"
   ]
  },
  {
   "cell_type": "markdown",
   "metadata": {},
   "source": [
    "## Mayo+2018 FPP\n",
    "The table is not yet available in Vizier, using [astropy.astroquery.Vizier](http://astroquery.readthedocs.io/en/latest/vizier/vizier.html)\n",
    "\n",
    "* fetch [Table 2](https://gateway.itc.u-tokyo.ac.jp/1538-3881/155/3/136/suppdata/,DanaInfo=iopscience.iop.org+ajaaadfft2_mrt.txt) of [Mayo+2018](http://iopscience.iop.org/article/10.3847/1538-3881/aaadff/pdf) (needs VPN!).\n",
    "* same table available in [Gsheet](https://docs.google.com/spreadsheets/d/1dwharWE3yrIzpoxeAMbK5IA3gZtooSGK8UdZWeNvztU/edit#gid=0) where empty cells are filled with NaNs\n",
    "* other potential lists: [Huber+2016](http://adsabs.harvard.edu/abs/2015arXiv151202643H)"
   ]
  },
  {
   "cell_type": "raw",
   "metadata": {
    "ExecuteTime": {
     "end_time": "2018-04-30T09:47:17.479172Z",
     "start_time": "2018-04-30T09:47:15.763359Z"
    }
   },
   "source": [
    "from astroquery.vizier import Vizier\n",
    "\n",
    "#title='The K2 Ecliptic Plane Input Catalog (EPIC) and Stellar Classifications of 138,600 Targets in Campaigns 1-8'\n",
    "title='K2 Campaigns 0-10 May 2018'\n",
    "Vizier.ROW_LIMIT = -1\n",
    "catalog_list = Vizier.find_catalogs(title)\n",
    "print({k:v.description for k,v in catalog_list.items()})"
   ]
  },
  {
   "cell_type": "raw",
   "metadata": {
    "collapsed": true
   },
   "source": [
    "catalogs = Vizier.get_catalogs(catalog_list.keys())"
   ]
  },
  {
   "cell_type": "raw",
   "metadata": {},
   "source": [
    "print(catalogs)"
   ]
  },
  {
   "cell_type": "raw",
   "metadata": {},
   "source": [
    "fpp = catalogs[2]\n",
    "fpp[:5]"
   ]
  },
  {
   "cell_type": "code",
   "execution_count": 10,
   "metadata": {
    "ExecuteTime": {
     "end_time": "2018-05-01T05:09:36.210607Z",
     "start_time": "2018-05-01T05:09:36.162322Z"
    }
   },
   "outputs": [
    {
     "data": {
      "text/html": [
       "<div>\n",
       "<style>\n",
       "    .dataframe thead tr:only-child th {\n",
       "        text-align: right;\n",
       "    }\n",
       "\n",
       "    .dataframe thead th {\n",
       "        text-align: left;\n",
       "    }\n",
       "\n",
       "    .dataframe tbody tr th {\n",
       "        vertical-align: top;\n",
       "    }\n",
       "</style>\n",
       "<table border=\"1\" class=\"dataframe\">\n",
       "  <thead>\n",
       "    <tr style=\"text-align: right;\">\n",
       "      <th></th>\n",
       "      <th>K2</th>\n",
       "      <th>EPIC</th>\n",
       "      <th>T0</th>\n",
       "      <th>E_T0</th>\n",
       "      <th>e_T0</th>\n",
       "      <th>P</th>\n",
       "      <th>E_P</th>\n",
       "      <th>e_P</th>\n",
       "      <th>a/R*</th>\n",
       "      <th>E_a/R*</th>\n",
       "      <th>...</th>\n",
       "      <th>R*</th>\n",
       "      <th>E_R*</th>\n",
       "      <th>e_R*</th>\n",
       "      <th>M*</th>\n",
       "      <th>E_M*</th>\n",
       "      <th>e_M*</th>\n",
       "      <th>Kpmag</th>\n",
       "      <th>FPP</th>\n",
       "      <th>Disp</th>\n",
       "      <th>Note</th>\n",
       "    </tr>\n",
       "  </thead>\n",
       "  <tbody>\n",
       "    <tr>\n",
       "      <th>0</th>\n",
       "      <td>NaN</td>\n",
       "      <td>2.011116e+08</td>\n",
       "      <td>2750.1621</td>\n",
       "      <td>0.0021</td>\n",
       "      <td>0.0021</td>\n",
       "      <td>2.302370</td>\n",
       "      <td>0.000110</td>\n",
       "      <td>0.000100</td>\n",
       "      <td>12.60</td>\n",
       "      <td>2.80</td>\n",
       "      <td>...</td>\n",
       "      <td>0.711</td>\n",
       "      <td>0.019</td>\n",
       "      <td>0.020</td>\n",
       "      <td>0.746</td>\n",
       "      <td>0.023</td>\n",
       "      <td>0.023</td>\n",
       "      <td>11.363</td>\n",
       "      <td>1.22E-03</td>\n",
       "      <td>Candidate</td>\n",
       "      <td>NaN</td>\n",
       "    </tr>\n",
       "    <tr>\n",
       "      <th>1</th>\n",
       "      <td>NaN</td>\n",
       "      <td>2.011275e+08</td>\n",
       "      <td>2752.5513</td>\n",
       "      <td>0.0011</td>\n",
       "      <td>0.0012</td>\n",
       "      <td>6.178370</td>\n",
       "      <td>0.000190</td>\n",
       "      <td>0.000170</td>\n",
       "      <td>17.30</td>\n",
       "      <td>1.10</td>\n",
       "      <td>...</td>\n",
       "      <td>0.789</td>\n",
       "      <td>0.025</td>\n",
       "      <td>0.017</td>\n",
       "      <td>0.857</td>\n",
       "      <td>0.021</td>\n",
       "      <td>0.023</td>\n",
       "      <td>11.558</td>\n",
       "      <td>NaN</td>\n",
       "      <td>Candidate</td>\n",
       "      <td>c</td>\n",
       "    </tr>\n",
       "    <tr>\n",
       "      <th>2</th>\n",
       "      <td>K2-157b</td>\n",
       "      <td>2.011302e+08</td>\n",
       "      <td>2749.8239</td>\n",
       "      <td>0.0032</td>\n",
       "      <td>0.0033</td>\n",
       "      <td>0.365257</td>\n",
       "      <td>0.000029</td>\n",
       "      <td>0.000029</td>\n",
       "      <td>1.88</td>\n",
       "      <td>0.32</td>\n",
       "      <td>...</td>\n",
       "      <td>0.876</td>\n",
       "      <td>0.045</td>\n",
       "      <td>0.025</td>\n",
       "      <td>0.940</td>\n",
       "      <td>0.023</td>\n",
       "      <td>0.027</td>\n",
       "      <td>12.604</td>\n",
       "      <td>&lt;1.00E-04</td>\n",
       "      <td>Planet</td>\n",
       "      <td>NaN</td>\n",
       "    </tr>\n",
       "    <tr>\n",
       "      <th>3</th>\n",
       "      <td>K2-158b</td>\n",
       "      <td>2.011327e+08</td>\n",
       "      <td>2757.4817</td>\n",
       "      <td>0.0096</td>\n",
       "      <td>0.0092</td>\n",
       "      <td>10.062100</td>\n",
       "      <td>0.002300</td>\n",
       "      <td>0.002200</td>\n",
       "      <td>17.60</td>\n",
       "      <td>2.90</td>\n",
       "      <td>...</td>\n",
       "      <td>0.892</td>\n",
       "      <td>0.074</td>\n",
       "      <td>0.036</td>\n",
       "      <td>0.933</td>\n",
       "      <td>0.027</td>\n",
       "      <td>0.030</td>\n",
       "      <td>11.678</td>\n",
       "      <td>&lt;1.00E-04</td>\n",
       "      <td>Planet</td>\n",
       "      <td>NaN</td>\n",
       "    </tr>\n",
       "    <tr>\n",
       "      <th>4</th>\n",
       "      <td>NaN</td>\n",
       "      <td>2.011667e+08</td>\n",
       "      <td>2765.1930</td>\n",
       "      <td>0.0210</td>\n",
       "      <td>0.0160</td>\n",
       "      <td>18.105000</td>\n",
       "      <td>0.010000</td>\n",
       "      <td>0.013000</td>\n",
       "      <td>26.30</td>\n",
       "      <td>5.30</td>\n",
       "      <td>...</td>\n",
       "      <td>1.220</td>\n",
       "      <td>0.120</td>\n",
       "      <td>0.070</td>\n",
       "      <td>1.192</td>\n",
       "      <td>0.033</td>\n",
       "      <td>0.030</td>\n",
       "      <td>10.897</td>\n",
       "      <td>1.73E-03</td>\n",
       "      <td>Candidate</td>\n",
       "      <td>NaN</td>\n",
       "    </tr>\n",
       "  </tbody>\n",
       "</table>\n",
       "<p>5 rows × 30 columns</p>\n",
       "</div>"
      ],
      "text/plain": [
       "        K2          EPIC         T0    E_T0    e_T0          P       E_P  \\\n",
       "0      NaN  2.011116e+08  2750.1621  0.0021  0.0021   2.302370  0.000110   \n",
       "1      NaN  2.011275e+08  2752.5513  0.0011  0.0012   6.178370  0.000190   \n",
       "2  K2-157b  2.011302e+08  2749.8239  0.0032  0.0033   0.365257  0.000029   \n",
       "3  K2-158b  2.011327e+08  2757.4817  0.0096  0.0092  10.062100  0.002300   \n",
       "4      NaN  2.011667e+08  2765.1930  0.0210  0.0160  18.105000  0.010000   \n",
       "\n",
       "        e_P   a/R*  E_a/R*  ...      R*   E_R*   e_R*     M*   E_M*   e_M*  \\\n",
       "0  0.000100  12.60    2.80  ...   0.711  0.019  0.020  0.746  0.023  0.023   \n",
       "1  0.000170  17.30    1.10  ...   0.789  0.025  0.017  0.857  0.021  0.023   \n",
       "2  0.000029   1.88    0.32  ...   0.876  0.045  0.025  0.940  0.023  0.027   \n",
       "3  0.002200  17.60    2.90  ...   0.892  0.074  0.036  0.933  0.027  0.030   \n",
       "4  0.013000  26.30    5.30  ...   1.220  0.120  0.070  1.192  0.033  0.030   \n",
       "\n",
       "    Kpmag        FPP       Disp  Note  \n",
       "0  11.363   1.22E-03  Candidate   NaN  \n",
       "1  11.558        NaN  Candidate     c  \n",
       "2  12.604  <1.00E-04     Planet   NaN  \n",
       "3  11.678  <1.00E-04     Planet   NaN  \n",
       "4  10.897   1.73E-03  Candidate   NaN  \n",
       "\n",
       "[5 rows x 30 columns]"
      ]
     },
     "execution_count": 10,
     "metadata": {},
     "output_type": "execute_result"
    }
   ],
   "source": [
    "import pandas as pd\n",
    "colnames = 'K2,EPIC,T0,E_T0,e_T0,P,E_P,e_P,a/R*,E_a/R*,e_a/R*,inc,E_inc,e_inc,Rp/R*,E_Rp/R*,e_Rp/R*,Rp/Re,E_Rp/Re,e_Rp/Re,R*,E_R*,e_R*,M*,E_M*,e_M*,Kpmag,FPP,Disp,Note'.split(',')\n",
    "\n",
    "fname='../data/Mayo2018_table2_filled_NaNs.txt'\n",
    "df2=pd.read_csv(fname,skiprows=65,delim_whitespace=True)\n",
    "df2.columns = colnames\n",
    "df2.head()"
   ]
  },
  {
   "cell_type": "code",
   "execution_count": 11,
   "metadata": {
    "ExecuteTime": {
     "end_time": "2018-05-01T05:09:36.223178Z",
     "start_time": "2018-05-01T05:09:36.214890Z"
    }
   },
   "outputs": [
    {
     "data": {
      "text/plain": [
       "Index(['K2', 'EPIC', 'T0', 'E_T0', 'e_T0', 'P', 'E_P', 'e_P', 'a/R*', 'E_a/R*',\n",
       "       'e_a/R*', 'inc', 'E_inc', 'e_inc', 'Rp/R*', 'E_Rp/R*', 'e_Rp/R*',\n",
       "       'Rp/Re', 'E_Rp/Re', 'e_Rp/Re', 'R*', 'E_R*', 'e_R*', 'M*', 'E_M*',\n",
       "       'e_M*', 'Kpmag', 'FPP', 'Disp', 'Note'],\n",
       "      dtype='object')"
      ]
     },
     "execution_count": 11,
     "metadata": {},
     "output_type": "execute_result"
    }
   ],
   "source": [
    "df2.columns"
   ]
  },
  {
   "cell_type": "code",
   "execution_count": 12,
   "metadata": {
    "ExecuteTime": {
     "end_time": "2018-05-01T05:09:36.232707Z",
     "start_time": "2018-05-01T05:09:36.226855Z"
    },
    "collapsed": true
   },
   "outputs": [],
   "source": [
    "df2['epic_number'] = df2['EPIC'].astype(int)"
   ]
  },
  {
   "cell_type": "markdown",
   "metadata": {},
   "source": [
    "## NExSci \n",
    "\n",
    "* fetch K2 candidate planet properties from [nexsci](https://exoplanetarchive.ipac.caltech.edu/docs/program_interfaces.html) ([csv](https://exoplanetarchive.ipac.caltech.edu/cgi-bin/nstedAPI/nph-nstedAPI?table=k2candidates)).\n",
    "* [Interactive table](https://exoplanetarchive.ipac.caltech.edu/cgi-bin/TblView/nph-tblView?app=ExoTbls&config=k2candidates)"
   ]
  },
  {
   "cell_type": "code",
   "execution_count": 13,
   "metadata": {
    "ExecuteTime": {
     "end_time": "2018-05-01T05:09:36.295289Z",
     "start_time": "2018-05-01T05:09:36.236763Z"
    }
   },
   "outputs": [
    {
     "data": {
      "text/plain": [
       "(1417, 149)"
      ]
     },
     "execution_count": 13,
     "metadata": {},
     "output_type": "execute_result"
    }
   ],
   "source": [
    "import pandas as pd\n",
    "\n",
    "refresh = False\n",
    "\n",
    "fname = '../data/k2_candidate_nexsci.csv'\n",
    "if refresh:\n",
    "    epic_link='https://exoplanetarchive.ipac.caltech.edu/cgi-bin/nstedAPI/nph-nstedAPI?table=k2candidates&select=*'\n",
    "    epic = pd.read_csv(koi_link)\n",
    "    epic.to_csv(fname)\n",
    "else:\n",
    "    epic = pd.read_csv(fname)\n",
    "    \n",
    "epic.shape"
   ]
  },
  {
   "cell_type": "code",
   "execution_count": 14,
   "metadata": {
    "ExecuteTime": {
     "end_time": "2018-05-01T05:09:36.351009Z",
     "start_time": "2018-05-01T05:09:36.297702Z"
    },
    "scrolled": false
   },
   "outputs": [
    {
     "data": {
      "text/html": [
       "<div>\n",
       "<style>\n",
       "    .dataframe thead tr:only-child th {\n",
       "        text-align: right;\n",
       "    }\n",
       "\n",
       "    .dataframe thead th {\n",
       "        text-align: left;\n",
       "    }\n",
       "\n",
       "    .dataframe tbody tr th {\n",
       "        vertical-align: top;\n",
       "    }\n",
       "</style>\n",
       "<table border=\"1\" class=\"dataframe\">\n",
       "  <thead>\n",
       "    <tr style=\"text-align: right;\">\n",
       "      <th></th>\n",
       "      <th>epic_name</th>\n",
       "      <th>tm_name</th>\n",
       "      <th>epic_candname</th>\n",
       "      <th>pl_name</th>\n",
       "      <th>ra</th>\n",
       "      <th>ra_err</th>\n",
       "      <th>ra_str</th>\n",
       "      <th>dec</th>\n",
       "      <th>dec_err</th>\n",
       "      <th>dec_str</th>\n",
       "      <th>...</th>\n",
       "      <th>pl_radjlim</th>\n",
       "      <th>pl_rade</th>\n",
       "      <th>pl_radeerr1</th>\n",
       "      <th>pl_radeerr2</th>\n",
       "      <th>pl_radelim</th>\n",
       "      <th>pl_eqt</th>\n",
       "      <th>pl_eqterr1</th>\n",
       "      <th>pl_eqterr2</th>\n",
       "      <th>pl_eqtlim</th>\n",
       "      <th>pl_tranflag</th>\n",
       "    </tr>\n",
       "  </thead>\n",
       "  <tbody>\n",
       "    <tr>\n",
       "      <th>1412</th>\n",
       "      <td>EPIC 218170789</td>\n",
       "      <td>2MASS J18510667-1917041</td>\n",
       "      <td>EPIC 218170789.01</td>\n",
       "      <td>NaN</td>\n",
       "      <td>282.777832</td>\n",
       "      <td>0.0</td>\n",
       "      <td>18h51m06.68s</td>\n",
       "      <td>-19.284481</td>\n",
       "      <td>0.0</td>\n",
       "      <td>-19d17m04.1s</td>\n",
       "      <td>...</td>\n",
       "      <td>0.0</td>\n",
       "      <td>8.989</td>\n",
       "      <td>15.062</td>\n",
       "      <td>-5.040</td>\n",
       "      <td>0.0</td>\n",
       "      <td>NaN</td>\n",
       "      <td>NaN</td>\n",
       "      <td>NaN</td>\n",
       "      <td>NaN</td>\n",
       "      <td>1.0</td>\n",
       "    </tr>\n",
       "    <tr>\n",
       "      <th>1413</th>\n",
       "      <td>EPIC 218304292</td>\n",
       "      <td>2MASS J19125385-1902401</td>\n",
       "      <td>EPIC 218304292.01</td>\n",
       "      <td>NaN</td>\n",
       "      <td>288.224426</td>\n",
       "      <td>0.0</td>\n",
       "      <td>19h12m53.86s</td>\n",
       "      <td>-19.044497</td>\n",
       "      <td>0.0</td>\n",
       "      <td>-19d02m40.2s</td>\n",
       "      <td>...</td>\n",
       "      <td>0.0</td>\n",
       "      <td>3.458</td>\n",
       "      <td>0.836</td>\n",
       "      <td>-0.529</td>\n",
       "      <td>0.0</td>\n",
       "      <td>NaN</td>\n",
       "      <td>NaN</td>\n",
       "      <td>NaN</td>\n",
       "      <td>NaN</td>\n",
       "      <td>1.0</td>\n",
       "    </tr>\n",
       "    <tr>\n",
       "      <th>1414</th>\n",
       "      <td>EPIC 218668602</td>\n",
       "      <td>2MASS J18480209-1822454</td>\n",
       "      <td>EPIC 218668602.01</td>\n",
       "      <td>NaN</td>\n",
       "      <td>282.008728</td>\n",
       "      <td>0.0</td>\n",
       "      <td>18h48m02.09s</td>\n",
       "      <td>-18.379305</td>\n",
       "      <td>0.0</td>\n",
       "      <td>-18d22m45.5s</td>\n",
       "      <td>...</td>\n",
       "      <td>0.0</td>\n",
       "      <td>1.859</td>\n",
       "      <td>0.295</td>\n",
       "      <td>-0.143</td>\n",
       "      <td>0.0</td>\n",
       "      <td>NaN</td>\n",
       "      <td>NaN</td>\n",
       "      <td>NaN</td>\n",
       "      <td>NaN</td>\n",
       "      <td>1.0</td>\n",
       "    </tr>\n",
       "    <tr>\n",
       "      <th>1415</th>\n",
       "      <td>EPIC 218916923</td>\n",
       "      <td>2MASS J19161596-1754384</td>\n",
       "      <td>EPIC 218916923.01</td>\n",
       "      <td>K2-139 b</td>\n",
       "      <td>289.066528</td>\n",
       "      <td>0.0</td>\n",
       "      <td>19h16m15.97s</td>\n",
       "      <td>-17.910688</td>\n",
       "      <td>0.0</td>\n",
       "      <td>-17d54m38.5s</td>\n",
       "      <td>...</td>\n",
       "      <td>0.0</td>\n",
       "      <td>9.268</td>\n",
       "      <td>0.422</td>\n",
       "      <td>-0.306</td>\n",
       "      <td>0.0</td>\n",
       "      <td>NaN</td>\n",
       "      <td>NaN</td>\n",
       "      <td>NaN</td>\n",
       "      <td>NaN</td>\n",
       "      <td>1.0</td>\n",
       "    </tr>\n",
       "    <tr>\n",
       "      <th>1416</th>\n",
       "      <td>EPIC 219388192</td>\n",
       "      <td>2MASS J19173402-1652177</td>\n",
       "      <td>EPIC 219388192.01</td>\n",
       "      <td>NaN</td>\n",
       "      <td>289.391815</td>\n",
       "      <td>0.0</td>\n",
       "      <td>19h17m34.04s</td>\n",
       "      <td>-16.871611</td>\n",
       "      <td>0.0</td>\n",
       "      <td>-16d52m17.8s</td>\n",
       "      <td>...</td>\n",
       "      <td>0.0</td>\n",
       "      <td>9.978</td>\n",
       "      <td>0.913</td>\n",
       "      <td>-0.466</td>\n",
       "      <td>0.0</td>\n",
       "      <td>NaN</td>\n",
       "      <td>NaN</td>\n",
       "      <td>NaN</td>\n",
       "      <td>NaN</td>\n",
       "      <td>1.0</td>\n",
       "    </tr>\n",
       "  </tbody>\n",
       "</table>\n",
       "<p>5 rows × 149 columns</p>\n",
       "</div>"
      ],
      "text/plain": [
       "           epic_name                  tm_name      epic_candname   pl_name  \\\n",
       "1412  EPIC 218170789  2MASS J18510667-1917041  EPIC 218170789.01       NaN   \n",
       "1413  EPIC 218304292  2MASS J19125385-1902401  EPIC 218304292.01       NaN   \n",
       "1414  EPIC 218668602  2MASS J18480209-1822454  EPIC 218668602.01       NaN   \n",
       "1415  EPIC 218916923  2MASS J19161596-1754384  EPIC 218916923.01  K2-139 b   \n",
       "1416  EPIC 219388192  2MASS J19173402-1652177  EPIC 219388192.01       NaN   \n",
       "\n",
       "              ra  ra_err        ra_str        dec  dec_err       dec_str  \\\n",
       "1412  282.777832     0.0  18h51m06.68s -19.284481      0.0  -19d17m04.1s   \n",
       "1413  288.224426     0.0  19h12m53.86s -19.044497      0.0  -19d02m40.2s   \n",
       "1414  282.008728     0.0  18h48m02.09s -18.379305      0.0  -18d22m45.5s   \n",
       "1415  289.066528     0.0  19h16m15.97s -17.910688      0.0  -17d54m38.5s   \n",
       "1416  289.391815     0.0  19h17m34.04s -16.871611      0.0  -16d52m17.8s   \n",
       "\n",
       "         ...      pl_radjlim pl_rade pl_radeerr1 pl_radeerr2  pl_radelim  \\\n",
       "1412     ...             0.0   8.989      15.062      -5.040         0.0   \n",
       "1413     ...             0.0   3.458       0.836      -0.529         0.0   \n",
       "1414     ...             0.0   1.859       0.295      -0.143         0.0   \n",
       "1415     ...             0.0   9.268       0.422      -0.306         0.0   \n",
       "1416     ...             0.0   9.978       0.913      -0.466         0.0   \n",
       "\n",
       "      pl_eqt  pl_eqterr1  pl_eqterr2  pl_eqtlim  pl_tranflag  \n",
       "1412     NaN         NaN         NaN        NaN          1.0  \n",
       "1413     NaN         NaN         NaN        NaN          1.0  \n",
       "1414     NaN         NaN         NaN        NaN          1.0  \n",
       "1415     NaN         NaN         NaN        NaN          1.0  \n",
       "1416     NaN         NaN         NaN        NaN          1.0  \n",
       "\n",
       "[5 rows x 149 columns]"
      ]
     },
     "execution_count": 14,
     "metadata": {},
     "output_type": "execute_result"
    }
   ],
   "source": [
    "epic.tail()"
   ]
  },
  {
   "cell_type": "raw",
   "metadata": {
    "scrolled": false
   },
   "source": [
    "epic.columns"
   ]
  },
  {
   "cell_type": "code",
   "execution_count": 15,
   "metadata": {
    "ExecuteTime": {
     "end_time": "2018-05-01T05:09:36.362199Z",
     "start_time": "2018-05-01T05:09:36.354711Z"
    }
   },
   "outputs": [
    {
     "data": {
      "text/plain": [
       "array(['CANDIDATE', 'CONFIRMED', 'FALSE POSITIVE'], dtype=object)"
      ]
     },
     "execution_count": 15,
     "metadata": {},
     "output_type": "execute_result"
    }
   ],
   "source": [
    "np.unique(epic['k2c_disp'])"
   ]
  },
  {
   "cell_type": "code",
   "execution_count": 16,
   "metadata": {
    "ExecuteTime": {
     "end_time": "2018-05-01T05:09:36.374326Z",
     "start_time": "2018-05-01T05:09:36.364809Z"
    }
   },
   "outputs": [
    {
     "data": {
      "text/plain": [
       "(784, 149)"
      ]
     },
     "execution_count": 16,
     "metadata": {},
     "output_type": "execute_result"
    }
   ],
   "source": [
    "#get only candidates\n",
    "mask = epic['k2c_disp'] != 'CONFIRMED'\n",
    "df3 = epic[mask]\n",
    "df3.shape"
   ]
  },
  {
   "cell_type": "code",
   "execution_count": 17,
   "metadata": {
    "ExecuteTime": {
     "end_time": "2018-05-01T05:09:36.386106Z",
     "start_time": "2018-05-01T05:09:36.376787Z"
    }
   },
   "outputs": [
    {
     "name": "stderr",
     "output_type": "stream",
     "text": [
      "/home/prometheus/miniconda3/envs/astroconda/lib/python3.6/site-packages/ipykernel_launcher.py:1: UserWarning: Boolean Series key will be reindexed to match DataFrame index.\n",
      "  \"\"\"Entry point for launching an IPython kernel.\n"
     ]
    },
    {
     "data": {
      "text/plain": [
       "78"
      ]
     },
     "execution_count": 17,
     "metadata": {},
     "output_type": "execute_result"
    }
   ],
   "source": [
    "len(df3[epic['k2c_disp'] == 'FALSE POSITIVE'])"
   ]
  },
  {
   "cell_type": "code",
   "execution_count": 18,
   "metadata": {
    "ExecuteTime": {
     "end_time": "2018-05-01T05:09:36.441342Z",
     "start_time": "2018-05-01T05:09:36.391597Z"
    }
   },
   "outputs": [
    {
     "data": {
      "text/html": [
       "<div>\n",
       "<style>\n",
       "    .dataframe thead tr:only-child th {\n",
       "        text-align: right;\n",
       "    }\n",
       "\n",
       "    .dataframe thead th {\n",
       "        text-align: left;\n",
       "    }\n",
       "\n",
       "    .dataframe tbody tr th {\n",
       "        vertical-align: top;\n",
       "    }\n",
       "</style>\n",
       "<table border=\"1\" class=\"dataframe\">\n",
       "  <thead>\n",
       "    <tr style=\"text-align: right;\">\n",
       "      <th></th>\n",
       "      <th>epic_name</th>\n",
       "      <th>tm_name</th>\n",
       "      <th>epic_candname</th>\n",
       "      <th>pl_name</th>\n",
       "      <th>ra</th>\n",
       "      <th>ra_err</th>\n",
       "      <th>ra_str</th>\n",
       "      <th>dec</th>\n",
       "      <th>dec_err</th>\n",
       "      <th>dec_str</th>\n",
       "      <th>...</th>\n",
       "      <th>pl_radjlim</th>\n",
       "      <th>pl_rade</th>\n",
       "      <th>pl_radeerr1</th>\n",
       "      <th>pl_radeerr2</th>\n",
       "      <th>pl_radelim</th>\n",
       "      <th>pl_eqt</th>\n",
       "      <th>pl_eqterr1</th>\n",
       "      <th>pl_eqterr2</th>\n",
       "      <th>pl_eqtlim</th>\n",
       "      <th>pl_tranflag</th>\n",
       "    </tr>\n",
       "  </thead>\n",
       "  <tbody>\n",
       "    <tr>\n",
       "      <th>0</th>\n",
       "      <td>EPIC 205999468</td>\n",
       "      <td>2MASS J22213759-1450221</td>\n",
       "      <td>EPIC 205999468.01</td>\n",
       "      <td>NaN</td>\n",
       "      <td>335.406616</td>\n",
       "      <td>0.0</td>\n",
       "      <td>22h21m37.59s</td>\n",
       "      <td>-14.839480</td>\n",
       "      <td>0.0</td>\n",
       "      <td>-14d50m22.1s</td>\n",
       "      <td>...</td>\n",
       "      <td>0.0</td>\n",
       "      <td>2.16</td>\n",
       "      <td>NaN</td>\n",
       "      <td>NaN</td>\n",
       "      <td>0.0</td>\n",
       "      <td>NaN</td>\n",
       "      <td>NaN</td>\n",
       "      <td>NaN</td>\n",
       "      <td>NaN</td>\n",
       "      <td>1.0</td>\n",
       "    </tr>\n",
       "    <tr>\n",
       "      <th>4</th>\n",
       "      <td>EPIC 206011496</td>\n",
       "      <td>2MASS J22480755-1429407</td>\n",
       "      <td>EPIC 206011496.01</td>\n",
       "      <td>NaN</td>\n",
       "      <td>342.031525</td>\n",
       "      <td>0.0</td>\n",
       "      <td>22h48m07.57s</td>\n",
       "      <td>-14.494689</td>\n",
       "      <td>0.0</td>\n",
       "      <td>-14d29m40.9s</td>\n",
       "      <td>...</td>\n",
       "      <td>0.0</td>\n",
       "      <td>1.63</td>\n",
       "      <td>NaN</td>\n",
       "      <td>NaN</td>\n",
       "      <td>0.0</td>\n",
       "      <td>NaN</td>\n",
       "      <td>NaN</td>\n",
       "      <td>NaN</td>\n",
       "      <td>NaN</td>\n",
       "      <td>1.0</td>\n",
       "    </tr>\n",
       "    <tr>\n",
       "      <th>7</th>\n",
       "      <td>EPIC 206024342</td>\n",
       "      <td>2MASS J22050653-1407180</td>\n",
       "      <td>EPIC 206024342.01</td>\n",
       "      <td>NaN</td>\n",
       "      <td>331.277222</td>\n",
       "      <td>0.0</td>\n",
       "      <td>22h05m06.53s</td>\n",
       "      <td>-14.121665</td>\n",
       "      <td>0.0</td>\n",
       "      <td>-14d07m18.0s</td>\n",
       "      <td>...</td>\n",
       "      <td>0.0</td>\n",
       "      <td>2.94</td>\n",
       "      <td>NaN</td>\n",
       "      <td>NaN</td>\n",
       "      <td>0.0</td>\n",
       "      <td>NaN</td>\n",
       "      <td>NaN</td>\n",
       "      <td>NaN</td>\n",
       "      <td>NaN</td>\n",
       "      <td>1.0</td>\n",
       "    </tr>\n",
       "    <tr>\n",
       "      <th>8</th>\n",
       "      <td>EPIC 206024342</td>\n",
       "      <td>2MASS J22050653-1407180</td>\n",
       "      <td>EPIC 206024342.02</td>\n",
       "      <td>NaN</td>\n",
       "      <td>331.277222</td>\n",
       "      <td>0.0</td>\n",
       "      <td>22h05m06.53s</td>\n",
       "      <td>-14.121665</td>\n",
       "      <td>0.0</td>\n",
       "      <td>-14d07m18.0s</td>\n",
       "      <td>...</td>\n",
       "      <td>0.0</td>\n",
       "      <td>1.35</td>\n",
       "      <td>NaN</td>\n",
       "      <td>NaN</td>\n",
       "      <td>0.0</td>\n",
       "      <td>NaN</td>\n",
       "      <td>NaN</td>\n",
       "      <td>NaN</td>\n",
       "      <td>NaN</td>\n",
       "      <td>1.0</td>\n",
       "    </tr>\n",
       "    <tr>\n",
       "      <th>15</th>\n",
       "      <td>EPIC 206028176</td>\n",
       "      <td>2MASS J22011206-1400524</td>\n",
       "      <td>EPIC 206028176.01</td>\n",
       "      <td>NaN</td>\n",
       "      <td>330.300293</td>\n",
       "      <td>0.0</td>\n",
       "      <td>22h01m12.07s</td>\n",
       "      <td>-14.014557</td>\n",
       "      <td>0.0</td>\n",
       "      <td>-14d00m52.4s</td>\n",
       "      <td>...</td>\n",
       "      <td>0.0</td>\n",
       "      <td>2.86</td>\n",
       "      <td>NaN</td>\n",
       "      <td>NaN</td>\n",
       "      <td>0.0</td>\n",
       "      <td>NaN</td>\n",
       "      <td>NaN</td>\n",
       "      <td>NaN</td>\n",
       "      <td>NaN</td>\n",
       "      <td>1.0</td>\n",
       "    </tr>\n",
       "  </tbody>\n",
       "</table>\n",
       "<p>5 rows × 149 columns</p>\n",
       "</div>"
      ],
      "text/plain": [
       "         epic_name                  tm_name      epic_candname pl_name  \\\n",
       "0   EPIC 205999468  2MASS J22213759-1450221  EPIC 205999468.01     NaN   \n",
       "4   EPIC 206011496  2MASS J22480755-1429407  EPIC 206011496.01     NaN   \n",
       "7   EPIC 206024342  2MASS J22050653-1407180  EPIC 206024342.01     NaN   \n",
       "8   EPIC 206024342  2MASS J22050653-1407180  EPIC 206024342.02     NaN   \n",
       "15  EPIC 206028176  2MASS J22011206-1400524  EPIC 206028176.01     NaN   \n",
       "\n",
       "            ra  ra_err        ra_str        dec  dec_err       dec_str  \\\n",
       "0   335.406616     0.0  22h21m37.59s -14.839480      0.0  -14d50m22.1s   \n",
       "4   342.031525     0.0  22h48m07.57s -14.494689      0.0  -14d29m40.9s   \n",
       "7   331.277222     0.0  22h05m06.53s -14.121665      0.0  -14d07m18.0s   \n",
       "8   331.277222     0.0  22h05m06.53s -14.121665      0.0  -14d07m18.0s   \n",
       "15  330.300293     0.0  22h01m12.07s -14.014557      0.0  -14d00m52.4s   \n",
       "\n",
       "       ...      pl_radjlim pl_rade pl_radeerr1 pl_radeerr2  pl_radelim  \\\n",
       "0      ...             0.0    2.16         NaN         NaN         0.0   \n",
       "4      ...             0.0    1.63         NaN         NaN         0.0   \n",
       "7      ...             0.0    2.94         NaN         NaN         0.0   \n",
       "8      ...             0.0    1.35         NaN         NaN         0.0   \n",
       "15     ...             0.0    2.86         NaN         NaN         0.0   \n",
       "\n",
       "    pl_eqt  pl_eqterr1  pl_eqterr2  pl_eqtlim  pl_tranflag  \n",
       "0      NaN         NaN         NaN        NaN          1.0  \n",
       "4      NaN         NaN         NaN        NaN          1.0  \n",
       "7      NaN         NaN         NaN        NaN          1.0  \n",
       "8      NaN         NaN         NaN        NaN          1.0  \n",
       "15     NaN         NaN         NaN        NaN          1.0  \n",
       "\n",
       "[5 rows x 149 columns]"
      ]
     },
     "execution_count": 18,
     "metadata": {},
     "output_type": "execute_result"
    }
   ],
   "source": [
    "df3.head()"
   ]
  },
  {
   "cell_type": "code",
   "execution_count": 19,
   "metadata": {
    "ExecuteTime": {
     "end_time": "2018-05-01T05:09:36.517420Z",
     "start_time": "2018-05-01T05:09:36.445152Z"
    }
   },
   "outputs": [
    {
     "name": "stderr",
     "output_type": "stream",
     "text": [
      "/home/prometheus/miniconda3/envs/astroconda/lib/python3.6/site-packages/ipykernel_launcher.py:2: SettingWithCopyWarning: \n",
      "A value is trying to be set on a copy of a slice from a DataFrame.\n",
      "Try using .loc[row_indexer,col_indexer] = value instead\n",
      "\n",
      "See the caveats in the documentation: http://pandas.pydata.org/pandas-docs/stable/indexing.html#indexing-view-versus-copy\n",
      "  \n"
     ]
    },
    {
     "data": {
      "text/plain": [
       "(784, 150)"
      ]
     },
     "execution_count": 19,
     "metadata": {},
     "output_type": "execute_result"
    }
   ],
   "source": [
    "#remove EPIC in epic name\n",
    "df3['epic_number'] = epic['epic_name'].apply(lambda x: x.split(' ')[-1]).astype('str')\n",
    "df3.shape"
   ]
  },
  {
   "cell_type": "markdown",
   "metadata": {},
   "source": [
    "## Merging tables\n",
    "* use key='epic_number'\n",
    "* see epic column meanings [here](https://exoplanetarchive.ipac.caltech.edu/docs/API_k2candidates_columns.html)"
   ]
  },
  {
   "cell_type": "markdown",
   "metadata": {},
   "source": [
    "Merge the 'outer'=union of epic columns of df2 and df3"
   ]
  },
  {
   "cell_type": "code",
   "execution_count": 20,
   "metadata": {
    "ExecuteTime": {
     "end_time": "2018-05-01T05:09:36.550214Z",
     "start_time": "2018-05-01T05:09:36.521406Z"
    }
   },
   "outputs": [
    {
     "data": {
      "text/plain": [
       "(1058, 180)"
      ]
     },
     "execution_count": 20,
     "metadata": {},
     "output_type": "execute_result"
    }
   ],
   "source": [
    "df23 = pd.merge(df2, df3, how='outer', on='epic_number')\n",
    "df23.shape"
   ]
  },
  {
   "cell_type": "code",
   "execution_count": 21,
   "metadata": {
    "ExecuteTime": {
     "end_time": "2018-05-01T05:09:36.885318Z",
     "start_time": "2018-05-01T05:09:36.555073Z"
    }
   },
   "outputs": [
    {
     "data": {
      "text/plain": [
       "(1424, 233)"
      ]
     },
     "execution_count": 21,
     "metadata": {},
     "output_type": "execute_result"
    }
   ],
   "source": [
    "df_all = pd.merge(df1, df23, how='inner', on='epic_number')\n",
    "df_all.shape"
   ]
  },
  {
   "cell_type": "code",
   "execution_count": 22,
   "metadata": {
    "ExecuteTime": {
     "end_time": "2018-05-01T05:09:36.894838Z",
     "start_time": "2018-05-01T05:09:36.888274Z"
    }
   },
   "outputs": [
    {
     "data": {
      "text/plain": [
       "625"
      ]
     },
     "execution_count": 22,
     "metadata": {},
     "output_type": "execute_result"
    }
   ],
   "source": [
    "len(np.unique(df_all['epic_number']))"
   ]
  },
  {
   "cell_type": "code",
   "execution_count": 23,
   "metadata": {
    "ExecuteTime": {
     "end_time": "2018-05-01T05:09:36.921812Z",
     "start_time": "2018-05-01T05:09:36.898872Z"
    }
   },
   "outputs": [
    {
     "data": {
      "text/html": [
       "<div>\n",
       "<style>\n",
       "    .dataframe thead tr:only-child th {\n",
       "        text-align: right;\n",
       "    }\n",
       "\n",
       "    .dataframe thead th {\n",
       "        text-align: left;\n",
       "    }\n",
       "\n",
       "    .dataframe tbody tr th {\n",
       "        vertical-align: top;\n",
       "    }\n",
       "</style>\n",
       "<table border=\"1\" class=\"dataframe\">\n",
       "  <thead>\n",
       "    <tr style=\"text-align: right;\">\n",
       "      <th></th>\n",
       "      <th>epic_name</th>\n",
       "      <th>epic_candname</th>\n",
       "      <th>parallax</th>\n",
       "      <th>Note</th>\n",
       "    </tr>\n",
       "  </thead>\n",
       "  <tbody>\n",
       "    <tr>\n",
       "      <th>0</th>\n",
       "      <td>NaN</td>\n",
       "      <td>NaN</td>\n",
       "      <td>10.2616</td>\n",
       "      <td>NaN</td>\n",
       "    </tr>\n",
       "    <tr>\n",
       "      <th>1</th>\n",
       "      <td>EPIC 201111557</td>\n",
       "      <td>EPIC 201111557.01</td>\n",
       "      <td>10.2616</td>\n",
       "      <td>NaN</td>\n",
       "    </tr>\n",
       "    <tr>\n",
       "      <th>2</th>\n",
       "      <td>EPIC 201126503</td>\n",
       "      <td>EPIC 201126503.01</td>\n",
       "      <td>3.4345</td>\n",
       "      <td>NaN</td>\n",
       "    </tr>\n",
       "    <tr>\n",
       "      <th>3</th>\n",
       "      <td>NaN</td>\n",
       "      <td>NaN</td>\n",
       "      <td>8.4675</td>\n",
       "      <td>c</td>\n",
       "    </tr>\n",
       "    <tr>\n",
       "      <th>4</th>\n",
       "      <td>EPIC 201127519</td>\n",
       "      <td>EPIC 201127519.01</td>\n",
       "      <td>8.4675</td>\n",
       "      <td>NaN</td>\n",
       "    </tr>\n",
       "  </tbody>\n",
       "</table>\n",
       "</div>"
      ],
      "text/plain": [
       "        epic_name      epic_candname  parallax Note\n",
       "0             NaN                NaN   10.2616  NaN\n",
       "1  EPIC 201111557  EPIC 201111557.01   10.2616  NaN\n",
       "2  EPIC 201126503  EPIC 201126503.01    3.4345  NaN\n",
       "3             NaN                NaN    8.4675    c\n",
       "4  EPIC 201127519  EPIC 201127519.01    8.4675  NaN"
      ]
     },
     "execution_count": 23,
     "metadata": {},
     "output_type": "execute_result"
    }
   ],
   "source": [
    "df_all['epic_name,epic_candname,parallax,Note'.split(',')].head()"
   ]
  },
  {
   "cell_type": "raw",
   "metadata": {
    "ExecuteTime": {
     "end_time": "2018-05-01T05:09:36.933835Z",
     "start_time": "2018-05-01T05:09:36.924058Z"
    }
   },
   "source": [
    "df_all.columns.tolist()"
   ]
  },
  {
   "cell_type": "markdown",
   "metadata": {},
   "source": [
    "Comparing stellar radii from different tables\n",
    "\n",
    "k2_rad and st_rad came from [nexsci](https://exoplanetarchive.ipac.caltech.edu/docs/API_k2candidates_columns.html); they're supposed to be the same"
   ]
  },
  {
   "cell_type": "code",
   "execution_count": 24,
   "metadata": {
    "ExecuteTime": {
     "end_time": "2018-05-01T05:09:37.194035Z",
     "start_time": "2018-05-01T05:09:36.936088Z"
    }
   },
   "outputs": [
    {
     "data": {
      "text/plain": [
       "(0, 10)"
      ]
     },
     "execution_count": 24,
     "metadata": {},
     "output_type": "execute_result"
    },
    {
     "data": {
      "image/png": "[encoded data removed]",
      "text/plain": [
       "<matplotlib.figure.Figure at 0x7fb719bb4a20>"
      ]
     },
     "metadata": {},
     "output_type": "display_data"
    }
   ],
   "source": [
    "df_all.plot(x='k2_rad',y='st_rad',kind='scatter')\n",
    "pl.ylim(0,10)\n",
    "pl.xlim(0,10)"
   ]
  },
  {
   "cell_type": "markdown",
   "metadata": {},
   "source": [
    "radius_value came from [gaia](https://www.cosmos.esa.int/web/gaia/iow_20130911); R* came from Mayo+18"
   ]
  },
  {
   "cell_type": "code",
   "execution_count": 25,
   "metadata": {
    "ExecuteTime": {
     "end_time": "2018-05-01T05:09:37.432857Z",
     "start_time": "2018-05-01T05:09:37.197255Z"
    }
   },
   "outputs": [
    {
     "data": {
      "text/plain": [
       "(0, 10)"
      ]
     },
     "execution_count": 25,
     "metadata": {},
     "output_type": "execute_result"
    },
    {
     "data": {
      "image/png": "[encoded data removed]",
      "text/plain": [
       "<matplotlib.figure.Figure at 0x7fb725e0e588>"
      ]
     },
     "metadata": {},
     "output_type": "display_data"
    }
   ],
   "source": [
    "df_all.plot(x='radius_val',y='R*',kind='scatter')\n",
    "pl.ylim(0,10)\n",
    "pl.xlim(0,10)"
   ]
  },
  {
   "cell_type": "markdown",
   "metadata": {},
   "source": [
    "## Adding constraints\n",
    "\n",
    "Kepler confirmed+candidates\n",
    "* without planet mass measurement, \n",
    "* bright (Mv<14), \n",
    "* low FPP (fpp<0.5)\n",
    "* large depth (d>1mmag), \n",
    "* large expected K>1m/s, \n",
    "* period < 50 d\n",
    "* t23/t14 > 0.5"
   ]
  },
  {
   "cell_type": "code",
   "execution_count": 26,
   "metadata": {
    "ExecuteTime": {
     "end_time": "2018-05-01T05:09:37.557641Z",
     "start_time": "2018-05-01T05:09:37.451103Z"
    },
    "collapsed": true
   },
   "outputs": [],
   "source": [
    "def inclination(a, b, e=None, w=None):\n",
    "    \"\"\"\n",
    "    Winn 2014 (\"Transits and Occultations\"), eq. 7\n",
    "    \"\"\"\n",
    "    # if e is None and w is None:\n",
    "    #     return np.arccos(b / a)\n",
    "    # elif e is not None and w is not None:\n",
    "    #     return np.arccos(b / a * (1 + e * np.sin(w)) / (1 - e**2))\n",
    "    # else:\n",
    "    #     return np.nan\n",
    "    return np.arccos(b / a)\n",
    "\n",
    "def t14_circ(p, a, k, b):\n",
    "    \"\"\"\n",
    "    Winn 2014 (\"Transits and Occultations\"), eq. 14\n",
    "    \"\"\"\n",
    "    i = inclination(a, b)\n",
    "    alpha = np.sqrt( (1 + k)**2 - b**2 )\n",
    "    return (p / np.pi) * np.arcsin( alpha / np.sin(i) / a )\n",
    "\n",
    "\n",
    "def t23_circ(p, a, k, b):\n",
    "    \"\"\"\n",
    "    Winn 2014 (\"Transits and Occultations\"), eq. 15\n",
    "    \"\"\"\n",
    "    i = inclination(a, b)\n",
    "    alpha = np.sqrt( (1 - k)**2 - b**2 )\n",
    "    return (p / np.pi) * np.arcsin( alpha / np.sin(i) / a )\n",
    "\n",
    "\n",
    "def tau_circ(p, a, k, b):\n",
    "    \"\"\"\n",
    "    Winn 2014 (\"Transits and Occultations\"), eq. 18\n",
    "    \"\"\"\n",
    "    return p / np.pi / a * k / np.sqrt(1 - b**2)\n",
    "\n",
    "\n",
    "def tshape_approx(a, k, b):\n",
    "    \"\"\"\n",
    "    Seager & Mallen-Ornelas 2003, eq. 15\n",
    "    \"\"\"\n",
    "    i = inclination(a, b)\n",
    "    alpha = (1 - k)**2 - b**2\n",
    "    beta = (1 + k)**2 - b**2\n",
    "    return np.sqrt( alpha / beta )\n",
    "\n",
    "\n",
    "def max_k(tshape):\n",
    "    \"\"\"\n",
    "    Seager & Mallen-Ornelas 2003, eq. 21\n",
    "    \"\"\"\n",
    "    return (1 - tshape) / (1 + tshape)"
   ]
  },
  {
   "cell_type": "markdown",
   "metadata": {},
   "source": [
    "Convert FPP limits to normal values so a mask (<50%) can be evaluated. \n",
    "Also use reported value in NExSci if Mayo+2018 value is unknown."
   ]
  },
  {
   "cell_type": "code",
   "execution_count": 27,
   "metadata": {
    "ExecuteTime": {
     "end_time": "2018-05-01T05:09:53.418383Z",
     "start_time": "2018-05-01T05:09:53.329450Z"
    },
    "collapsed": true
   },
   "outputs": [],
   "source": [
    "fpp = []\n",
    "for idx in df_all.index:\n",
    "    i= df_all.loc[idx,'FPP']\n",
    "    if type(i)==str:\n",
    "        if i[0]=='<':\n",
    "            i=float(i[1:])\n",
    "        else:\n",
    "            i=float(i)\n",
    "    elif type(i)==float:\n",
    "        #np.nan\n",
    "        #pass\n",
    "        i=df_all.loc[idx,'pl_fppprob']\n",
    "    else:\n",
    "        #report some other value\n",
    "        print(i)\n",
    "    fpp.append(i)\n",
    "    \n",
    "df_all['fpp'] = fpp"
   ]
  },
  {
   "cell_type": "code",
   "execution_count": 28,
   "metadata": {
    "ExecuteTime": {
     "end_time": "2018-05-01T05:10:14.843454Z",
     "start_time": "2018-05-01T05:10:14.826230Z"
    }
   },
   "outputs": [
    {
     "data": {
      "text/html": [
       "<div>\n",
       "<style>\n",
       "    .dataframe thead tr:only-child th {\n",
       "        text-align: right;\n",
       "    }\n",
       "\n",
       "    .dataframe thead th {\n",
       "        text-align: left;\n",
       "    }\n",
       "\n",
       "    .dataframe tbody tr th {\n",
       "        vertical-align: top;\n",
       "    }\n",
       "</style>\n",
       "<table border=\"1\" class=\"dataframe\">\n",
       "  <thead>\n",
       "    <tr style=\"text-align: right;\">\n",
       "      <th></th>\n",
       "      <th>FPP</th>\n",
       "      <th>pl_fppprob</th>\n",
       "    </tr>\n",
       "  </thead>\n",
       "  <tbody>\n",
       "    <tr>\n",
       "      <th>0</th>\n",
       "      <td>1.22E-03</td>\n",
       "      <td>NaN</td>\n",
       "    </tr>\n",
       "    <tr>\n",
       "      <th>1</th>\n",
       "      <td>NaN</td>\n",
       "      <td>0.00122</td>\n",
       "    </tr>\n",
       "    <tr>\n",
       "      <th>2</th>\n",
       "      <td>NaN</td>\n",
       "      <td>NaN</td>\n",
       "    </tr>\n",
       "    <tr>\n",
       "      <th>3</th>\n",
       "      <td>NaN</td>\n",
       "      <td>NaN</td>\n",
       "    </tr>\n",
       "    <tr>\n",
       "      <th>4</th>\n",
       "      <td>NaN</td>\n",
       "      <td>NaN</td>\n",
       "    </tr>\n",
       "  </tbody>\n",
       "</table>\n",
       "</div>"
      ],
      "text/plain": [
       "        FPP  pl_fppprob\n",
       "0  1.22E-03         NaN\n",
       "1       NaN     0.00122\n",
       "2       NaN         NaN\n",
       "3       NaN         NaN\n",
       "4       NaN         NaN"
      ]
     },
     "execution_count": 28,
     "metadata": {},
     "output_type": "execute_result"
    }
   ],
   "source": [
    "df_all[['FPP','pl_fppprob']].head()"
   ]
  },
  {
   "cell_type": "markdown",
   "metadata": {},
   "source": [
    "Upon checking, there is no discrepancy in fpp prob reported in NExSci because its main source for fpp is Mayo+2018 too."
   ]
  },
  {
   "cell_type": "code",
   "execution_count": 29,
   "metadata": {
    "ExecuteTime": {
     "end_time": "2018-05-01T05:10:18.403909Z",
     "start_time": "2018-05-01T05:10:18.395821Z"
    }
   },
   "outputs": [
    {
     "data": {
      "text/plain": [
       "(487,)"
      ]
     },
     "execution_count": 29,
     "metadata": {},
     "output_type": "execute_result"
    }
   ],
   "source": [
    "df_all['fpp'].dropna().shape"
   ]
  },
  {
   "cell_type": "code",
   "execution_count": 30,
   "metadata": {
    "ExecuteTime": {
     "end_time": "2018-05-01T05:10:20.289788Z",
     "start_time": "2018-05-01T05:10:20.030627Z"
    }
   },
   "outputs": [
    {
     "data": {
      "text/plain": [
       "(339,)"
      ]
     },
     "execution_count": 30,
     "metadata": {},
     "output_type": "execute_result"
    }
   ],
   "source": [
    "k = df_all['Rp/R*'] #['pl_ratror']\n",
    "a = df_all['a/R*'] #['pl_ratdor']\n",
    "b = df_all['pl_imppar'].fillna(0) #assumes circular orbit\n",
    "p = df_all['P']\n",
    "#t14 = df_all['pl_trandur']\n",
    "\n",
    "#if trandur is not reported, calculate it\n",
    "t14 =[]\n",
    "for n,idx in enumerate(df_all.index):\n",
    "    if np.isnan(df_all.loc[idx,'pl_trandur']):\n",
    "        t14.append(t14_circ(p[n], a[n], k[n], b[n])*24) #assumes circular orbit\n",
    "    else:\n",
    "        t14.append(df_all.loc[idx,'pl_trandur'])\n",
    "\n",
    "df_all['t23_hr'] = t23_circ(p, a, k, b)*24\n",
    "tshape = df_all['t23_hr']/t14\n",
    "#tshape = tshape_approx(a, k, b)\n",
    "df_all['shape'] = tshape\n",
    "df_all['max_k'] = max_k(tshape)\n",
    "\n",
    "df_all['shape'].dropna().shape"
   ]
  },
  {
   "cell_type": "raw",
   "metadata": {},
   "source": [
    "#if trandep is not reported, calculate it\n",
    "RpRs2 =[]\n",
    "for n,idx in enumerate(df_all.index):\n",
    "    if np.isnan(df_all.loc[idx,'pl_trandep']):\n",
    "        RpRs2.append(df_all.loc[idx,'Rp/R*']**2)\n",
    "        #RpRs2.append(k[n]**2)\n",
    "    else:\n",
    "        RpRs2.append(df_all.loc[idx,'pl_trandur'])\n",
    "        \n",
    "df_all['Rp2/Rs2'] = RpRs2"
   ]
  },
  {
   "cell_type": "code",
   "execution_count": 31,
   "metadata": {
    "ExecuteTime": {
     "end_time": "2018-05-01T05:10:20.367331Z",
     "start_time": "2018-05-01T05:10:20.360316Z"
    }
   },
   "outputs": [
    {
     "data": {
      "text/plain": [
       "array([[ 0.9666928 ,  0.9666928 ],\n",
       "       [        nan,         nan],\n",
       "       [        nan,         nan],\n",
       "       ..., \n",
       "       [        nan,         nan],\n",
       "       [ 0.94273117,  0.94273117],\n",
       "       [        nan,         nan]])"
      ]
     },
     "execution_count": 31,
     "metadata": {},
     "output_type": "execute_result"
    }
   ],
   "source": [
    "#compare reported and calculated transit durations\n",
    "np.c_[tshape,df_all['t23_hr']/t14]"
   ]
  },
  {
   "cell_type": "raw",
   "metadata": {
    "ExecuteTime": {
     "end_time": "2018-05-01T01:12:33.846901Z",
     "start_time": "2018-05-01T01:12:33.836026Z"
    }
   },
   "source": [
    "df_all['pl_trandur'].dropna().shape"
   ]
  },
  {
   "cell_type": "code",
   "execution_count": 32,
   "metadata": {
    "ExecuteTime": {
     "end_time": "2018-05-01T05:10:39.029713Z",
     "start_time": "2018-05-01T05:10:39.022205Z"
    }
   },
   "outputs": [
    {
     "name": "stdout",
     "output_type": "stream",
     "text": [
      "(339,)\n",
      "(339,)\n",
      "(508,)\n",
      "(339,)\n"
     ]
    }
   ],
   "source": [
    "for i in 'Rp/R*,a/R*,pl_imppar,P'.split(','):\n",
    "    print(df_all[i].dropna().shape)"
   ]
  },
  {
   "cell_type": "code",
   "execution_count": 52,
   "metadata": {
    "collapsed": true
   },
   "outputs": [],
   "source": [
    "df_all['trandep']=df_all['Rp/R*']**2"
   ]
  },
  {
   "cell_type": "code",
   "execution_count": 58,
   "metadata": {
    "ExecuteTime": {
     "end_time": "2018-05-01T05:10:39.914817Z",
     "start_time": "2018-05-01T05:10:39.885390Z"
    }
   },
   "outputs": [
    {
     "data": {
      "text/plain": [
       "(4, 238)"
      ]
     },
     "execution_count": 58,
     "metadata": {},
     "output_type": "execute_result"
    }
   ],
   "source": [
    "low_fpp = df_all['fpp'] < 0.5 #df_all['pl_fpprob]\n",
    "cand    = df_all['k2c_disp_x'] != 'CONFIRMED'\n",
    "bright  = df_all['Kpmag'] < 12.0\n",
    "boxy    = df_all['shape'] > 0.5\n",
    "long_period = df_all['P'] < 40\n",
    "nearby  = df_all['parallax'] > 1 #mas\n",
    "deep   = df_all['trandep'] > 1e-3\n",
    "\n",
    "idx = low_fpp & cand & bright & long_period & nearby & boxy & deep\n",
    "\n",
    "df = df_all[idx]\n",
    "df.shape"
   ]
  },
  {
   "cell_type": "code",
   "execution_count": 59,
   "metadata": {
    "ExecuteTime": {
     "end_time": "2018-05-01T05:11:57.782103Z",
     "start_time": "2018-05-01T05:11:57.725114Z"
    }
   },
   "outputs": [
    {
     "data": {
      "text/plain": [
       "(4, 238)"
      ]
     },
     "execution_count": 59,
     "metadata": {},
     "output_type": "execute_result"
    }
   ],
   "source": [
    "#selected\n",
    "#df = df.drop_duplicates(['epic_number','P'])\n",
    "df.shape"
   ]
  },
  {
   "cell_type": "code",
   "execution_count": 60,
   "metadata": {},
   "outputs": [
    {
     "data": {
      "text/plain": [
       "<matplotlib.collections.PathCollection at 0x7fb71966cb00>"
      ]
     },
     "execution_count": 60,
     "metadata": {},
     "output_type": "execute_result"
    },
    {
     "data": {
      "image/png": "[encoded data removed]",
      "text/plain": [
       "<matplotlib.figure.Figure at 0x7fb7198c1dd8>"
      ]
     },
     "metadata": {},
     "output_type": "display_data"
    }
   ],
   "source": [
    "pl.scatter(df['Rp/R*'],df['max_k'])"
   ]
  },
  {
   "cell_type": "code",
   "execution_count": 61,
   "metadata": {},
   "outputs": [
    {
     "name": "stderr",
     "output_type": "stream",
     "text": [
      "/home/prometheus/miniconda3/envs/astroconda/lib/python3.6/site-packages/ipykernel_launcher.py:3: SettingWithCopyWarning: \n",
      "A value is trying to be set on a copy of a slice from a DataFrame.\n",
      "Try using .loc[row_indexer,col_indexer] = value instead\n",
      "\n",
      "See the caveats in the documentation: http://pandas.pydata.org/pandas-docs/stable/indexing.html#indexing-view-versus-copy\n",
      "  This is separate from the ipykernel package so we can avoid doing imports until\n"
     ]
    }
   ],
   "source": [
    "from astropy import units as u\n",
    "\n",
    "df['Rp_earth']=(df['Rp/R*']*df['R*'])*u.Rsun.to(u.Rearth)"
   ]
  },
  {
   "cell_type": "code",
   "execution_count": 66,
   "metadata": {
    "ExecuteTime": {
     "end_time": "2018-05-01T05:11:59.738743Z",
     "start_time": "2018-05-01T05:11:59.642393Z"
    }
   },
   "outputs": [
    {
     "name": "stderr",
     "output_type": "stream",
     "text": [
      "/home/prometheus/miniconda3/envs/astroconda/lib/python3.6/site-packages/ipykernel_launcher.py:3: UserWarning: Boolean Series key will be reindexed to match DataFrame index.\n",
      "  This is separate from the ipykernel package so we can avoid doing imports until\n"
     ]
    },
    {
     "data": {
      "text/html": [
       "<div>\n",
       "<style>\n",
       "    .dataframe thead tr:only-child th {\n",
       "        text-align: right;\n",
       "    }\n",
       "\n",
       "    .dataframe thead th {\n",
       "        text-align: left;\n",
       "    }\n",
       "\n",
       "    .dataframe tbody tr th {\n",
       "        vertical-align: top;\n",
       "    }\n",
       "</style>\n",
       "<table border=\"1\" class=\"dataframe\">\n",
       "  <thead>\n",
       "    <tr style=\"text-align: right;\">\n",
       "      <th></th>\n",
       "      <th>epic_number</th>\n",
       "      <th>Kpmag</th>\n",
       "      <th>radius_val</th>\n",
       "      <th>R*</th>\n",
       "      <th>M*</th>\n",
       "      <th>FPP</th>\n",
       "      <th>parallax</th>\n",
       "      <th>parallax_error</th>\n",
       "      <th>P</th>\n",
       "      <th>Rp/R*</th>\n",
       "      <th>max_k</th>\n",
       "      <th>Rp_earth</th>\n",
       "      <th>shape</th>\n",
       "      <th>k2c_disp_x</th>\n",
       "    </tr>\n",
       "  </thead>\n",
       "  <tbody>\n",
       "    <tr>\n",
       "      <th>920</th>\n",
       "      <td>211945201</td>\n",
       "      <td>10.115</td>\n",
       "      <td>1.4</td>\n",
       "      <td>1.41</td>\n",
       "      <td>1.143</td>\n",
       "      <td>1.64E-01</td>\n",
       "      <td>5.4753</td>\n",
       "      <td>0.0387</td>\n",
       "      <td>19.49179</td>\n",
       "      <td>0.038</td>\n",
       "      <td>0.038008</td>\n",
       "      <td>5.844312</td>\n",
       "      <td>0.926767</td>\n",
       "      <td>CANDIDATE</td>\n",
       "    </tr>\n",
       "    <tr>\n",
       "      <th>925</th>\n",
       "      <td>211945201</td>\n",
       "      <td>10.115</td>\n",
       "      <td>1.4</td>\n",
       "      <td>1.41</td>\n",
       "      <td>1.143</td>\n",
       "      <td>1.64E-01</td>\n",
       "      <td>5.4753</td>\n",
       "      <td>0.0387</td>\n",
       "      <td>19.49179</td>\n",
       "      <td>0.038</td>\n",
       "      <td>0.038008</td>\n",
       "      <td>5.844312</td>\n",
       "      <td>0.926767</td>\n",
       "      <td>CANDIDATE</td>\n",
       "    </tr>\n",
       "    <tr>\n",
       "      <th>930</th>\n",
       "      <td>211945201</td>\n",
       "      <td>10.115</td>\n",
       "      <td>1.4</td>\n",
       "      <td>1.41</td>\n",
       "      <td>1.143</td>\n",
       "      <td>1.64E-01</td>\n",
       "      <td>5.4753</td>\n",
       "      <td>0.0387</td>\n",
       "      <td>19.49179</td>\n",
       "      <td>0.038</td>\n",
       "      <td>0.038008</td>\n",
       "      <td>5.844312</td>\n",
       "      <td>0.926767</td>\n",
       "      <td>CANDIDATE</td>\n",
       "    </tr>\n",
       "    <tr>\n",
       "      <th>935</th>\n",
       "      <td>211945201</td>\n",
       "      <td>10.115</td>\n",
       "      <td>1.4</td>\n",
       "      <td>1.41</td>\n",
       "      <td>1.143</td>\n",
       "      <td>1.64E-01</td>\n",
       "      <td>5.4753</td>\n",
       "      <td>0.0387</td>\n",
       "      <td>19.49179</td>\n",
       "      <td>0.038</td>\n",
       "      <td>0.038008</td>\n",
       "      <td>5.844312</td>\n",
       "      <td>0.926767</td>\n",
       "      <td>CANDIDATE</td>\n",
       "    </tr>\n",
       "  </tbody>\n",
       "</table>\n",
       "</div>"
      ],
      "text/plain": [
       "    epic_number   Kpmag  radius_val    R*     M*       FPP  parallax  \\\n",
       "920   211945201  10.115         1.4  1.41  1.143  1.64E-01    5.4753   \n",
       "925   211945201  10.115         1.4  1.41  1.143  1.64E-01    5.4753   \n",
       "930   211945201  10.115         1.4  1.41  1.143  1.64E-01    5.4753   \n",
       "935   211945201  10.115         1.4  1.41  1.143  1.64E-01    5.4753   \n",
       "\n",
       "     parallax_error         P  Rp/R*     max_k  Rp_earth     shape k2c_disp_x  \n",
       "920          0.0387  19.49179  0.038  0.038008  5.844312  0.926767  CANDIDATE  \n",
       "925          0.0387  19.49179  0.038  0.038008  5.844312  0.926767  CANDIDATE  \n",
       "930          0.0387  19.49179  0.038  0.038008  5.844312  0.926767  CANDIDATE  \n",
       "935          0.0387  19.49179  0.038  0.038008  5.844312  0.926767  CANDIDATE  "
      ]
     },
     "execution_count": 66,
     "metadata": {},
     "output_type": "execute_result"
    }
   ],
   "source": [
    "\n",
    "cols = 'epic_number,Kpmag,radius_val,R*,M*,FPP,parallax,parallax_error,P,Rp/R*,max_k,Rp_earth,shape,k2c_disp_x'.split(',')\n",
    "selected=df[idx][cols].sort_values(by='Rp_earth')\n",
    "selected"
   ]
  },
  {
   "cell_type": "code",
   "execution_count": 43,
   "metadata": {},
   "outputs": [
    {
     "data": {
      "text/plain": [
       "(22, 12)"
      ]
     },
     "execution_count": 43,
     "metadata": {},
     "output_type": "execute_result"
    }
   ],
   "source": [
    "selected.shape"
   ]
  },
  {
   "cell_type": "code",
   "execution_count": 42,
   "metadata": {},
   "outputs": [],
   "source": [
    "save=True\n",
    "if save:\n",
    "    selected.to_csv('K2_candidate_shortlist.csv')"
   ]
  },
  {
   "cell_type": "raw",
   "metadata": {},
   "source": [
    "Note (1):\n",
    "    a = Unless there is a deep secondary eclipse or ellipsoidal variations in \n",
    "        the light curve, VESPA cannot distinguish between a planet-sized star \n",
    "        and a planet. In this case, Rp > 8 Re and RV measurements cannot rule \n",
    "        out the foreground eclipsing binary scenario. Therefore, a FPP value \n",
    "        is not reported.\n",
    "    b = Companion in aperture, therefore a FPP is not reported.\n",
    "    c = AO/Speckle companion, therefore a FPP is not reported.\n",
    "    d = Composite spectrum, therefore a FPP is not reported.\n",
    "    e = Large RV amplitude variations confirm a binary in the system, \n",
    "        therefore a FPP is not reported.\n",
    "    f = VESPA failed to find a FPP.\n",
    "    g = HD 106315\n",
    "    h = K2-51 is a false positive (see Shporer et al. 2017 and Section 6.2)\n",
    "    i = WASP-152\n",
    "    j = WASP-157\n",
    "    k = HATS-12\n",
    "    l = HD 3167"
   ]
  },
  {
   "cell_type": "code",
   "execution_count": 38,
   "metadata": {
    "ExecuteTime": {
     "end_time": "2018-05-01T05:12:25.266146Z",
     "start_time": "2018-05-01T05:12:25.262086Z"
    },
    "collapsed": true
   },
   "outputs": [],
   "source": [
    "def unc_ave(mid,upper,lower):\n",
    "    return (abs(mid-upper)+abs(mid-lower))/2"
   ]
  },
  {
   "cell_type": "raw",
   "metadata": {
    "ExecuteTime": {
     "end_time": "2018-05-01T04:59:38.376137Z",
     "start_time": "2018-05-01T04:59:38.361792Z"
    }
   },
   "source": [
    "sorted(df.columns.tolist())"
   ]
  },
  {
   "cell_type": "code",
   "execution_count": 39,
   "metadata": {},
   "outputs": [
    {
     "name": "stderr",
     "output_type": "stream",
     "text": [
      "/home/prometheus/miniconda3/envs/astroconda/lib/python3.6/site-packages/ipykernel_launcher.py:4: UserWarning: Boolean Series key will be reindexed to match DataFrame index.\n",
      "  after removing the cwd from sys.path.\n"
     ]
    },
    {
     "ename": "KeyError",
     "evalue": "\"['teff_prov' 'logg_prov' 'feh_prov' 'teff' 'uteff' 'logg' 'ulogg' 'feh'\\n 'ufeh' 'koi_jmag' 'koi_jmag_err' 'koi_hmag' 'koi_hmag_err' 'koi_kmag'\\n 'koi_kmag_err' 'planet?' 'koi_kepmag' 'koi_period_y' 'koi_depth_y'\\n 'cks_svsini' 'mass' 'radius' 'rho_star'] not in index\"",
     "output_type": "error",
     "traceback": [
      "\u001b[0;31m---------------------------------------------------------------------------\u001b[0m",
      "\u001b[0;31mKeyError\u001b[0m                                  Traceback (most recent call last)",
      "\u001b[0;32m<ipython-input-39-7a897a3e99e7>\u001b[0m in \u001b[0;36m<module>\u001b[0;34m()\u001b[0m\n\u001b[1;32m      2\u001b[0m \u001b[0;34m\u001b[0m\u001b[0m\n\u001b[1;32m      3\u001b[0m \u001b[0;31m#save\u001b[0m\u001b[0;34m\u001b[0m\u001b[0;34m\u001b[0m\u001b[0m\n\u001b[0;32m----> 4\u001b[0;31m \u001b[0mdf\u001b[0m\u001b[0;34m[\u001b[0m\u001b[0midx\u001b[0m\u001b[0;34m]\u001b[0m\u001b[0;34m[\u001b[0m\u001b[0mcols\u001b[0m\u001b[0;34m]\u001b[0m\u001b[0;34m\u001b[0m\u001b[0m\n\u001b[0m\u001b[1;32m      5\u001b[0m \u001b[0;31m#.to_csv('kepler_candidates.csv')\u001b[0m\u001b[0;34m\u001b[0m\u001b[0;34m\u001b[0m\u001b[0m\n",
      "\u001b[0;32m~/miniconda3/envs/astroconda/lib/python3.6/site-packages/pandas/core/frame.py\u001b[0m in \u001b[0;36m__getitem__\u001b[0;34m(self, key)\u001b[0m\n\u001b[1;32m   1956\u001b[0m         \u001b[0;32mif\u001b[0m \u001b[0misinstance\u001b[0m\u001b[0;34m(\u001b[0m\u001b[0mkey\u001b[0m\u001b[0;34m,\u001b[0m \u001b[0;34m(\u001b[0m\u001b[0mSeries\u001b[0m\u001b[0;34m,\u001b[0m \u001b[0mnp\u001b[0m\u001b[0;34m.\u001b[0m\u001b[0mndarray\u001b[0m\u001b[0;34m,\u001b[0m \u001b[0mIndex\u001b[0m\u001b[0;34m,\u001b[0m \u001b[0mlist\u001b[0m\u001b[0;34m)\u001b[0m\u001b[0;34m)\u001b[0m\u001b[0;34m:\u001b[0m\u001b[0;34m\u001b[0m\u001b[0m\n\u001b[1;32m   1957\u001b[0m             \u001b[0;31m# either boolean or fancy integer index\u001b[0m\u001b[0;34m\u001b[0m\u001b[0;34m\u001b[0m\u001b[0m\n\u001b[0;32m-> 1958\u001b[0;31m             \u001b[0;32mreturn\u001b[0m \u001b[0mself\u001b[0m\u001b[0;34m.\u001b[0m\u001b[0m_getitem_array\u001b[0m\u001b[0;34m(\u001b[0m\u001b[0mkey\u001b[0m\u001b[0;34m)\u001b[0m\u001b[0;34m\u001b[0m\u001b[0m\n\u001b[0m\u001b[1;32m   1959\u001b[0m         \u001b[0;32melif\u001b[0m \u001b[0misinstance\u001b[0m\u001b[0;34m(\u001b[0m\u001b[0mkey\u001b[0m\u001b[0;34m,\u001b[0m \u001b[0mDataFrame\u001b[0m\u001b[0;34m)\u001b[0m\u001b[0;34m:\u001b[0m\u001b[0;34m\u001b[0m\u001b[0m\n\u001b[1;32m   1960\u001b[0m             \u001b[0;32mreturn\u001b[0m \u001b[0mself\u001b[0m\u001b[0;34m.\u001b[0m\u001b[0m_getitem_frame\u001b[0m\u001b[0;34m(\u001b[0m\u001b[0mkey\u001b[0m\u001b[0;34m)\u001b[0m\u001b[0;34m\u001b[0m\u001b[0m\n",
      "\u001b[0;32m~/miniconda3/envs/astroconda/lib/python3.6/site-packages/pandas/core/frame.py\u001b[0m in \u001b[0;36m_getitem_array\u001b[0;34m(self, key)\u001b[0m\n\u001b[1;32m   2000\u001b[0m             \u001b[0;32mreturn\u001b[0m \u001b[0mself\u001b[0m\u001b[0;34m.\u001b[0m\u001b[0mtake\u001b[0m\u001b[0;34m(\u001b[0m\u001b[0mindexer\u001b[0m\u001b[0;34m,\u001b[0m \u001b[0maxis\u001b[0m\u001b[0;34m=\u001b[0m\u001b[0;36m0\u001b[0m\u001b[0;34m,\u001b[0m \u001b[0mconvert\u001b[0m\u001b[0;34m=\u001b[0m\u001b[0;32mFalse\u001b[0m\u001b[0;34m)\u001b[0m\u001b[0;34m\u001b[0m\u001b[0m\n\u001b[1;32m   2001\u001b[0m         \u001b[0;32melse\u001b[0m\u001b[0;34m:\u001b[0m\u001b[0;34m\u001b[0m\u001b[0m\n\u001b[0;32m-> 2002\u001b[0;31m             \u001b[0mindexer\u001b[0m \u001b[0;34m=\u001b[0m \u001b[0mself\u001b[0m\u001b[0;34m.\u001b[0m\u001b[0mloc\u001b[0m\u001b[0;34m.\u001b[0m\u001b[0m_convert_to_indexer\u001b[0m\u001b[0;34m(\u001b[0m\u001b[0mkey\u001b[0m\u001b[0;34m,\u001b[0m \u001b[0maxis\u001b[0m\u001b[0;34m=\u001b[0m\u001b[0;36m1\u001b[0m\u001b[0;34m)\u001b[0m\u001b[0;34m\u001b[0m\u001b[0m\n\u001b[0m\u001b[1;32m   2003\u001b[0m             \u001b[0;32mreturn\u001b[0m \u001b[0mself\u001b[0m\u001b[0;34m.\u001b[0m\u001b[0mtake\u001b[0m\u001b[0;34m(\u001b[0m\u001b[0mindexer\u001b[0m\u001b[0;34m,\u001b[0m \u001b[0maxis\u001b[0m\u001b[0;34m=\u001b[0m\u001b[0;36m1\u001b[0m\u001b[0;34m,\u001b[0m \u001b[0mconvert\u001b[0m\u001b[0;34m=\u001b[0m\u001b[0;32mTrue\u001b[0m\u001b[0;34m)\u001b[0m\u001b[0;34m\u001b[0m\u001b[0m\n\u001b[1;32m   2004\u001b[0m \u001b[0;34m\u001b[0m\u001b[0m\n",
      "\u001b[0;32m~/miniconda3/envs/astroconda/lib/python3.6/site-packages/pandas/core/indexing.py\u001b[0m in \u001b[0;36m_convert_to_indexer\u001b[0;34m(self, obj, axis, is_setter)\u001b[0m\n\u001b[1;32m   1229\u001b[0m                 \u001b[0mmask\u001b[0m \u001b[0;34m=\u001b[0m \u001b[0mcheck\u001b[0m \u001b[0;34m==\u001b[0m \u001b[0;34m-\u001b[0m\u001b[0;36m1\u001b[0m\u001b[0;34m\u001b[0m\u001b[0m\n\u001b[1;32m   1230\u001b[0m                 \u001b[0;32mif\u001b[0m \u001b[0mmask\u001b[0m\u001b[0;34m.\u001b[0m\u001b[0many\u001b[0m\u001b[0;34m(\u001b[0m\u001b[0;34m)\u001b[0m\u001b[0;34m:\u001b[0m\u001b[0;34m\u001b[0m\u001b[0m\n\u001b[0;32m-> 1231\u001b[0;31m                     \u001b[0;32mraise\u001b[0m \u001b[0mKeyError\u001b[0m\u001b[0;34m(\u001b[0m\u001b[0;34m'%s not in index'\u001b[0m \u001b[0;34m%\u001b[0m \u001b[0mobjarr\u001b[0m\u001b[0;34m[\u001b[0m\u001b[0mmask\u001b[0m\u001b[0;34m]\u001b[0m\u001b[0;34m)\u001b[0m\u001b[0;34m\u001b[0m\u001b[0m\n\u001b[0m\u001b[1;32m   1232\u001b[0m \u001b[0;34m\u001b[0m\u001b[0m\n\u001b[1;32m   1233\u001b[0m                 \u001b[0;32mreturn\u001b[0m \u001b[0m_values_from_object\u001b[0m\u001b[0;34m(\u001b[0m\u001b[0mindexer\u001b[0m\u001b[0;34m)\u001b[0m\u001b[0;34m\u001b[0m\u001b[0m\n",
      "\u001b[0;31mKeyError\u001b[0m: \"['teff_prov' 'logg_prov' 'feh_prov' 'teff' 'uteff' 'logg' 'ulogg' 'feh'\\n 'ufeh' 'koi_jmag' 'koi_jmag_err' 'koi_hmag' 'koi_hmag_err' 'koi_kmag'\\n 'koi_kmag_err' 'planet?' 'koi_kepmag' 'koi_period_y' 'koi_depth_y'\\n 'cks_svsini' 'mass' 'radius' 'rho_star'] not in index\""
     ]
    }
   ],
   "source": [
    "cols = 'epic_number,teff_prov,logg_prov,feh_prov,teff,uteff,logg,ulogg,feh,ufeh,koi_jmag,koi_jmag_err,koi_hmag,koi_hmag_err,koi_kmag,koi_kmag_err,parallax,parallax_error,radial_velocity,radial_velocity_error,FPP,planet?,koi_kepmag,koi_period_y,koi_depth_y,shape,cks_svsini,mass,radius,rho_star'.split(',')\n",
    "\n",
    "#save\n",
    "df[idx][cols]\n",
    "#.to_csv('kepler_candidates.csv')"
   ]
  },
  {
   "cell_type": "raw",
   "metadata": {
    "ExecuteTime": {
     "end_time": "2018-05-01T05:14:20.409012Z",
     "start_time": "2018-05-01T05:14:20.220009Z"
    }
   },
   "source": [
    "df['uteff']=unc_ave(df['teff_val'],df['teff_percentile_upper'],df['teff_percentile_lower'])\n",
    "df['ulogg']=(df['st_loggerr1']+df['st_loggerr2'])/2\n",
    "df['ufeh'] =(df['st_metfeerr1']+df['st_metfeerr2'])/2"
   ]
  },
  {
   "cell_type": "raw",
   "metadata": {},
   "source": [
    "#multi-planet system\n",
    "selected."
   ]
  },
  {
   "cell_type": "raw",
   "metadata": {},
   "source": [
    "#etimated planet radius= sub-Saturn?\n",
    "np.sqrt(2125*1e-6)*110"
   ]
  }
 ],
 "metadata": {
  "kernelspec": {
   "display_name": "Python 3",
   "language": "python",
   "name": "python3"
  },
  "language_info": {
   "codemirror_mode": {
    "name": "ipython",
    "version": 3
   },
   "file_extension": ".py",
   "mimetype": "text/x-python",
   "name": "python",
   "nbconvert_exporter": "python",
   "pygments_lexer": "ipython3",
   "version": "3.6.2"
  }
 },
 "nbformat": 4,
 "nbformat_minor": 2
}
