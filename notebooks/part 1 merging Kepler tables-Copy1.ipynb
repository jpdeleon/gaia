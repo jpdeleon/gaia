{
 "cells": [
  {
   "cell_type": "markdown",
   "metadata": {},
   "source": [
    "## gaia/K2/nexsci/cks cross-matched catalogs"
   ]
  },
  {
   "cell_type": "markdown",
   "metadata": {},
   "source": [
    "* merge Kepler candidates + parallax + FPP (Morton+2016) tables"
   ]
  },
  {
   "cell_type": "code",
   "execution_count": 1,
   "metadata": {
    "collapsed": true
   },
   "outputs": [],
   "source": [
    "import numpy as np\n",
    "#np.warnings.filterwarnings('ignore')\n",
    "import matplotlib.pyplot as pl\n",
    "%matplotlib inline\n",
    "from astropy.table import Table"
   ]
  },
  {
   "cell_type": "code",
   "execution_count": 2,
   "metadata": {
    "collapsed": true
   },
   "outputs": [],
   "source": [
    "import matplotlib as mpl\n",
    "mpl.rcParams['axes.linewidth'] = 1. #set the value globally"
   ]
  },
  {
   "cell_type": "markdown",
   "metadata": {},
   "source": [
    "# K2 candidates with Gaia parallax"
   ]
  },
  {
   "cell_type": "markdown",
   "metadata": {},
   "source": [
    "The merged Gaia parallax and Kepler host star data is downloadable from [here](https://www.dropbox.com/s/ahrunxv1jxzkolr/k2_dr2_4arcsec.fits?dl=0) and column meanings [here](https://exoplanetarchive.ipac.caltech.edu/docs/API_k2_columns.html)."
   ]
  },
  {
   "cell_type": "code",
   "execution_count": 3,
   "metadata": {},
   "outputs": [],
   "source": [
    "datadir='/home/prometheus/data/gaia/'\n",
    "k2_data = Table.read(datadir+'k2_dr2_4arcsec.fits', format='fits')"
   ]
  },
  {
   "cell_type": "raw",
   "metadata": {
    "scrolled": false
   },
   "source": [
    "k2_data.columns.keys()"
   ]
  },
  {
   "cell_type": "code",
   "execution_count": 4,
   "metadata": {
    "scrolled": true
   },
   "outputs": [
    {
     "data": {
      "text/html": [
       "&lt;Table masked=True length=5&gt;\n",
       "<table id=\"table139949920704496\" class=\"table-striped table-bordered table-condensed\">\n",
       "<thead><tr><th>angDist</th><th>epic_number</th><th>source_id</th><th>ra_gaia</th><th>ra_error</th><th>dec_gaia</th><th>dec_error</th><th>parallax</th><th>parallax_error</th><th>pmra</th><th>pmra_error</th><th>pmdec</th><th>pmdec_error</th><th>phot_g_mean_flux</th><th>phot_g_mean_flux_error</th><th>phot_g_mean_mag</th><th>phot_bp_mean_flux</th><th>phot_bp_mean_flux_error</th><th>phot_bp_mean_mag</th><th>phot_rp_mean_flux</th><th>phot_rp_mean_flux_error</th><th>phot_rp_mean_mag</th><th>bp_rp</th><th>radial_velocity</th><th>radial_velocity_error</th><th>teff_val</th><th>a_g_val</th><th>e_bp_min_rp_val</th><th>radius_val</th><th>lum_val</th><th>tm_name</th><th>k2_campaign_str</th><th>k2_type</th><th>ra_nasa</th><th>dec_nasa</th><th>k2_lcflag</th><th>k2_scflag</th><th>k2_teff</th><th>k2_tefferr1</th><th>k2_tefferr2</th><th>k2_logg</th><th>k2_loggerr1</th><th>k2_loggerr2</th><th>k2_metfe</th><th>k2_metfeerr1</th><th>k2_metfeerr2</th><th>k2_rad</th><th>k2_raderr1</th><th>k2_raderr2</th><th>k2_mass</th><th>k2_masserr1</th><th>k2_masserr2</th><th>k2c_disp</th><th>k2c_note</th></tr></thead>\n",
       "<thead><tr><th>arcsec</th><th></th><th></th><th>deg</th><th>0.001 arcsec</th><th>deg</th><th>0.001 arcsec</th><th>0.001 arcsec</th><th>0.001 arcsec</th><th>0.001 arcsec / yr</th><th>0.001 arcsec / yr</th><th>0.001 arcsec / yr</th><th>0.001 arcsec / yr</th><th>ph / s</th><th>ph / s</th><th>mag</th><th>ph / s</th><th>ph / s</th><th>mag</th><th>ph / s</th><th>ph / s</th><th>mag</th><th>mag</th><th>km / s</th><th>km / s</th><th>K</th><th>mag</th><th>mag</th><th>solRad</th><th>solLum</th><th></th><th></th><th></th><th>deg</th><th>deg</th><th></th><th></th><th>K</th><th>K</th><th>K</th><th></th><th></th><th></th><th></th><th></th><th></th><th>solRad</th><th>solRad</th><th>solRad</th><th>solMass</th><th>solMass</th><th>solMass</th><th></th><th></th></tr></thead>\n",
       "<thead><tr><th>float64</th><th>int64</th><th>int64</th><th>float64</th><th>float64</th><th>float64</th><th>float64</th><th>float64</th><th>float64</th><th>float64</th><th>float64</th><th>float64</th><th>float64</th><th>float64</th><th>float64</th><th>float64</th><th>float64</th><th>float64</th><th>float64</th><th>float64</th><th>float64</th><th>float64</th><th>float64</th><th>float64</th><th>float64</th><th>float64</th><th>float64</th><th>float64</th><th>float64</th><th>float64</th><th>str25</th><th>str2</th><th>str8</th><th>float64</th><th>float64</th><th>int64</th><th>int64</th><th>float64</th><th>float64</th><th>float64</th><th>float64</th><th>float64</th><th>float64</th><th>float64</th><th>float64</th><th>float64</th><th>float64</th><th>float64</th><th>float64</th><th>float64</th><th>float64</th><th>float64</th><th>str14</th><th>str59</th></tr></thead>\n",
       "<tr><td>0.140345</td><td>60017806</td><td>2641087471777046016</td><td>353.616269428</td><td>0.0348</td><td>-1.57998492884</td><td>0.0279</td><td>2.8413</td><td>0.0455</td><td>22.318</td><td>0.068</td><td>10.78</td><td>0.05</td><td>291014.0</td><td>72.9614</td><td>12.028582</td><td>160596.0</td><td>317.811</td><td>12.337053</td><td>189717.0</td><td>148.86</td><td>11.566654</td><td>0.770399</td><td>25.79</td><td>1.69</td><td>5924.0</td><td>0.153</td><td>0.0913</td><td>1.13</td><td>1.413</td><td>2MASS J23342787-0134482</td><td>E</td><td>N/A</td><td>353.616152</td><td>-1.580064</td><td>1</td><td>1</td><td>nan</td><td>nan</td><td>nan</td><td>nan</td><td>nan</td><td>nan</td><td>nan</td><td>nan</td><td>nan</td><td>nan</td><td>nan</td><td>nan</td><td>nan</td><td>nan</td><td>nan</td><td>N/A</td><td>N/A</td></tr>\n",
       "<tr><td>0.216363</td><td>60017809</td><td>2634212328648066560</td><td>352.388214108</td><td>0.042</td><td>-3.76887288806</td><td>0.0314</td><td>3.2603</td><td>0.0465</td><td>19.415</td><td>0.095</td><td>4.885</td><td>0.062</td><td>522055.0</td><td>3870.53</td><td>11.394074</td><td>279250.0</td><td>6914.32</td><td>11.736404</td><td>363403.0</td><td>8196.11</td><td>10.860948</td><td>0.875457</td><td>16.58</td><td>10.39</td><td>5535.64</td><td>nan</td><td>nan</td><td>1.53</td><td>1.976</td><td>2MASS J23293314-0346078</td><td>E</td><td>N/A</td><td>352.3881</td><td>-3.768842</td><td>1</td><td>0</td><td>nan</td><td>nan</td><td>nan</td><td>nan</td><td>nan</td><td>nan</td><td>nan</td><td>nan</td><td>nan</td><td>nan</td><td>nan</td><td>nan</td><td>nan</td><td>nan</td><td>nan</td><td>N/A</td><td>N/A</td></tr>\n",
       "<tr><td>3.656256</td><td>60017810</td><td>2740066745462270336</td><td>1.15728651845</td><td>0.4801</td><td>3.54936697526</td><td>0.2785</td><td>1.3113</td><td>0.6026</td><td>-3.077</td><td>1.723</td><td>3.097</td><td>0.584</td><td>324.202</td><td>1.27848</td><td>19.411325</td><td>194.023</td><td>17.4383</td><td>19.631756</td><td>448.011</td><td>14.708</td><td>18.1337</td><td>1.498056</td><td>nan</td><td>nan</td><td>nan</td><td>nan</td><td>nan</td><td>nan</td><td>nan</td><td>2MASS J00043784+0333010</td><td>E</td><td>N/A</td><td>1.15758</td><td>3.55033</td><td>1</td><td>0</td><td>nan</td><td>nan</td><td>nan</td><td>nan</td><td>nan</td><td>nan</td><td>nan</td><td>nan</td><td>nan</td><td>nan</td><td>nan</td><td>nan</td><td>nan</td><td>nan</td><td>nan</td><td>N/A</td><td>N/A</td></tr>\n",
       "<tr><td>0.319951</td><td>60017810</td><td>2740066749756528384</td><td>1.15764561559</td><td>0.041</td><td>3.55033058177</td><td>0.0213</td><td>1.2328</td><td>0.0392</td><td>-5.213</td><td>0.113</td><td>3.132</td><td>0.045</td><td>30766.9</td><td>368.86</td><td>14.468157</td><td>15856.7</td><td>588.079</td><td>14.850857</td><td>22074.4</td><td>768.132</td><td>13.902197</td><td>0.94866</td><td>nan</td><td>nan</td><td>5223.5</td><td>0.2413</td><td>0.1155</td><td>1.12</td><td>0.847</td><td>2MASS J00043784+0333010</td><td>E</td><td>N/A</td><td>1.15758</td><td>3.55033</td><td>1</td><td>0</td><td>nan</td><td>nan</td><td>nan</td><td>nan</td><td>nan</td><td>nan</td><td>nan</td><td>nan</td><td>nan</td><td>nan</td><td>nan</td><td>nan</td><td>nan</td><td>nan</td><td>nan</td><td>N/A</td><td>N/A</td></tr>\n",
       "<tr><td>0.18206</td><td>60017812</td><td>2545233735990589312</td><td>4.17097801639</td><td>0.0642</td><td>-0.15703810746</td><td>0.0452</td><td>1.5988</td><td>0.0768</td><td>9.383</td><td>0.144</td><td>-5.286</td><td>0.098</td><td>5343.56</td><td>24.1827</td><td>16.368788</td><td>1753.41</td><td>37.3913</td><td>17.24168</td><td>5449.32</td><td>64.9816</td><td>15.421065</td><td>1.820615</td><td>nan</td><td>nan</td><td>3926.33</td><td>nan</td><td>nan</td><td>0.82</td><td>0.145</td><td>2MASS J00164102-0009251</td><td>E</td><td>N/A</td><td>4.17096</td><td>-0.15697</td><td>1</td><td>0</td><td>nan</td><td>nan</td><td>nan</td><td>nan</td><td>nan</td><td>nan</td><td>nan</td><td>nan</td><td>nan</td><td>nan</td><td>nan</td><td>nan</td><td>nan</td><td>nan</td><td>nan</td><td>N/A</td><td>N/A</td></tr>\n",
       "</table>"
      ],
      "text/plain": [
       "<Table masked=True length=5>\n",
       "angDist  epic_number      source_id      ... k2_masserr2 k2c_disp k2c_note\n",
       " arcsec                                  ...   solMass                    \n",
       "float64     int64           int64        ...   float64    str14    str59  \n",
       "-------- ----------- ------------------- ... ----------- -------- --------\n",
       "0.140345    60017806 2641087471777046016 ...         nan      N/A      N/A\n",
       "0.216363    60017809 2634212328648066560 ...         nan      N/A      N/A\n",
       "3.656256    60017810 2740066745462270336 ...         nan      N/A      N/A\n",
       "0.319951    60017810 2740066749756528384 ...         nan      N/A      N/A\n",
       " 0.18206    60017812 2545233735990589312 ...         nan      N/A      N/A"
      ]
     },
     "execution_count": 4,
     "metadata": {},
     "output_type": "execute_result"
    }
   ],
   "source": [
    "k2_data[:5]"
   ]
  },
  {
   "cell_type": "markdown",
   "metadata": {},
   "source": [
    "convert table to pandas"
   ]
  },
  {
   "cell_type": "code",
   "execution_count": 5,
   "metadata": {
    "scrolled": true
   },
   "outputs": [
    {
     "data": {
      "text/html": [
       "<div>\n",
       "<style>\n",
       "    .dataframe thead tr:only-child th {\n",
       "        text-align: right;\n",
       "    }\n",
       "\n",
       "    .dataframe thead th {\n",
       "        text-align: left;\n",
       "    }\n",
       "\n",
       "    .dataframe tbody tr th {\n",
       "        vertical-align: top;\n",
       "    }\n",
       "</style>\n",
       "<table border=\"1\" class=\"dataframe\">\n",
       "  <thead>\n",
       "    <tr style=\"text-align: right;\">\n",
       "      <th></th>\n",
       "      <th>angDist</th>\n",
       "      <th>epic_number</th>\n",
       "      <th>source_id</th>\n",
       "      <th>ra_gaia</th>\n",
       "      <th>ra_error</th>\n",
       "      <th>dec_gaia</th>\n",
       "      <th>dec_error</th>\n",
       "      <th>parallax</th>\n",
       "      <th>parallax_error</th>\n",
       "      <th>pmra</th>\n",
       "      <th>...</th>\n",
       "      <th>k2_metfeerr1</th>\n",
       "      <th>k2_metfeerr2</th>\n",
       "      <th>k2_rad</th>\n",
       "      <th>k2_raderr1</th>\n",
       "      <th>k2_raderr2</th>\n",
       "      <th>k2_mass</th>\n",
       "      <th>k2_masserr1</th>\n",
       "      <th>k2_masserr2</th>\n",
       "      <th>k2c_disp</th>\n",
       "      <th>k2c_note</th>\n",
       "    </tr>\n",
       "  </thead>\n",
       "  <tbody>\n",
       "    <tr>\n",
       "      <th>0</th>\n",
       "      <td>0.140345</td>\n",
       "      <td>60017806.0</td>\n",
       "      <td>2.641087e+18</td>\n",
       "      <td>353.616269</td>\n",
       "      <td>0.0348</td>\n",
       "      <td>-1.579985</td>\n",
       "      <td>0.0279</td>\n",
       "      <td>2.8413</td>\n",
       "      <td>0.0455</td>\n",
       "      <td>22.318</td>\n",
       "      <td>...</td>\n",
       "      <td>NaN</td>\n",
       "      <td>NaN</td>\n",
       "      <td>NaN</td>\n",
       "      <td>NaN</td>\n",
       "      <td>NaN</td>\n",
       "      <td>NaN</td>\n",
       "      <td>NaN</td>\n",
       "      <td>NaN</td>\n",
       "      <td>N/A</td>\n",
       "      <td>N/A</td>\n",
       "    </tr>\n",
       "    <tr>\n",
       "      <th>1</th>\n",
       "      <td>0.216363</td>\n",
       "      <td>60017809.0</td>\n",
       "      <td>2.634212e+18</td>\n",
       "      <td>352.388214</td>\n",
       "      <td>0.0420</td>\n",
       "      <td>-3.768873</td>\n",
       "      <td>0.0314</td>\n",
       "      <td>3.2603</td>\n",
       "      <td>0.0465</td>\n",
       "      <td>19.415</td>\n",
       "      <td>...</td>\n",
       "      <td>NaN</td>\n",
       "      <td>NaN</td>\n",
       "      <td>NaN</td>\n",
       "      <td>NaN</td>\n",
       "      <td>NaN</td>\n",
       "      <td>NaN</td>\n",
       "      <td>NaN</td>\n",
       "      <td>NaN</td>\n",
       "      <td>N/A</td>\n",
       "      <td>N/A</td>\n",
       "    </tr>\n",
       "    <tr>\n",
       "      <th>2</th>\n",
       "      <td>3.656256</td>\n",
       "      <td>60017810.0</td>\n",
       "      <td>2.740067e+18</td>\n",
       "      <td>1.157287</td>\n",
       "      <td>0.4801</td>\n",
       "      <td>3.549367</td>\n",
       "      <td>0.2785</td>\n",
       "      <td>1.3113</td>\n",
       "      <td>0.6026</td>\n",
       "      <td>-3.077</td>\n",
       "      <td>...</td>\n",
       "      <td>NaN</td>\n",
       "      <td>NaN</td>\n",
       "      <td>NaN</td>\n",
       "      <td>NaN</td>\n",
       "      <td>NaN</td>\n",
       "      <td>NaN</td>\n",
       "      <td>NaN</td>\n",
       "      <td>NaN</td>\n",
       "      <td>N/A</td>\n",
       "      <td>N/A</td>\n",
       "    </tr>\n",
       "    <tr>\n",
       "      <th>3</th>\n",
       "      <td>0.319951</td>\n",
       "      <td>60017810.0</td>\n",
       "      <td>2.740067e+18</td>\n",
       "      <td>1.157646</td>\n",
       "      <td>0.0410</td>\n",
       "      <td>3.550331</td>\n",
       "      <td>0.0213</td>\n",
       "      <td>1.2328</td>\n",
       "      <td>0.0392</td>\n",
       "      <td>-5.213</td>\n",
       "      <td>...</td>\n",
       "      <td>NaN</td>\n",
       "      <td>NaN</td>\n",
       "      <td>NaN</td>\n",
       "      <td>NaN</td>\n",
       "      <td>NaN</td>\n",
       "      <td>NaN</td>\n",
       "      <td>NaN</td>\n",
       "      <td>NaN</td>\n",
       "      <td>N/A</td>\n",
       "      <td>N/A</td>\n",
       "    </tr>\n",
       "    <tr>\n",
       "      <th>4</th>\n",
       "      <td>0.182060</td>\n",
       "      <td>60017812.0</td>\n",
       "      <td>2.545234e+18</td>\n",
       "      <td>4.170978</td>\n",
       "      <td>0.0642</td>\n",
       "      <td>-0.157038</td>\n",
       "      <td>0.0452</td>\n",
       "      <td>1.5988</td>\n",
       "      <td>0.0768</td>\n",
       "      <td>9.383</td>\n",
       "      <td>...</td>\n",
       "      <td>NaN</td>\n",
       "      <td>NaN</td>\n",
       "      <td>NaN</td>\n",
       "      <td>NaN</td>\n",
       "      <td>NaN</td>\n",
       "      <td>NaN</td>\n",
       "      <td>NaN</td>\n",
       "      <td>NaN</td>\n",
       "      <td>N/A</td>\n",
       "      <td>N/A</td>\n",
       "    </tr>\n",
       "  </tbody>\n",
       "</table>\n",
       "<p>5 rows × 54 columns</p>\n",
       "</div>"
      ],
      "text/plain": [
       "    angDist  epic_number     source_id     ra_gaia  ra_error  dec_gaia  \\\n",
       "0  0.140345   60017806.0  2.641087e+18  353.616269    0.0348 -1.579985   \n",
       "1  0.216363   60017809.0  2.634212e+18  352.388214    0.0420 -3.768873   \n",
       "2  3.656256   60017810.0  2.740067e+18    1.157287    0.4801  3.549367   \n",
       "3  0.319951   60017810.0  2.740067e+18    1.157646    0.0410  3.550331   \n",
       "4  0.182060   60017812.0  2.545234e+18    4.170978    0.0642 -0.157038   \n",
       "\n",
       "   dec_error  parallax  parallax_error    pmra    ...     k2_metfeerr1  \\\n",
       "0     0.0279    2.8413          0.0455  22.318    ...              NaN   \n",
       "1     0.0314    3.2603          0.0465  19.415    ...              NaN   \n",
       "2     0.2785    1.3113          0.6026  -3.077    ...              NaN   \n",
       "3     0.0213    1.2328          0.0392  -5.213    ...              NaN   \n",
       "4     0.0452    1.5988          0.0768   9.383    ...              NaN   \n",
       "\n",
       "   k2_metfeerr2  k2_rad  k2_raderr1  k2_raderr2  k2_mass  k2_masserr1  \\\n",
       "0           NaN     NaN         NaN         NaN      NaN          NaN   \n",
       "1           NaN     NaN         NaN         NaN      NaN          NaN   \n",
       "2           NaN     NaN         NaN         NaN      NaN          NaN   \n",
       "3           NaN     NaN         NaN         NaN      NaN          NaN   \n",
       "4           NaN     NaN         NaN         NaN      NaN          NaN   \n",
       "\n",
       "   k2_masserr2  k2c_disp  k2c_note  \n",
       "0          NaN       N/A       N/A  \n",
       "1          NaN       N/A       N/A  \n",
       "2          NaN       N/A       N/A  \n",
       "3          NaN       N/A       N/A  \n",
       "4          NaN       N/A       N/A  \n",
       "\n",
       "[5 rows x 54 columns]"
      ]
     },
     "execution_count": 5,
     "metadata": {},
     "output_type": "execute_result"
    }
   ],
   "source": [
    "df1 = k2_data.to_pandas()\n",
    "df1.head()"
   ]
  },
  {
   "cell_type": "code",
   "execution_count": 6,
   "metadata": {
    "scrolled": true
   },
   "outputs": [
    {
     "data": {
      "text/plain": [
       "(364664, 54)"
      ]
     },
     "execution_count": 6,
     "metadata": {},
     "output_type": "execute_result"
    }
   ],
   "source": [
    "df1.shape"
   ]
  },
  {
   "cell_type": "code",
   "execution_count": 11,
   "metadata": {},
   "outputs": [
    {
     "data": {
      "text/plain": [
       "array(['CANDIDATE', 'CONFIRMED', 'FALSE POSITIVE', 'N/A'], dtype=object)"
      ]
     },
     "execution_count": 11,
     "metadata": {},
     "output_type": "execute_result"
    }
   ],
   "source": [
    "np.unique(df1['k2c_disp'])"
   ]
  },
  {
   "cell_type": "code",
   "execution_count": 12,
   "metadata": {},
   "outputs": [
    {
     "data": {
      "text/plain": [
       "Index(['angDist', 'epic_number', 'source_id', 'ra_gaia', 'ra_error',\n",
       "       'dec_gaia', 'dec_error', 'parallax', 'parallax_error', 'pmra',\n",
       "       'pmra_error', 'pmdec', 'pmdec_error', 'phot_g_mean_flux',\n",
       "       'phot_g_mean_flux_error', 'phot_g_mean_mag', 'phot_bp_mean_flux',\n",
       "       'phot_bp_mean_flux_error', 'phot_bp_mean_mag', 'phot_rp_mean_flux',\n",
       "       'phot_rp_mean_flux_error', 'phot_rp_mean_mag', 'bp_rp',\n",
       "       'radial_velocity', 'radial_velocity_error', 'teff_val', 'a_g_val',\n",
       "       'e_bp_min_rp_val', 'radius_val', 'lum_val', 'tm_name',\n",
       "       'k2_campaign_str', 'k2_type', 'ra_nasa', 'dec_nasa', 'k2_lcflag',\n",
       "       'k2_scflag', 'k2_teff', 'k2_tefferr1', 'k2_tefferr2', 'k2_logg',\n",
       "       'k2_loggerr1', 'k2_loggerr2', 'k2_metfe', 'k2_metfeerr1',\n",
       "       'k2_metfeerr2', 'k2_rad', 'k2_raderr1', 'k2_raderr2', 'k2_mass',\n",
       "       'k2_masserr1', 'k2_masserr2', 'k2c_disp', 'k2c_note'],\n",
       "      dtype='object')"
      ]
     },
     "execution_count": 12,
     "metadata": {},
     "output_type": "execute_result"
    }
   ],
   "source": [
    "df1.columns"
   ]
  },
  {
   "cell_type": "code",
   "execution_count": 8,
   "metadata": {
    "collapsed": true
   },
   "outputs": [],
   "source": [
    "df1['KOI'] = df1['kepoi_name'].astype('str').apply(lambda x: x[2:])"
   ]
  },
  {
   "cell_type": "markdown",
   "metadata": {},
   "source": [
    "## Morton+2016 FPP\n",
    "\n",
    "* fetch [Table 6](http://vizier.cfa.harvard.edu/viz-bin/VizieR?-source=J/ApJ/822/86) of Morton+2016 using [astropy.astroquery.Vizier](http://astroquery.readthedocs.io/en/latest/vizier/vizier.html)"
   ]
  },
  {
   "cell_type": "code",
   "execution_count": 9,
   "metadata": {},
   "outputs": [
    {
     "name": "stdout",
     "output_type": "stream",
     "text": [
      "{'J/ApJ/822/86': 'False positive probabilities for Q1-Q17 DR24 KOIs (Morton+, 2016)'}\n"
     ]
    }
   ],
   "source": [
    "from astroquery.vizier import Vizier\n",
    "\n",
    "Vizier.ROW_LIMIT = -1\n",
    "catalog_list = Vizier.find_catalogs('False positive probabilities for Q1-Q17 DR24 KOIs Morton 2016')\n",
    "print({k:v.description for k,v in catalog_list.items()})"
   ]
  },
  {
   "cell_type": "code",
   "execution_count": 10,
   "metadata": {
    "collapsed": true
   },
   "outputs": [],
   "source": [
    "catalogs = Vizier.get_catalogs(catalog_list.keys())"
   ]
  },
  {
   "cell_type": "code",
   "execution_count": 11,
   "metadata": {},
   "outputs": [
    {
     "name": "stdout",
     "output_type": "stream",
     "text": [
      "TableList with 3 tables:\n",
      "\t'0:J/ApJ/822/86/table3' with 12 column(s) and 9 row(s) \n",
      "\t'1:J/ApJ/822/86/table5' with 17 column(s) and 6102 row(s) \n",
      "\t'2:J/ApJ/822/86/table6' with 15 column(s) and 7470 row(s) \n"
     ]
    }
   ],
   "source": [
    "print(catalogs)"
   ]
  },
  {
   "cell_type": "code",
   "execution_count": 12,
   "metadata": {},
   "outputs": [
    {
     "data": {
      "text/html": [
       "&lt;Table masked=True length=5&gt;\n",
       "<table id=\"table139678645201160\" class=\"table-striped table-bordered table-condensed\">\n",
       "<thead><tr><th>KOI</th><th>HZ</th><th>Per</th><th>dsec</th><th>PrEB</th><th>PrEB2</th><th>PrHEB</th><th>PrHEB2</th><th>PrBEB</th><th>PrBEB2</th><th>Prboxy</th><th>Prlong</th><th>fp</th><th>FPP</th><th>e_FPP</th></tr></thead>\n",
       "<thead><tr><th></th><th></th><th>d</th><th>ppm</th><th></th><th></th><th></th><th></th><th></th><th></th><th></th><th></th><th></th><th></th><th></th></tr></thead>\n",
       "<thead><tr><th>float32</th><th>bytes1</th><th>float32</th><th>int32</th><th>float32</th><th>float32</th><th>float32</th><th>float32</th><th>float32</th><th>float32</th><th>float32</th><th>bytes7</th><th>float32</th><th>float32</th><th>float32</th></tr></thead>\n",
       "<tr><td>1.01</td><td></td><td>2.471</td><td>20</td><td>0.0049999999</td><td>0.001</td><td>0.00030000001</td><td>3.9999999e-05</td><td>0.0</td><td>0.0</td><td>0.0</td><td>0.0e+00</td><td>0.074</td><td>0.0060000001</td><td>0.00079999998</td></tr>\n",
       "<tr><td>2.01</td><td></td><td>2.205</td><td>96</td><td>0.0</td><td>0.0</td><td>0.0</td><td>0.0</td><td>0.0</td><td>0.0</td><td>0.0</td><td>0.0e+00</td><td>0.057</td><td>0.0</td><td>0.0</td></tr>\n",
       "<tr><td>3.01</td><td></td><td>4.888</td><td>11</td><td>0.0</td><td>0.0</td><td>0.0</td><td>0.0</td><td>0.0</td><td>0.0</td><td>0.0</td><td>0.0e+00</td><td>--</td><td>0.0</td><td>2e-06</td></tr>\n",
       "<tr><td>4.01</td><td></td><td>3.849</td><td>66</td><td>0.0099999998</td><td>0.00030000001</td><td>0.0070000002</td><td>9.9999997e-06</td><td>0.00060000003</td><td>0.0</td><td>0.0</td><td>0.0e+00</td><td>0.069</td><td>0.02</td><td>0.0049999999</td></tr>\n",
       "<tr><td>5.01</td><td></td><td>4.780</td><td>15</td><td>0.2</td><td>0.003</td><td>0.029999999</td><td>4.9999999e-05</td><td>3.9999999e-05</td><td>0.0</td><td>0.0</td><td>0.0e+00</td><td>0.052</td><td>0.2</td><td>0.2</td></tr>\n",
       "</table>"
      ],
      "text/plain": [
       "<Table masked=True length=5>\n",
       "  KOI     HZ     Per    dsec ...  Prlong    fp       FPP          e_FPP    \n",
       "                  d     ppm  ...                                           \n",
       "float32 bytes1 float32 int32 ...  bytes7 float32   float32       float32   \n",
       "------- ------ ------- ----- ... ------- ------- ------------ -------------\n",
       "   1.01          2.471    20 ... 0.0e+00   0.074 0.0060000001 0.00079999998\n",
       "   2.01          2.205    96 ... 0.0e+00   0.057          0.0           0.0\n",
       "   3.01          4.888    11 ... 0.0e+00      --          0.0         2e-06\n",
       "   4.01          3.849    66 ... 0.0e+00   0.069         0.02  0.0049999999\n",
       "   5.01          4.780    15 ... 0.0e+00   0.052          0.2           0.2"
      ]
     },
     "execution_count": 12,
     "metadata": {},
     "output_type": "execute_result"
    }
   ],
   "source": [
    "fpp = catalogs[2]\n",
    "fpp[:5]"
   ]
  },
  {
   "cell_type": "markdown",
   "metadata": {},
   "source": [
    "convert table to pandas, then fix the format of KOI column"
   ]
  },
  {
   "cell_type": "code",
   "execution_count": 13,
   "metadata": {},
   "outputs": [
    {
     "data": {
      "text/html": [
       "<div>\n",
       "<style>\n",
       "    .dataframe thead tr:only-child th {\n",
       "        text-align: right;\n",
       "    }\n",
       "\n",
       "    .dataframe thead th {\n",
       "        text-align: left;\n",
       "    }\n",
       "\n",
       "    .dataframe tbody tr th {\n",
       "        vertical-align: top;\n",
       "    }\n",
       "</style>\n",
       "<table border=\"1\" class=\"dataframe\">\n",
       "  <thead>\n",
       "    <tr style=\"text-align: right;\">\n",
       "      <th></th>\n",
       "      <th>KOI</th>\n",
       "      <th>HZ</th>\n",
       "      <th>Per</th>\n",
       "      <th>dsec</th>\n",
       "      <th>PrEB</th>\n",
       "      <th>PrEB2</th>\n",
       "      <th>PrHEB</th>\n",
       "      <th>PrHEB2</th>\n",
       "      <th>PrBEB</th>\n",
       "      <th>PrBEB2</th>\n",
       "      <th>Prboxy</th>\n",
       "      <th>Prlong</th>\n",
       "      <th>fp</th>\n",
       "      <th>FPP</th>\n",
       "      <th>e_FPP</th>\n",
       "    </tr>\n",
       "  </thead>\n",
       "  <tbody>\n",
       "    <tr>\n",
       "      <th>0</th>\n",
       "      <td>0001.01</td>\n",
       "      <td>b''</td>\n",
       "      <td>2.471</td>\n",
       "      <td>20.0</td>\n",
       "      <td>0.005</td>\n",
       "      <td>0.0010</td>\n",
       "      <td>0.0003</td>\n",
       "      <td>0.00004</td>\n",
       "      <td>0.00000</td>\n",
       "      <td>0.0</td>\n",
       "      <td>0.0</td>\n",
       "      <td>b'0.0e+00'</td>\n",
       "      <td>0.074</td>\n",
       "      <td>0.006</td>\n",
       "      <td>0.000800</td>\n",
       "    </tr>\n",
       "    <tr>\n",
       "      <th>1</th>\n",
       "      <td>0002.01</td>\n",
       "      <td>b''</td>\n",
       "      <td>2.205</td>\n",
       "      <td>96.0</td>\n",
       "      <td>0.000</td>\n",
       "      <td>0.0000</td>\n",
       "      <td>0.0000</td>\n",
       "      <td>0.00000</td>\n",
       "      <td>0.00000</td>\n",
       "      <td>0.0</td>\n",
       "      <td>0.0</td>\n",
       "      <td>b'0.0e+00'</td>\n",
       "      <td>0.057</td>\n",
       "      <td>0.000</td>\n",
       "      <td>0.000000</td>\n",
       "    </tr>\n",
       "    <tr>\n",
       "      <th>2</th>\n",
       "      <td>0003.01</td>\n",
       "      <td>b''</td>\n",
       "      <td>4.888</td>\n",
       "      <td>11.0</td>\n",
       "      <td>0.000</td>\n",
       "      <td>0.0000</td>\n",
       "      <td>0.0000</td>\n",
       "      <td>0.00000</td>\n",
       "      <td>0.00000</td>\n",
       "      <td>0.0</td>\n",
       "      <td>0.0</td>\n",
       "      <td>b'0.0e+00'</td>\n",
       "      <td>NaN</td>\n",
       "      <td>0.000</td>\n",
       "      <td>0.000002</td>\n",
       "    </tr>\n",
       "    <tr>\n",
       "      <th>3</th>\n",
       "      <td>0004.01</td>\n",
       "      <td>b''</td>\n",
       "      <td>3.849</td>\n",
       "      <td>66.0</td>\n",
       "      <td>0.010</td>\n",
       "      <td>0.0003</td>\n",
       "      <td>0.0070</td>\n",
       "      <td>0.00001</td>\n",
       "      <td>0.00060</td>\n",
       "      <td>0.0</td>\n",
       "      <td>0.0</td>\n",
       "      <td>b'0.0e+00'</td>\n",
       "      <td>0.069</td>\n",
       "      <td>0.020</td>\n",
       "      <td>0.005000</td>\n",
       "    </tr>\n",
       "    <tr>\n",
       "      <th>4</th>\n",
       "      <td>0005.01</td>\n",
       "      <td>b''</td>\n",
       "      <td>4.780</td>\n",
       "      <td>15.0</td>\n",
       "      <td>0.200</td>\n",
       "      <td>0.0030</td>\n",
       "      <td>0.0300</td>\n",
       "      <td>0.00005</td>\n",
       "      <td>0.00004</td>\n",
       "      <td>0.0</td>\n",
       "      <td>0.0</td>\n",
       "      <td>b'0.0e+00'</td>\n",
       "      <td>0.052</td>\n",
       "      <td>0.200</td>\n",
       "      <td>0.200000</td>\n",
       "    </tr>\n",
       "  </tbody>\n",
       "</table>\n",
       "</div>"
      ],
      "text/plain": [
       "       KOI   HZ    Per  dsec   PrEB   PrEB2   PrHEB   PrHEB2    PrBEB  PrBEB2  \\\n",
       "0  0001.01  b''  2.471  20.0  0.005  0.0010  0.0003  0.00004  0.00000     0.0   \n",
       "1  0002.01  b''  2.205  96.0  0.000  0.0000  0.0000  0.00000  0.00000     0.0   \n",
       "2  0003.01  b''  4.888  11.0  0.000  0.0000  0.0000  0.00000  0.00000     0.0   \n",
       "3  0004.01  b''  3.849  66.0  0.010  0.0003  0.0070  0.00001  0.00060     0.0   \n",
       "4  0005.01  b''  4.780  15.0  0.200  0.0030  0.0300  0.00005  0.00004     0.0   \n",
       "\n",
       "   Prboxy      Prlong     fp    FPP     e_FPP  \n",
       "0     0.0  b'0.0e+00'  0.074  0.006  0.000800  \n",
       "1     0.0  b'0.0e+00'  0.057  0.000  0.000000  \n",
       "2     0.0  b'0.0e+00'    NaN  0.000  0.000002  \n",
       "3     0.0  b'0.0e+00'  0.069  0.020  0.005000  \n",
       "4     0.0  b'0.0e+00'  0.052  0.200  0.200000  "
      ]
     },
     "execution_count": 13,
     "metadata": {},
     "output_type": "execute_result"
    }
   ],
   "source": [
    "df2 = fpp.to_pandas()\n",
    "df2['KOI'] = df2['KOI'].astype('str').apply(lambda x: x.zfill(7))\n",
    "df2.head()"
   ]
  },
  {
   "cell_type": "markdown",
   "metadata": {},
   "source": [
    "## NExSci \n",
    "\n",
    "* fetch Kepler candidate planet properties from [nexsci](https://exoplanetarchive.ipac.caltech.edu/docs/program_interfaces.html)."
   ]
  },
  {
   "cell_type": "code",
   "execution_count": 14,
   "metadata": {
    "collapsed": true
   },
   "outputs": [],
   "source": [
    "import pandas as pd\n",
    "\n",
    "refresh = False\n",
    "\n",
    "fname = '~/data/q1_q17_dr25_koi.csv'\n",
    "if refresh:\n",
    "    koi_link='http://exoplanetarchive.ipac.caltech.edu/cgi-bin/nstedAPI/nph-nstedAPI?table=q1_q17_dr25_koi&select=*'\n",
    "    koi = pd.read_csv(koi_link)\n",
    "    koi.to_csv(fname)\n",
    "else:\n",
    "    koi = pd.read_csv(fname,index_col=0)"
   ]
  },
  {
   "cell_type": "code",
   "execution_count": 15,
   "metadata": {
    "scrolled": false
   },
   "outputs": [
    {
     "data": {
      "text/html": [
       "<div>\n",
       "<style>\n",
       "    .dataframe thead tr:only-child th {\n",
       "        text-align: right;\n",
       "    }\n",
       "\n",
       "    .dataframe thead th {\n",
       "        text-align: left;\n",
       "    }\n",
       "\n",
       "    .dataframe tbody tr th {\n",
       "        vertical-align: top;\n",
       "    }\n",
       "</style>\n",
       "<table border=\"1\" class=\"dataframe\">\n",
       "  <thead>\n",
       "    <tr style=\"text-align: right;\">\n",
       "      <th></th>\n",
       "      <th>kepid</th>\n",
       "      <th>kepoi_name</th>\n",
       "      <th>kepler_name</th>\n",
       "      <th>ra</th>\n",
       "      <th>ra_err</th>\n",
       "      <th>ra_str</th>\n",
       "      <th>dec</th>\n",
       "      <th>dec_err</th>\n",
       "      <th>dec_str</th>\n",
       "      <th>koi_gmag</th>\n",
       "      <th>...</th>\n",
       "      <th>koi_fpflag_co</th>\n",
       "      <th>koi_fpflag_ec</th>\n",
       "      <th>koi_insol</th>\n",
       "      <th>koi_insol_err1</th>\n",
       "      <th>koi_insol_err2</th>\n",
       "      <th>koi_srho</th>\n",
       "      <th>koi_srho_err1</th>\n",
       "      <th>koi_srho_err2</th>\n",
       "      <th>koi_fittype</th>\n",
       "      <th>koi_score</th>\n",
       "    </tr>\n",
       "  </thead>\n",
       "  <tbody>\n",
       "    <tr>\n",
       "      <th>8049</th>\n",
       "      <td>9530945</td>\n",
       "      <td>K00708.01</td>\n",
       "      <td>Kepler-216 c</td>\n",
       "      <td>293.72806</td>\n",
       "      <td>0.0</td>\n",
       "      <td>19h34m54.73s</td>\n",
       "      <td>46.129150</td>\n",
       "      <td>0.0</td>\n",
       "      <td>+46d07m44.9s</td>\n",
       "      <td>14.372</td>\n",
       "      <td>...</td>\n",
       "      <td>0</td>\n",
       "      <td>0</td>\n",
       "      <td>104.04</td>\n",
       "      <td>51.40</td>\n",
       "      <td>-36.02</td>\n",
       "      <td>0.48517</td>\n",
       "      <td>0.00391</td>\n",
       "      <td>-0.12441</td>\n",
       "      <td>LS+MCMC</td>\n",
       "      <td>1.000</td>\n",
       "    </tr>\n",
       "    <tr>\n",
       "      <th>8050</th>\n",
       "      <td>9530945</td>\n",
       "      <td>K00708.02</td>\n",
       "      <td>Kepler-216 b</td>\n",
       "      <td>293.72806</td>\n",
       "      <td>0.0</td>\n",
       "      <td>19h34m54.73s</td>\n",
       "      <td>46.129150</td>\n",
       "      <td>0.0</td>\n",
       "      <td>+46d07m44.9s</td>\n",
       "      <td>14.372</td>\n",
       "      <td>...</td>\n",
       "      <td>0</td>\n",
       "      <td>0</td>\n",
       "      <td>308.61</td>\n",
       "      <td>152.48</td>\n",
       "      <td>-106.84</td>\n",
       "      <td>0.43582</td>\n",
       "      <td>0.11411</td>\n",
       "      <td>-0.11699</td>\n",
       "      <td>LS+MCMC</td>\n",
       "      <td>1.000</td>\n",
       "    </tr>\n",
       "    <tr>\n",
       "      <th>8051</th>\n",
       "      <td>9578686</td>\n",
       "      <td>K00709.01</td>\n",
       "      <td>Kepler-651 b</td>\n",
       "      <td>287.33279</td>\n",
       "      <td>0.0</td>\n",
       "      <td>19h09m19.87s</td>\n",
       "      <td>46.203510</td>\n",
       "      <td>0.0</td>\n",
       "      <td>+46d12m12.6s</td>\n",
       "      <td>14.460</td>\n",
       "      <td>...</td>\n",
       "      <td>0</td>\n",
       "      <td>0</td>\n",
       "      <td>25.63</td>\n",
       "      <td>6.91</td>\n",
       "      <td>-5.12</td>\n",
       "      <td>1.82855</td>\n",
       "      <td>1.00319</td>\n",
       "      <td>-0.05226</td>\n",
       "      <td>LS+MCMC</td>\n",
       "      <td>1.000</td>\n",
       "    </tr>\n",
       "    <tr>\n",
       "      <th>8052</th>\n",
       "      <td>6678383</td>\n",
       "      <td>K00111.01</td>\n",
       "      <td>Kepler-104 b</td>\n",
       "      <td>287.60461</td>\n",
       "      <td>0.0</td>\n",
       "      <td>19h10m25.11s</td>\n",
       "      <td>42.166779</td>\n",
       "      <td>0.0</td>\n",
       "      <td>+42d10m00.4s</td>\n",
       "      <td>12.956</td>\n",
       "      <td>...</td>\n",
       "      <td>0</td>\n",
       "      <td>0</td>\n",
       "      <td>124.31</td>\n",
       "      <td>48.42</td>\n",
       "      <td>-34.01</td>\n",
       "      <td>0.54640</td>\n",
       "      <td>0.42632</td>\n",
       "      <td>-0.06106</td>\n",
       "      <td>LS+MCMC</td>\n",
       "      <td>0.999</td>\n",
       "    </tr>\n",
       "    <tr>\n",
       "      <th>8053</th>\n",
       "      <td>5613330</td>\n",
       "      <td>K00649.01</td>\n",
       "      <td>Kepler-635 b</td>\n",
       "      <td>289.77325</td>\n",
       "      <td>0.0</td>\n",
       "      <td>19h19m05.58s</td>\n",
       "      <td>40.800720</td>\n",
       "      <td>0.0</td>\n",
       "      <td>+40d48m02.6s</td>\n",
       "      <td>13.666</td>\n",
       "      <td>...</td>\n",
       "      <td>0</td>\n",
       "      <td>0</td>\n",
       "      <td>97.94</td>\n",
       "      <td>49.00</td>\n",
       "      <td>-33.09</td>\n",
       "      <td>0.30321</td>\n",
       "      <td>0.01485</td>\n",
       "      <td>-0.11063</td>\n",
       "      <td>LS+MCMC</td>\n",
       "      <td>1.000</td>\n",
       "    </tr>\n",
       "  </tbody>\n",
       "</table>\n",
       "<p>5 rows × 153 columns</p>\n",
       "</div>"
      ],
      "text/plain": [
       "        kepid kepoi_name   kepler_name         ra  ra_err        ra_str  \\\n",
       "8049  9530945  K00708.01  Kepler-216 c  293.72806     0.0  19h34m54.73s   \n",
       "8050  9530945  K00708.02  Kepler-216 b  293.72806     0.0  19h34m54.73s   \n",
       "8051  9578686  K00709.01  Kepler-651 b  287.33279     0.0  19h09m19.87s   \n",
       "8052  6678383  K00111.01  Kepler-104 b  287.60461     0.0  19h10m25.11s   \n",
       "8053  5613330  K00649.01  Kepler-635 b  289.77325     0.0  19h19m05.58s   \n",
       "\n",
       "            dec  dec_err       dec_str  koi_gmag    ...      koi_fpflag_co  \\\n",
       "8049  46.129150      0.0  +46d07m44.9s    14.372    ...                  0   \n",
       "8050  46.129150      0.0  +46d07m44.9s    14.372    ...                  0   \n",
       "8051  46.203510      0.0  +46d12m12.6s    14.460    ...                  0   \n",
       "8052  42.166779      0.0  +42d10m00.4s    12.956    ...                  0   \n",
       "8053  40.800720      0.0  +40d48m02.6s    13.666    ...                  0   \n",
       "\n",
       "      koi_fpflag_ec  koi_insol  koi_insol_err1  koi_insol_err2  koi_srho  \\\n",
       "8049              0     104.04           51.40          -36.02   0.48517   \n",
       "8050              0     308.61          152.48         -106.84   0.43582   \n",
       "8051              0      25.63            6.91           -5.12   1.82855   \n",
       "8052              0     124.31           48.42          -34.01   0.54640   \n",
       "8053              0      97.94           49.00          -33.09   0.30321   \n",
       "\n",
       "      koi_srho_err1  koi_srho_err2  koi_fittype  koi_score  \n",
       "8049        0.00391       -0.12441      LS+MCMC      1.000  \n",
       "8050        0.11411       -0.11699      LS+MCMC      1.000  \n",
       "8051        1.00319       -0.05226      LS+MCMC      1.000  \n",
       "8052        0.42632       -0.06106      LS+MCMC      0.999  \n",
       "8053        0.01485       -0.11063      LS+MCMC      1.000  \n",
       "\n",
       "[5 rows x 153 columns]"
      ]
     },
     "execution_count": 15,
     "metadata": {},
     "output_type": "execute_result"
    }
   ],
   "source": [
    "koi.tail()"
   ]
  },
  {
   "cell_type": "raw",
   "metadata": {
    "scrolled": false
   },
   "source": [
    "koi.columns"
   ]
  },
  {
   "cell_type": "markdown",
   "metadata": {},
   "source": [
    "Note the difference between `koi_disposition` and `koi_pdisposition` as discussed [here](https://exoplanetarchive.ipac.caltech.edu/docs/API_kepcandidate_columns.html).\n",
    "\n",
    "`koi_pdisposition` means project disposition. The pipeline flag that designates the most probable physical explanation of the KOI. Typical values are FALSE POSITIVE, NOT DISPOSITIONED, and CANDIDATE. The value of this flag may change over time as the evaluation of KOIs proceeds to deeper levels of analysis using Kepler time-series pixel and light curve data, or follow-up observations. \n",
    "\n",
    "whereas,\n",
    "`koi_disposition` is the category of this KOI from the Exoplanet Archive. Current values are CANDIDATE, FALSE POSITIVE, NOT DISPOSITIONED or CONFIRMED. All KOIs marked as CONFIRMED are also listed in the Exoplanet Archive Confirmed Planet table. Designations of CANDIDATE, FALSE POSITIVE, and NOT DISPOSITIONED are taken from the Disposition Using Kepler Data."
   ]
  },
  {
   "cell_type": "code",
   "execution_count": 16,
   "metadata": {},
   "outputs": [
    {
     "data": {
      "text/plain": [
       "array(['CANDIDATE', 'CONFIRMED', 'FALSE POSITIVE'], dtype=object)"
      ]
     },
     "execution_count": 16,
     "metadata": {},
     "output_type": "execute_result"
    }
   ],
   "source": [
    "np.unique(koi['koi_disposition'])"
   ]
  },
  {
   "cell_type": "code",
   "execution_count": 17,
   "metadata": {},
   "outputs": [
    {
     "data": {
      "text/plain": [
       "array(['CANDIDATE', 'FALSE POSITIVE'], dtype=object)"
      ]
     },
     "execution_count": 17,
     "metadata": {},
     "output_type": "execute_result"
    }
   ],
   "source": [
    "np.unique(koi['koi_pdisposition'])"
   ]
  },
  {
   "cell_type": "code",
   "execution_count": 18,
   "metadata": {},
   "outputs": [
    {
     "data": {
      "text/plain": [
       "(4034, 153)"
      ]
     },
     "execution_count": 18,
     "metadata": {},
     "output_type": "execute_result"
    }
   ],
   "source": [
    "#get only candidates\n",
    "mask = koi['koi_pdisposition'] == 'CANDIDATE' #| (koi['koi_disposition'] == 'CONFIRMED')\n",
    "df3 = koi[mask]\n",
    "df3.shape"
   ]
  },
  {
   "cell_type": "code",
   "execution_count": 19,
   "metadata": {},
   "outputs": [
    {
     "name": "stderr",
     "output_type": "stream",
     "text": [
      "/home/prometheus/miniconda3/envs/astroconda/lib/python3.6/site-packages/ipykernel_launcher.py:2: SettingWithCopyWarning: \n",
      "A value is trying to be set on a copy of a slice from a DataFrame.\n",
      "Try using .loc[row_indexer,col_indexer] = value instead\n",
      "\n",
      "See the caveats in the documentation: http://pandas.pydata.org/pandas-docs/stable/indexing.html#indexing-view-versus-copy\n",
      "  \n"
     ]
    },
    {
     "data": {
      "text/html": [
       "<div>\n",
       "<style>\n",
       "    .dataframe thead tr:only-child th {\n",
       "        text-align: right;\n",
       "    }\n",
       "\n",
       "    .dataframe thead th {\n",
       "        text-align: left;\n",
       "    }\n",
       "\n",
       "    .dataframe tbody tr th {\n",
       "        vertical-align: top;\n",
       "    }\n",
       "</style>\n",
       "<table border=\"1\" class=\"dataframe\">\n",
       "  <thead>\n",
       "    <tr style=\"text-align: right;\">\n",
       "      <th></th>\n",
       "      <th>kepid</th>\n",
       "      <th>kepoi_name</th>\n",
       "      <th>kepler_name</th>\n",
       "      <th>ra</th>\n",
       "      <th>ra_err</th>\n",
       "      <th>ra_str</th>\n",
       "      <th>dec</th>\n",
       "      <th>dec_err</th>\n",
       "      <th>dec_str</th>\n",
       "      <th>koi_gmag</th>\n",
       "      <th>...</th>\n",
       "      <th>koi_fpflag_ec</th>\n",
       "      <th>koi_insol</th>\n",
       "      <th>koi_insol_err1</th>\n",
       "      <th>koi_insol_err2</th>\n",
       "      <th>koi_srho</th>\n",
       "      <th>koi_srho_err1</th>\n",
       "      <th>koi_srho_err2</th>\n",
       "      <th>koi_fittype</th>\n",
       "      <th>koi_score</th>\n",
       "      <th>KOI</th>\n",
       "    </tr>\n",
       "  </thead>\n",
       "  <tbody>\n",
       "    <tr>\n",
       "      <th>8049</th>\n",
       "      <td>9530945</td>\n",
       "      <td>K00708.01</td>\n",
       "      <td>Kepler-216 c</td>\n",
       "      <td>293.72806</td>\n",
       "      <td>0.0</td>\n",
       "      <td>19h34m54.73s</td>\n",
       "      <td>46.129150</td>\n",
       "      <td>0.0</td>\n",
       "      <td>+46d07m44.9s</td>\n",
       "      <td>14.372</td>\n",
       "      <td>...</td>\n",
       "      <td>0</td>\n",
       "      <td>104.04</td>\n",
       "      <td>51.40</td>\n",
       "      <td>-36.02</td>\n",
       "      <td>0.48517</td>\n",
       "      <td>0.00391</td>\n",
       "      <td>-0.12441</td>\n",
       "      <td>LS+MCMC</td>\n",
       "      <td>1.000</td>\n",
       "      <td>0708.01</td>\n",
       "    </tr>\n",
       "    <tr>\n",
       "      <th>8050</th>\n",
       "      <td>9530945</td>\n",
       "      <td>K00708.02</td>\n",
       "      <td>Kepler-216 b</td>\n",
       "      <td>293.72806</td>\n",
       "      <td>0.0</td>\n",
       "      <td>19h34m54.73s</td>\n",
       "      <td>46.129150</td>\n",
       "      <td>0.0</td>\n",
       "      <td>+46d07m44.9s</td>\n",
       "      <td>14.372</td>\n",
       "      <td>...</td>\n",
       "      <td>0</td>\n",
       "      <td>308.61</td>\n",
       "      <td>152.48</td>\n",
       "      <td>-106.84</td>\n",
       "      <td>0.43582</td>\n",
       "      <td>0.11411</td>\n",
       "      <td>-0.11699</td>\n",
       "      <td>LS+MCMC</td>\n",
       "      <td>1.000</td>\n",
       "      <td>0708.02</td>\n",
       "    </tr>\n",
       "    <tr>\n",
       "      <th>8051</th>\n",
       "      <td>9578686</td>\n",
       "      <td>K00709.01</td>\n",
       "      <td>Kepler-651 b</td>\n",
       "      <td>287.33279</td>\n",
       "      <td>0.0</td>\n",
       "      <td>19h09m19.87s</td>\n",
       "      <td>46.203510</td>\n",
       "      <td>0.0</td>\n",
       "      <td>+46d12m12.6s</td>\n",
       "      <td>14.460</td>\n",
       "      <td>...</td>\n",
       "      <td>0</td>\n",
       "      <td>25.63</td>\n",
       "      <td>6.91</td>\n",
       "      <td>-5.12</td>\n",
       "      <td>1.82855</td>\n",
       "      <td>1.00319</td>\n",
       "      <td>-0.05226</td>\n",
       "      <td>LS+MCMC</td>\n",
       "      <td>1.000</td>\n",
       "      <td>0709.01</td>\n",
       "    </tr>\n",
       "    <tr>\n",
       "      <th>8052</th>\n",
       "      <td>6678383</td>\n",
       "      <td>K00111.01</td>\n",
       "      <td>Kepler-104 b</td>\n",
       "      <td>287.60461</td>\n",
       "      <td>0.0</td>\n",
       "      <td>19h10m25.11s</td>\n",
       "      <td>42.166779</td>\n",
       "      <td>0.0</td>\n",
       "      <td>+42d10m00.4s</td>\n",
       "      <td>12.956</td>\n",
       "      <td>...</td>\n",
       "      <td>0</td>\n",
       "      <td>124.31</td>\n",
       "      <td>48.42</td>\n",
       "      <td>-34.01</td>\n",
       "      <td>0.54640</td>\n",
       "      <td>0.42632</td>\n",
       "      <td>-0.06106</td>\n",
       "      <td>LS+MCMC</td>\n",
       "      <td>0.999</td>\n",
       "      <td>0111.01</td>\n",
       "    </tr>\n",
       "    <tr>\n",
       "      <th>8053</th>\n",
       "      <td>5613330</td>\n",
       "      <td>K00649.01</td>\n",
       "      <td>Kepler-635 b</td>\n",
       "      <td>289.77325</td>\n",
       "      <td>0.0</td>\n",
       "      <td>19h19m05.58s</td>\n",
       "      <td>40.800720</td>\n",
       "      <td>0.0</td>\n",
       "      <td>+40d48m02.6s</td>\n",
       "      <td>13.666</td>\n",
       "      <td>...</td>\n",
       "      <td>0</td>\n",
       "      <td>97.94</td>\n",
       "      <td>49.00</td>\n",
       "      <td>-33.09</td>\n",
       "      <td>0.30321</td>\n",
       "      <td>0.01485</td>\n",
       "      <td>-0.11063</td>\n",
       "      <td>LS+MCMC</td>\n",
       "      <td>1.000</td>\n",
       "      <td>0649.01</td>\n",
       "    </tr>\n",
       "  </tbody>\n",
       "</table>\n",
       "<p>5 rows × 154 columns</p>\n",
       "</div>"
      ],
      "text/plain": [
       "        kepid kepoi_name   kepler_name         ra  ra_err        ra_str  \\\n",
       "8049  9530945  K00708.01  Kepler-216 c  293.72806     0.0  19h34m54.73s   \n",
       "8050  9530945  K00708.02  Kepler-216 b  293.72806     0.0  19h34m54.73s   \n",
       "8051  9578686  K00709.01  Kepler-651 b  287.33279     0.0  19h09m19.87s   \n",
       "8052  6678383  K00111.01  Kepler-104 b  287.60461     0.0  19h10m25.11s   \n",
       "8053  5613330  K00649.01  Kepler-635 b  289.77325     0.0  19h19m05.58s   \n",
       "\n",
       "            dec  dec_err       dec_str  koi_gmag   ...     koi_fpflag_ec  \\\n",
       "8049  46.129150      0.0  +46d07m44.9s    14.372   ...                 0   \n",
       "8050  46.129150      0.0  +46d07m44.9s    14.372   ...                 0   \n",
       "8051  46.203510      0.0  +46d12m12.6s    14.460   ...                 0   \n",
       "8052  42.166779      0.0  +42d10m00.4s    12.956   ...                 0   \n",
       "8053  40.800720      0.0  +40d48m02.6s    13.666   ...                 0   \n",
       "\n",
       "      koi_insol  koi_insol_err1  koi_insol_err2  koi_srho  koi_srho_err1  \\\n",
       "8049     104.04           51.40          -36.02   0.48517        0.00391   \n",
       "8050     308.61          152.48         -106.84   0.43582        0.11411   \n",
       "8051      25.63            6.91           -5.12   1.82855        1.00319   \n",
       "8052     124.31           48.42          -34.01   0.54640        0.42632   \n",
       "8053      97.94           49.00          -33.09   0.30321        0.01485   \n",
       "\n",
       "      koi_srho_err2  koi_fittype  koi_score      KOI  \n",
       "8049       -0.12441      LS+MCMC      1.000  0708.01  \n",
       "8050       -0.11699      LS+MCMC      1.000  0708.02  \n",
       "8051       -0.05226      LS+MCMC      1.000  0709.01  \n",
       "8052       -0.06106      LS+MCMC      0.999  0111.01  \n",
       "8053       -0.11063      LS+MCMC      1.000  0649.01  \n",
       "\n",
       "[5 rows x 154 columns]"
      ]
     },
     "execution_count": 19,
     "metadata": {},
     "output_type": "execute_result"
    }
   ],
   "source": [
    "#convert to str and fix KOI column similar to df2\n",
    "df3['KOI'] = df3['kepoi_name'].astype('str').apply(lambda x: x[2:])\n",
    "df3.tail()"
   ]
  },
  {
   "cell_type": "markdown",
   "metadata": {},
   "source": [
    "## Merging tables\n",
    "* use key='KOI'\n",
    "* see koi column meanings [here](https://exoplanetarchive.ipac.caltech.edu/docs/API_kepcandidate_columns.html)"
   ]
  },
  {
   "cell_type": "raw",
   "metadata": {},
   "source": [
    "#get only candidates\n",
    "mask1 = df1['planet?'] == 'cand'\n",
    "df1 = df1[mask1]\n",
    "df1.shape"
   ]
  },
  {
   "cell_type": "raw",
   "metadata": {},
   "source": [
    "df1.shape"
   ]
  },
  {
   "cell_type": "raw",
   "metadata": {},
   "source": [
    "#lower fpp\n",
    "mask2 = df2['FPP'] < 0.5\n",
    "\n",
    "df2 = df2[mask2]"
   ]
  },
  {
   "cell_type": "markdown",
   "metadata": {},
   "source": [
    "Merge the 'outer'=union of KOI columns of df2 and df3"
   ]
  },
  {
   "cell_type": "code",
   "execution_count": 20,
   "metadata": {},
   "outputs": [
    {
     "data": {
      "text/plain": [
       "(7754, 168)"
      ]
     },
     "execution_count": 20,
     "metadata": {},
     "output_type": "execute_result"
    }
   ],
   "source": [
    "df23 = pd.merge(df2, df3, how='outer', on='KOI')\n",
    "df23.shape"
   ]
  },
  {
   "cell_type": "markdown",
   "metadata": {},
   "source": [
    "Merge the 'inner'=intersection of kepid columns of df1 and df23"
   ]
  },
  {
   "cell_type": "code",
   "execution_count": 21,
   "metadata": {},
   "outputs": [
    {
     "data": {
      "text/plain": [
       "(4933, 229)"
      ]
     },
     "execution_count": 21,
     "metadata": {},
     "output_type": "execute_result"
    }
   ],
   "source": [
    "df_all = pd.merge(df1, df23, how='inner', on='kepid')\n",
    "df_all.shape"
   ]
  },
  {
   "cell_type": "markdown",
   "metadata": {},
   "source": [
    "## Adding constraints\n",
    "\n",
    "Kepler confirmed+candidates\n",
    "* without planet mass measurement, \n",
    "* bright (Mv<14), \n",
    "* low FPP (fpp<0.5)\n",
    "* large depth (d>1mmag), \n",
    "* large expected K>1m/s, \n",
    "* period < 50 d\n",
    "* t23/t14 > 0.5"
   ]
  },
  {
   "cell_type": "code",
   "execution_count": 22,
   "metadata": {},
   "outputs": [
    {
     "data": {
      "text/plain": [
       "(8054,)"
      ]
     },
     "execution_count": 22,
     "metadata": {},
     "output_type": "execute_result"
    }
   ],
   "source": [
    "mask.shape"
   ]
  },
  {
   "cell_type": "code",
   "execution_count": 23,
   "metadata": {},
   "outputs": [
    {
     "data": {
      "text/plain": [
       "(4527,)"
      ]
     },
     "execution_count": 23,
     "metadata": {},
     "output_type": "execute_result"
    }
   ],
   "source": [
    "df_all['FPP'].dropna().shape"
   ]
  },
  {
   "cell_type": "code",
   "execution_count": 24,
   "metadata": {},
   "outputs": [
    {
     "data": {
      "text/plain": [
       "(4933,)"
      ]
     },
     "execution_count": 24,
     "metadata": {},
     "output_type": "execute_result"
    }
   ],
   "source": [
    "df_all['FPP'].shape"
   ]
  },
  {
   "cell_type": "code",
   "execution_count": 25,
   "metadata": {},
   "outputs": [
    {
     "name": "stderr",
     "output_type": "stream",
     "text": [
      "/home/prometheus/miniconda3/envs/astroconda/lib/python3.6/site-packages/ipykernel_launcher.py:3: UserWarning: Boolean Series key will be reindexed to match DataFrame index.\n",
      "  This is separate from the ipykernel package so we can avoid doing imports until\n"
     ]
    },
    {
     "data": {
      "text/plain": [
       "(2945, 229)"
      ]
     },
     "execution_count": 25,
     "metadata": {},
     "output_type": "execute_result"
    }
   ],
   "source": [
    "low_fpp = df_all['FPP'] < 0.5\n",
    "\n",
    "df_all = df_all[mask]\n",
    "df_all.shape"
   ]
  },
  {
   "cell_type": "code",
   "execution_count": 26,
   "metadata": {},
   "outputs": [
    {
     "name": "stderr",
     "output_type": "stream",
     "text": [
      "/home/prometheus/miniconda3/envs/astroconda/lib/python3.6/site-packages/ipykernel_launcher.py:4: UserWarning: Boolean Series key will be reindexed to match DataFrame index.\n",
      "  after removing the cwd from sys.path.\n"
     ]
    },
    {
     "data": {
      "text/plain": [
       "(839, 229)"
      ]
     },
     "execution_count": 26,
     "metadata": {},
     "output_type": "execute_result"
    }
   ],
   "source": [
    "#cand = df_all['koi_disposition'] != 'CONFIRMED'\n",
    "cand = df_all['planet?'] != 'conf'\n",
    "idx = low_fpp & cand\n",
    "df_all[idx].shape"
   ]
  },
  {
   "cell_type": "code",
   "execution_count": 27,
   "metadata": {},
   "outputs": [
    {
     "data": {
      "text/plain": [
       "(1718, 229)"
      ]
     },
     "execution_count": 27,
     "metadata": {},
     "output_type": "execute_result"
    }
   ],
   "source": [
    "df_all[df_all['planet?'] == 'conf'].shape"
   ]
  },
  {
   "cell_type": "raw",
   "metadata": {},
   "source": [
    "df_all[idx].columns.tolist()"
   ]
  },
  {
   "cell_type": "code",
   "execution_count": 28,
   "metadata": {
    "collapsed": true
   },
   "outputs": [],
   "source": [
    "bright = df_all['koi_kepmag'] < 12\n",
    "idx = low_fpp & cand & bright"
   ]
  },
  {
   "cell_type": "code",
   "execution_count": 29,
   "metadata": {
    "collapsed": true
   },
   "outputs": [],
   "source": [
    "def inclination(a, b, e=None, w=None):\n",
    "    \"\"\"\n",
    "    Winn 2014 (\"Transits and Occultations\"), eq. 7\n",
    "    \"\"\"\n",
    "    # if e is None and w is None:\n",
    "    #     return np.arccos(b / a)\n",
    "    # elif e is not None and w is not None:\n",
    "    #     return np.arccos(b / a * (1 + e * np.sin(w)) / (1 - e**2))\n",
    "    # else:\n",
    "    #     return np.nan\n",
    "    return np.arccos(b / a)\n",
    "\n",
    "def t14_circ(p, a, k, b):\n",
    "    \"\"\"\n",
    "    Winn 2014 (\"Transits and Occultations\"), eq. 14\n",
    "    \"\"\"\n",
    "    i = inclination(a, b)\n",
    "    alpha = np.sqrt( (1 + k)**2 - b**2 )\n",
    "    return (p / np.pi) * np.arcsin( alpha / np.sin(i) / a )\n",
    "\n",
    "\n",
    "def t23_circ(p, a, k, b):\n",
    "    \"\"\"\n",
    "    Winn 2014 (\"Transits and Occultations\"), eq. 15\n",
    "    \"\"\"\n",
    "    i = inclination(a, b)\n",
    "    alpha = np.sqrt( (1 - k)**2 - b**2 )\n",
    "    return (p / np.pi) * np.arcsin( alpha / np.sin(i) / a )\n",
    "\n",
    "\n",
    "def tau_circ(p, a, k, b):\n",
    "    \"\"\"\n",
    "    Winn 2014 (\"Transits and Occultations\"), eq. 18\n",
    "    \"\"\"\n",
    "    return p / np.pi / a * k / np.sqrt(1 - b**2)\n",
    "\n",
    "\n",
    "def tshape_approx(a, k, b):\n",
    "    \"\"\"\n",
    "    Seager & Mallen-Ornelas 2003, eq. 15\n",
    "    \"\"\"\n",
    "    i = inclination(a, b)\n",
    "    alpha = (1 - k)**2 - b**2\n",
    "    beta = (1 + k)**2 - b**2\n",
    "    return np.sqrt( alpha / beta )\n",
    "\n",
    "\n",
    "def max_k(tshape):\n",
    "    \"\"\"\n",
    "    Seager & Mallen-Ornelas 2003, eq. 21\n",
    "    \"\"\"\n",
    "    return (1 - tshape) / (1 + tshape)"
   ]
  },
  {
   "cell_type": "code",
   "execution_count": 30,
   "metadata": {
    "scrolled": true
   },
   "outputs": [
    {
     "name": "stderr",
     "output_type": "stream",
     "text": [
      "/home/prometheus/miniconda3/envs/astroconda/lib/python3.6/site-packages/ipykernel_launcher.py:27: RuntimeWarning: invalid value encountered in sqrt\n"
     ]
    }
   ],
   "source": [
    "k = df_all['koi_ror']\n",
    "a = df_all['koi_dor']\n",
    "b = df_all['koi_impact']\n",
    "p = df_all['koi_period']\n",
    "\n",
    "df_all['t23_hr'] = t23_circ(p, a, k, b)*24"
   ]
  },
  {
   "cell_type": "code",
   "execution_count": 31,
   "metadata": {
    "collapsed": true
   },
   "outputs": [],
   "source": [
    "df_all['shape'] = df_all['t23_hr']/df_all['koi_duration']"
   ]
  },
  {
   "cell_type": "code",
   "execution_count": 53,
   "metadata": {},
   "outputs": [
    {
     "data": {
      "text/plain": [
       "(24, 231)"
      ]
     },
     "execution_count": 53,
     "metadata": {},
     "output_type": "execute_result"
    }
   ],
   "source": [
    "low_fpp = df_all['FPP'] < 0.5\n",
    "cand    = df_all['planet?'] != 'conf'\n",
    "bright  = df_all['koi_kepmag'] < 12\n",
    "boxy    = df_all['shape'] > 0.5\n",
    "long_period = df_all['koi_period'] < 50\n",
    "\n",
    "idx = low_fpp & cand & bright & boxy & long_period\n",
    "\n",
    "selected = df_all[idx]\n",
    "selected.shape"
   ]
  },
  {
   "cell_type": "code",
   "execution_count": 68,
   "metadata": {},
   "outputs": [
    {
     "data": {
      "text/html": [
       "<div>\n",
       "<style>\n",
       "    .dataframe thead tr:only-child th {\n",
       "        text-align: right;\n",
       "    }\n",
       "\n",
       "    .dataframe thead th {\n",
       "        text-align: left;\n",
       "    }\n",
       "\n",
       "    .dataframe tbody tr th {\n",
       "        vertical-align: top;\n",
       "    }\n",
       "</style>\n",
       "<table border=\"1\" class=\"dataframe\">\n",
       "  <thead>\n",
       "    <tr style=\"text-align: right;\">\n",
       "      <th></th>\n",
       "      <th>kepoi_name_x</th>\n",
       "      <th>kepoi_name_y</th>\n",
       "    </tr>\n",
       "  </thead>\n",
       "  <tbody>\n",
       "    <tr>\n",
       "      <th>424</th>\n",
       "      <td>N/A</td>\n",
       "      <td>K00004.01</td>\n",
       "    </tr>\n",
       "    <tr>\n",
       "      <th>425</th>\n",
       "      <td>N/A</td>\n",
       "      <td>K00004.01</td>\n",
       "    </tr>\n",
       "    <tr>\n",
       "      <th>568</th>\n",
       "      <td>N/A</td>\n",
       "      <td>K01619.01</td>\n",
       "    </tr>\n",
       "    <tr>\n",
       "      <th>683</th>\n",
       "      <td>N/A</td>\n",
       "      <td>K03184.01</td>\n",
       "    </tr>\n",
       "    <tr>\n",
       "      <th>684</th>\n",
       "      <td>N/A</td>\n",
       "      <td>K03184.03</td>\n",
       "    </tr>\n",
       "    <tr>\n",
       "      <th>722</th>\n",
       "      <td>N/A</td>\n",
       "      <td>K00367.01</td>\n",
       "    </tr>\n",
       "    <tr>\n",
       "      <th>817</th>\n",
       "      <td>N/A</td>\n",
       "      <td>K02462.01</td>\n",
       "    </tr>\n",
       "    <tr>\n",
       "      <th>857</th>\n",
       "      <td>N/A</td>\n",
       "      <td>K05129.01</td>\n",
       "    </tr>\n",
       "    <tr>\n",
       "      <th>1060</th>\n",
       "      <td>N/A</td>\n",
       "      <td>K01962.01</td>\n",
       "    </tr>\n",
       "    <tr>\n",
       "      <th>1275</th>\n",
       "      <td>N/A</td>\n",
       "      <td>K02801.01</td>\n",
       "    </tr>\n",
       "    <tr>\n",
       "      <th>1333</th>\n",
       "      <td>N/A</td>\n",
       "      <td>K03190.01</td>\n",
       "    </tr>\n",
       "    <tr>\n",
       "      <th>1334</th>\n",
       "      <td>N/A</td>\n",
       "      <td>K03190.01</td>\n",
       "    </tr>\n",
       "    <tr>\n",
       "      <th>1534</th>\n",
       "      <td>N/A</td>\n",
       "      <td>K02948.01</td>\n",
       "    </tr>\n",
       "    <tr>\n",
       "      <th>2022</th>\n",
       "      <td>N/A</td>\n",
       "      <td>K02687.01</td>\n",
       "    </tr>\n",
       "    <tr>\n",
       "      <th>2023</th>\n",
       "      <td>N/A</td>\n",
       "      <td>K02687.02</td>\n",
       "    </tr>\n",
       "    <tr>\n",
       "      <th>2237</th>\n",
       "      <td>N/A</td>\n",
       "      <td>K00269.01</td>\n",
       "    </tr>\n",
       "    <tr>\n",
       "      <th>2277</th>\n",
       "      <td>N/A</td>\n",
       "      <td>K02324.01</td>\n",
       "    </tr>\n",
       "    <tr>\n",
       "      <th>2278</th>\n",
       "      <td>N/A</td>\n",
       "      <td>K02324.01</td>\n",
       "    </tr>\n",
       "    <tr>\n",
       "      <th>2365</th>\n",
       "      <td>N/A</td>\n",
       "      <td>K01964.01</td>\n",
       "    </tr>\n",
       "    <tr>\n",
       "      <th>2571</th>\n",
       "      <td>N/A</td>\n",
       "      <td>K02720.01</td>\n",
       "    </tr>\n",
       "    <tr>\n",
       "      <th>2705</th>\n",
       "      <td>N/A</td>\n",
       "      <td>K04399.01</td>\n",
       "    </tr>\n",
       "    <tr>\n",
       "      <th>2769</th>\n",
       "      <td>N/A</td>\n",
       "      <td>K03197.01</td>\n",
       "    </tr>\n",
       "    <tr>\n",
       "      <th>3510</th>\n",
       "      <td>N/A</td>\n",
       "      <td>K02706.01</td>\n",
       "    </tr>\n",
       "    <tr>\n",
       "      <th>3853</th>\n",
       "      <td>N/A</td>\n",
       "      <td>K03208.01</td>\n",
       "    </tr>\n",
       "  </tbody>\n",
       "</table>\n",
       "</div>"
      ],
      "text/plain": [
       "     kepoi_name_x kepoi_name_y\n",
       "424           N/A    K00004.01\n",
       "425           N/A    K00004.01\n",
       "568           N/A    K01619.01\n",
       "683           N/A    K03184.01\n",
       "684           N/A    K03184.03\n",
       "722           N/A    K00367.01\n",
       "817           N/A    K02462.01\n",
       "857           N/A    K05129.01\n",
       "1060          N/A    K01962.01\n",
       "1275          N/A    K02801.01\n",
       "1333          N/A    K03190.01\n",
       "1334          N/A    K03190.01\n",
       "1534          N/A    K02948.01\n",
       "2022          N/A    K02687.01\n",
       "2023          N/A    K02687.02\n",
       "2237          N/A    K00269.01\n",
       "2277          N/A    K02324.01\n",
       "2278          N/A    K02324.01\n",
       "2365          N/A    K01964.01\n",
       "2571          N/A    K02720.01\n",
       "2705          N/A    K04399.01\n",
       "2769          N/A    K03197.01\n",
       "3510          N/A    K02706.01\n",
       "3853          N/A    K03208.01"
      ]
     },
     "execution_count": 68,
     "metadata": {},
     "output_type": "execute_result"
    }
   ],
   "source": [
    "selected[['kepoi_name_x','kepoi_name_y']]"
   ]
  },
  {
   "cell_type": "code",
   "execution_count": 33,
   "metadata": {},
   "outputs": [
    {
     "data": {
      "text/plain": [
       "5.0707494515110882"
      ]
     },
     "execution_count": 33,
     "metadata": {},
     "output_type": "execute_result"
    }
   ],
   "source": [
    "#etimated planet radius= sub-Saturn?\n",
    "np.sqrt(2125*1e-6)*110"
   ]
  },
  {
   "cell_type": "code",
   "execution_count": 70,
   "metadata": {},
   "outputs": [
    {
     "data": {
      "text/html": [
       "<div>\n",
       "<style>\n",
       "    .dataframe thead tr:only-child th {\n",
       "        text-align: right;\n",
       "    }\n",
       "\n",
       "    .dataframe thead th {\n",
       "        text-align: left;\n",
       "    }\n",
       "\n",
       "    .dataframe tbody tr th {\n",
       "        vertical-align: top;\n",
       "    }\n",
       "</style>\n",
       "<table border=\"1\" class=\"dataframe\">\n",
       "  <thead>\n",
       "    <tr style=\"text-align: right;\">\n",
       "      <th></th>\n",
       "      <th>kepid</th>\n",
       "      <th>kepoi_name_y</th>\n",
       "      <th>koi_depth</th>\n",
       "      <th>shape</th>\n",
       "      <th>radius</th>\n",
       "      <th>FPP</th>\n",
       "      <th>parallax</th>\n",
       "      <th>koi_period</th>\n",
       "      <th>koi_impact</th>\n",
       "    </tr>\n",
       "  </thead>\n",
       "  <tbody>\n",
       "    <tr>\n",
       "      <th>684</th>\n",
       "      <td>4735826.0</td>\n",
       "      <td>K03184.03</td>\n",
       "      <td>18.5</td>\n",
       "      <td>0.989836</td>\n",
       "      <td>1.376</td>\n",
       "      <td>0.00030</td>\n",
       "      <td>3.4515</td>\n",
       "      <td>4.020189</td>\n",
       "      <td>0.505</td>\n",
       "    </tr>\n",
       "    <tr>\n",
       "      <th>683</th>\n",
       "      <td>4735826.0</td>\n",
       "      <td>K03184.01</td>\n",
       "      <td>22.2</td>\n",
       "      <td>0.985192</td>\n",
       "      <td>1.376</td>\n",
       "      <td>0.00300</td>\n",
       "      <td>3.4515</td>\n",
       "      <td>7.545922</td>\n",
       "      <td>0.625</td>\n",
       "    </tr>\n",
       "    <tr>\n",
       "      <th>3853</th>\n",
       "      <td>10155029.0</td>\n",
       "      <td>K03208.01</td>\n",
       "      <td>32.2</td>\n",
       "      <td>0.989781</td>\n",
       "      <td>0.997</td>\n",
       "      <td>0.03000</td>\n",
       "      <td>3.3180</td>\n",
       "      <td>2.131661</td>\n",
       "      <td>0.036</td>\n",
       "    </tr>\n",
       "    <tr>\n",
       "      <th>1275</th>\n",
       "      <td>5905822.0</td>\n",
       "      <td>K02801.01</td>\n",
       "      <td>33.4</td>\n",
       "      <td>0.884700</td>\n",
       "      <td>1.467</td>\n",
       "      <td>0.00002</td>\n",
       "      <td>3.8185</td>\n",
       "      <td>6.992050</td>\n",
       "      <td>0.944</td>\n",
       "    </tr>\n",
       "    <tr>\n",
       "      <th>1333</th>\n",
       "      <td>5985713.0</td>\n",
       "      <td>K03190.01</td>\n",
       "      <td>44.0</td>\n",
       "      <td>0.972792</td>\n",
       "      <td>1.207</td>\n",
       "      <td>0.30000</td>\n",
       "      <td>2.4193</td>\n",
       "      <td>8.952940</td>\n",
       "      <td>0.718</td>\n",
       "    </tr>\n",
       "    <tr>\n",
       "      <th>1334</th>\n",
       "      <td>5985713.0</td>\n",
       "      <td>K03190.01</td>\n",
       "      <td>44.0</td>\n",
       "      <td>0.972792</td>\n",
       "      <td>1.207</td>\n",
       "      <td>0.30000</td>\n",
       "      <td>0.7113</td>\n",
       "      <td>8.952940</td>\n",
       "      <td>0.718</td>\n",
       "    </tr>\n",
       "    <tr>\n",
       "      <th>2365</th>\n",
       "      <td>7887791.0</td>\n",
       "      <td>K01964.01</td>\n",
       "      <td>49.1</td>\n",
       "      <td>0.986240</td>\n",
       "      <td>0.865</td>\n",
       "      <td>0.10000</td>\n",
       "      <td>7.3529</td>\n",
       "      <td>2.229326</td>\n",
       "      <td>0.249</td>\n",
       "    </tr>\n",
       "    <tr>\n",
       "      <th>1534</th>\n",
       "      <td>6356692.0</td>\n",
       "      <td>K02948.01</td>\n",
       "      <td>51.0</td>\n",
       "      <td>0.947097</td>\n",
       "      <td>1.249</td>\n",
       "      <td>0.04000</td>\n",
       "      <td>2.4532</td>\n",
       "      <td>11.391695</td>\n",
       "      <td>0.849</td>\n",
       "    </tr>\n",
       "    <tr>\n",
       "      <th>2022</th>\n",
       "      <td>7202957.0</td>\n",
       "      <td>K02687.01</td>\n",
       "      <td>59.5</td>\n",
       "      <td>0.970147</td>\n",
       "      <td>0.902</td>\n",
       "      <td>0.00070</td>\n",
       "      <td>8.8187</td>\n",
       "      <td>1.716828</td>\n",
       "      <td>0.700</td>\n",
       "    </tr>\n",
       "    <tr>\n",
       "      <th>2571</th>\n",
       "      <td>8176564.0</td>\n",
       "      <td>K02720.01</td>\n",
       "      <td>65.7</td>\n",
       "      <td>0.963436</td>\n",
       "      <td>1.432</td>\n",
       "      <td>0.03000</td>\n",
       "      <td>4.6493</td>\n",
       "      <td>6.571594</td>\n",
       "      <td>0.751</td>\n",
       "    </tr>\n",
       "    <tr>\n",
       "      <th>857</th>\n",
       "      <td>5131276.0</td>\n",
       "      <td>K05129.01</td>\n",
       "      <td>68.2</td>\n",
       "      <td>0.980269</td>\n",
       "      <td>150.091</td>\n",
       "      <td>0.00000</td>\n",
       "      <td>0.3160</td>\n",
       "      <td>0.668827</td>\n",
       "      <td>0.514</td>\n",
       "    </tr>\n",
       "    <tr>\n",
       "      <th>817</th>\n",
       "      <td>5042210.0</td>\n",
       "      <td>K02462.01</td>\n",
       "      <td>70.7</td>\n",
       "      <td>0.969329</td>\n",
       "      <td>1.963</td>\n",
       "      <td>0.06000</td>\n",
       "      <td>2.1876</td>\n",
       "      <td>12.146846</td>\n",
       "      <td>0.687</td>\n",
       "    </tr>\n",
       "    <tr>\n",
       "      <th>2769</th>\n",
       "      <td>8443527.0</td>\n",
       "      <td>K03197.01</td>\n",
       "      <td>76.9</td>\n",
       "      <td>0.985168</td>\n",
       "      <td>1.087</td>\n",
       "      <td>0.00000</td>\n",
       "      <td>3.5380</td>\n",
       "      <td>22.599501</td>\n",
       "      <td>0.120</td>\n",
       "    </tr>\n",
       "    <tr>\n",
       "      <th>3510</th>\n",
       "      <td>9697131.0</td>\n",
       "      <td>K02706.01</td>\n",
       "      <td>83.3</td>\n",
       "      <td>0.980413</td>\n",
       "      <td>1.885</td>\n",
       "      <td>0.00000</td>\n",
       "      <td>3.3295</td>\n",
       "      <td>3.097569</td>\n",
       "      <td>0.408</td>\n",
       "    </tr>\n",
       "    <tr>\n",
       "      <th>568</th>\n",
       "      <td>4276716.0</td>\n",
       "      <td>K01619.01</td>\n",
       "      <td>100.4</td>\n",
       "      <td>0.982222</td>\n",
       "      <td>0.676</td>\n",
       "      <td>0.30000</td>\n",
       "      <td>8.3702</td>\n",
       "      <td>20.665437</td>\n",
       "      <td>0.050</td>\n",
       "    </tr>\n",
       "    <tr>\n",
       "      <th>2023</th>\n",
       "      <td>7202957.0</td>\n",
       "      <td>K02687.02</td>\n",
       "      <td>104.9</td>\n",
       "      <td>0.942577</td>\n",
       "      <td>0.902</td>\n",
       "      <td>0.00010</td>\n",
       "      <td>8.8187</td>\n",
       "      <td>8.167339</td>\n",
       "      <td>0.801</td>\n",
       "    </tr>\n",
       "    <tr>\n",
       "      <th>2237</th>\n",
       "      <td>7670943.0</td>\n",
       "      <td>K00269.01</td>\n",
       "      <td>107.8</td>\n",
       "      <td>0.852508</td>\n",
       "      <td>1.459</td>\n",
       "      <td>0.02000</td>\n",
       "      <td>3.3578</td>\n",
       "      <td>18.011650</td>\n",
       "      <td>0.924</td>\n",
       "    </tr>\n",
       "    <tr>\n",
       "      <th>1060</th>\n",
       "      <td>5513648.0</td>\n",
       "      <td>K01962.01</td>\n",
       "      <td>162.8</td>\n",
       "      <td>0.702580</td>\n",
       "      <td>1.414</td>\n",
       "      <td>0.04000</td>\n",
       "      <td>0.9081</td>\n",
       "      <td>32.858626</td>\n",
       "      <td>0.955</td>\n",
       "    </tr>\n",
       "    <tr>\n",
       "      <th>2705</th>\n",
       "      <td>8345384.0</td>\n",
       "      <td>K04399.01</td>\n",
       "      <td>214.0</td>\n",
       "      <td>0.868028</td>\n",
       "      <td>0.820</td>\n",
       "      <td>0.20000</td>\n",
       "      <td>6.7850</td>\n",
       "      <td>42.100335</td>\n",
       "      <td>0.880</td>\n",
       "    </tr>\n",
       "    <tr>\n",
       "      <th>2277</th>\n",
       "      <td>7746958.0</td>\n",
       "      <td>K02324.01</td>\n",
       "      <td>233.2</td>\n",
       "      <td>0.967765</td>\n",
       "      <td>1.000</td>\n",
       "      <td>0.00000</td>\n",
       "      <td>0.5330</td>\n",
       "      <td>1.204687</td>\n",
       "      <td>0.328</td>\n",
       "    </tr>\n",
       "    <tr>\n",
       "      <th>2278</th>\n",
       "      <td>7746958.0</td>\n",
       "      <td>K02324.01</td>\n",
       "      <td>233.2</td>\n",
       "      <td>0.967765</td>\n",
       "      <td>1.000</td>\n",
       "      <td>0.00000</td>\n",
       "      <td>-1.4403</td>\n",
       "      <td>1.204687</td>\n",
       "      <td>0.328</td>\n",
       "    </tr>\n",
       "    <tr>\n",
       "      <th>425</th>\n",
       "      <td>3861595.0</td>\n",
       "      <td>K00004.01</td>\n",
       "      <td>1298.6</td>\n",
       "      <td>0.590372</td>\n",
       "      <td>2.992</td>\n",
       "      <td>0.02000</td>\n",
       "      <td>1.2406</td>\n",
       "      <td>3.849372</td>\n",
       "      <td>0.915</td>\n",
       "    </tr>\n",
       "    <tr>\n",
       "      <th>424</th>\n",
       "      <td>3861595.0</td>\n",
       "      <td>K00004.01</td>\n",
       "      <td>1298.6</td>\n",
       "      <td>0.590372</td>\n",
       "      <td>2.992</td>\n",
       "      <td>0.02000</td>\n",
       "      <td>0.7468</td>\n",
       "      <td>3.849372</td>\n",
       "      <td>0.915</td>\n",
       "    </tr>\n",
       "    <tr>\n",
       "      <th>722</th>\n",
       "      <td>4815520.0</td>\n",
       "      <td>K00367.01</td>\n",
       "      <td>2125.4</td>\n",
       "      <td>0.919574</td>\n",
       "      <td>0.990</td>\n",
       "      <td>0.30000</td>\n",
       "      <td>5.3511</td>\n",
       "      <td>31.578651</td>\n",
       "      <td>0.040</td>\n",
       "    </tr>\n",
       "  </tbody>\n",
       "</table>\n",
       "</div>"
      ],
      "text/plain": [
       "           kepid kepoi_name_y  koi_depth     shape   radius      FPP  \\\n",
       "684    4735826.0    K03184.03       18.5  0.989836    1.376  0.00030   \n",
       "683    4735826.0    K03184.01       22.2  0.985192    1.376  0.00300   \n",
       "3853  10155029.0    K03208.01       32.2  0.989781    0.997  0.03000   \n",
       "1275   5905822.0    K02801.01       33.4  0.884700    1.467  0.00002   \n",
       "1333   5985713.0    K03190.01       44.0  0.972792    1.207  0.30000   \n",
       "1334   5985713.0    K03190.01       44.0  0.972792    1.207  0.30000   \n",
       "2365   7887791.0    K01964.01       49.1  0.986240    0.865  0.10000   \n",
       "1534   6356692.0    K02948.01       51.0  0.947097    1.249  0.04000   \n",
       "2022   7202957.0    K02687.01       59.5  0.970147    0.902  0.00070   \n",
       "2571   8176564.0    K02720.01       65.7  0.963436    1.432  0.03000   \n",
       "857    5131276.0    K05129.01       68.2  0.980269  150.091  0.00000   \n",
       "817    5042210.0    K02462.01       70.7  0.969329    1.963  0.06000   \n",
       "2769   8443527.0    K03197.01       76.9  0.985168    1.087  0.00000   \n",
       "3510   9697131.0    K02706.01       83.3  0.980413    1.885  0.00000   \n",
       "568    4276716.0    K01619.01      100.4  0.982222    0.676  0.30000   \n",
       "2023   7202957.0    K02687.02      104.9  0.942577    0.902  0.00010   \n",
       "2237   7670943.0    K00269.01      107.8  0.852508    1.459  0.02000   \n",
       "1060   5513648.0    K01962.01      162.8  0.702580    1.414  0.04000   \n",
       "2705   8345384.0    K04399.01      214.0  0.868028    0.820  0.20000   \n",
       "2277   7746958.0    K02324.01      233.2  0.967765    1.000  0.00000   \n",
       "2278   7746958.0    K02324.01      233.2  0.967765    1.000  0.00000   \n",
       "425    3861595.0    K00004.01     1298.6  0.590372    2.992  0.02000   \n",
       "424    3861595.0    K00004.01     1298.6  0.590372    2.992  0.02000   \n",
       "722    4815520.0    K00367.01     2125.4  0.919574    0.990  0.30000   \n",
       "\n",
       "      parallax  koi_period  koi_impact  \n",
       "684     3.4515    4.020189       0.505  \n",
       "683     3.4515    7.545922       0.625  \n",
       "3853    3.3180    2.131661       0.036  \n",
       "1275    3.8185    6.992050       0.944  \n",
       "1333    2.4193    8.952940       0.718  \n",
       "1334    0.7113    8.952940       0.718  \n",
       "2365    7.3529    2.229326       0.249  \n",
       "1534    2.4532   11.391695       0.849  \n",
       "2022    8.8187    1.716828       0.700  \n",
       "2571    4.6493    6.571594       0.751  \n",
       "857     0.3160    0.668827       0.514  \n",
       "817     2.1876   12.146846       0.687  \n",
       "2769    3.5380   22.599501       0.120  \n",
       "3510    3.3295    3.097569       0.408  \n",
       "568     8.3702   20.665437       0.050  \n",
       "2023    8.8187    8.167339       0.801  \n",
       "2237    3.3578   18.011650       0.924  \n",
       "1060    0.9081   32.858626       0.955  \n",
       "2705    6.7850   42.100335       0.880  \n",
       "2277    0.5330    1.204687       0.328  \n",
       "2278   -1.4403    1.204687       0.328  \n",
       "425     1.2406    3.849372       0.915  \n",
       "424     0.7468    3.849372       0.915  \n",
       "722     5.3511   31.578651       0.040  "
      ]
     },
     "execution_count": 70,
     "metadata": {},
     "output_type": "execute_result"
    }
   ],
   "source": [
    "selected[['kepid','kepoi_name_y','koi_depth','shape','radius','FPP','parallax','koi_period','koi_impact']].sort_values(by='koi_depth')"
   ]
  },
  {
   "cell_type": "markdown",
   "metadata": {},
   "source": [
    "## CKS Catalog \n",
    "\n",
    "* [CKS data](https://california-planet-search.github.io/cks-website/)"
   ]
  },
  {
   "cell_type": "code",
   "execution_count": 34,
   "metadata": {
    "collapsed": true
   },
   "outputs": [],
   "source": [
    "df4 = pd.read_csv('../data/cks_physical_merged.csv',index_col=0)"
   ]
  },
  {
   "cell_type": "code",
   "execution_count": 35,
   "metadata": {},
   "outputs": [
    {
     "data": {
      "text/html": [
       "<div>\n",
       "<style>\n",
       "    .dataframe thead tr:only-child th {\n",
       "        text-align: right;\n",
       "    }\n",
       "\n",
       "    .dataframe thead th {\n",
       "        text-align: left;\n",
       "    }\n",
       "\n",
       "    .dataframe tbody tr th {\n",
       "        vertical-align: top;\n",
       "    }\n",
       "</style>\n",
       "<table border=\"1\" class=\"dataframe\">\n",
       "  <thead>\n",
       "    <tr style=\"text-align: right;\">\n",
       "      <th></th>\n",
       "      <th>id_starname</th>\n",
       "      <th>id_kic</th>\n",
       "      <th>id_koicand</th>\n",
       "      <th>id_kepler_name</th>\n",
       "      <th>koi_disposition</th>\n",
       "      <th>koi_period</th>\n",
       "      <th>koi_period_err1</th>\n",
       "      <th>koi_period_err2</th>\n",
       "      <th>koi_time0</th>\n",
       "      <th>koi_time0_err1</th>\n",
       "      <th>...</th>\n",
       "      <th>iso_prad_err2</th>\n",
       "      <th>iso_sma</th>\n",
       "      <th>iso_sma_err1</th>\n",
       "      <th>iso_sma_err2</th>\n",
       "      <th>iso_insol</th>\n",
       "      <th>iso_insol_err1</th>\n",
       "      <th>iso_insol_err2</th>\n",
       "      <th>iso_teq</th>\n",
       "      <th>iso_teq_err1</th>\n",
       "      <th>iso_teq_err2</th>\n",
       "    </tr>\n",
       "  </thead>\n",
       "  <tbody>\n",
       "    <tr>\n",
       "      <th>0</th>\n",
       "      <td>K00001</td>\n",
       "      <td>11446443</td>\n",
       "      <td>K00001.01</td>\n",
       "      <td>Kepler-1 b</td>\n",
       "      <td>CONFIRMED</td>\n",
       "      <td>2.470613</td>\n",
       "      <td>1.900000e-08</td>\n",
       "      <td>-1.900000e-08</td>\n",
       "      <td>2454955.763</td>\n",
       "      <td>0.000006</td>\n",
       "      <td>...</td>\n",
       "      <td>-1.419266</td>\n",
       "      <td>0.035951</td>\n",
       "      <td>0.000596</td>\n",
       "      <td>-0.000596</td>\n",
       "      <td>890.712853</td>\n",
       "      <td>184.876216</td>\n",
       "      <td>-184.876216</td>\n",
       "      <td>1392.188224</td>\n",
       "      <td>71.758330</td>\n",
       "      <td>-71.758330</td>\n",
       "    </tr>\n",
       "    <tr>\n",
       "      <th>1</th>\n",
       "      <td>K00002</td>\n",
       "      <td>10666592</td>\n",
       "      <td>K00002.01</td>\n",
       "      <td>Kepler-2 b</td>\n",
       "      <td>CONFIRMED</td>\n",
       "      <td>2.204735</td>\n",
       "      <td>3.800000e-08</td>\n",
       "      <td>-3.800000e-08</td>\n",
       "      <td>2454954.359</td>\n",
       "      <td>0.000014</td>\n",
       "      <td>...</td>\n",
       "      <td>-2.018515</td>\n",
       "      <td>0.036880</td>\n",
       "      <td>0.000727</td>\n",
       "      <td>-0.000727</td>\n",
       "      <td>3029.593093</td>\n",
       "      <td>931.186264</td>\n",
       "      <td>-931.186264</td>\n",
       "      <td>1890.643307</td>\n",
       "      <td>146.140168</td>\n",
       "      <td>-146.140168</td>\n",
       "    </tr>\n",
       "    <tr>\n",
       "      <th>2</th>\n",
       "      <td>K00003</td>\n",
       "      <td>10748390</td>\n",
       "      <td>K00003.01</td>\n",
       "      <td>Kepler-3 b</td>\n",
       "      <td>CONFIRMED</td>\n",
       "      <td>4.887803</td>\n",
       "      <td>1.770000e-07</td>\n",
       "      <td>-1.770000e-07</td>\n",
       "      <td>2454957.813</td>\n",
       "      <td>0.000028</td>\n",
       "      <td>...</td>\n",
       "      <td>-0.410257</td>\n",
       "      <td>0.052952</td>\n",
       "      <td>0.000883</td>\n",
       "      <td>-0.000883</td>\n",
       "      <td>116.907786</td>\n",
       "      <td>20.094411</td>\n",
       "      <td>-20.094411</td>\n",
       "      <td>837.962116</td>\n",
       "      <td>35.981752</td>\n",
       "      <td>-35.981752</td>\n",
       "    </tr>\n",
       "    <tr>\n",
       "      <th>3</th>\n",
       "      <td>K00006</td>\n",
       "      <td>3248033</td>\n",
       "      <td>K00006.01</td>\n",
       "      <td>NaN</td>\n",
       "      <td>FALSE POSITIVE</td>\n",
       "      <td>1.334104</td>\n",
       "      <td>7.070000e-07</td>\n",
       "      <td>-7.070000e-07</td>\n",
       "      <td>2454966.702</td>\n",
       "      <td>0.000420</td>\n",
       "      <td>...</td>\n",
       "      <td>-21.966014</td>\n",
       "      <td>0.025383</td>\n",
       "      <td>0.000427</td>\n",
       "      <td>-0.000427</td>\n",
       "      <td>3595.445148</td>\n",
       "      <td>694.155894</td>\n",
       "      <td>-694.155894</td>\n",
       "      <td>1973.338972</td>\n",
       "      <td>95.179897</td>\n",
       "      <td>-95.179897</td>\n",
       "    </tr>\n",
       "    <tr>\n",
       "      <th>4</th>\n",
       "      <td>K00007</td>\n",
       "      <td>11853905</td>\n",
       "      <td>K00007.01</td>\n",
       "      <td>Kepler-4 b</td>\n",
       "      <td>CONFIRMED</td>\n",
       "      <td>3.213669</td>\n",
       "      <td>1.122000e-06</td>\n",
       "      <td>-1.122000e-06</td>\n",
       "      <td>2454956.612</td>\n",
       "      <td>0.000280</td>\n",
       "      <td>...</td>\n",
       "      <td>-0.596032</td>\n",
       "      <td>0.044247</td>\n",
       "      <td>0.001075</td>\n",
       "      <td>-0.001075</td>\n",
       "      <td>1233.844672</td>\n",
       "      <td>367.335736</td>\n",
       "      <td>-367.335736</td>\n",
       "      <td>1510.353647</td>\n",
       "      <td>112.889880</td>\n",
       "      <td>-112.889880</td>\n",
       "    </tr>\n",
       "  </tbody>\n",
       "</table>\n",
       "<p>5 rows × 120 columns</p>\n",
       "</div>"
      ],
      "text/plain": [
       "  id_starname    id_kic id_koicand id_kepler_name koi_disposition  koi_period  \\\n",
       "0      K00001  11446443  K00001.01     Kepler-1 b       CONFIRMED    2.470613   \n",
       "1      K00002  10666592  K00002.01     Kepler-2 b       CONFIRMED    2.204735   \n",
       "2      K00003  10748390  K00003.01     Kepler-3 b       CONFIRMED    4.887803   \n",
       "3      K00006   3248033  K00006.01            NaN  FALSE POSITIVE    1.334104   \n",
       "4      K00007  11853905  K00007.01     Kepler-4 b       CONFIRMED    3.213669   \n",
       "\n",
       "   koi_period_err1  koi_period_err2    koi_time0  koi_time0_err1  \\\n",
       "0     1.900000e-08    -1.900000e-08  2454955.763        0.000006   \n",
       "1     3.800000e-08    -3.800000e-08  2454954.359        0.000014   \n",
       "2     1.770000e-07    -1.770000e-07  2454957.813        0.000028   \n",
       "3     7.070000e-07    -7.070000e-07  2454966.702        0.000420   \n",
       "4     1.122000e-06    -1.122000e-06  2454956.612        0.000280   \n",
       "\n",
       "       ...       iso_prad_err2   iso_sma  iso_sma_err1  iso_sma_err2  \\\n",
       "0      ...           -1.419266  0.035951      0.000596     -0.000596   \n",
       "1      ...           -2.018515  0.036880      0.000727     -0.000727   \n",
       "2      ...           -0.410257  0.052952      0.000883     -0.000883   \n",
       "3      ...          -21.966014  0.025383      0.000427     -0.000427   \n",
       "4      ...           -0.596032  0.044247      0.001075     -0.001075   \n",
       "\n",
       "     iso_insol  iso_insol_err1  iso_insol_err2      iso_teq  iso_teq_err1  \\\n",
       "0   890.712853      184.876216     -184.876216  1392.188224     71.758330   \n",
       "1  3029.593093      931.186264     -931.186264  1890.643307    146.140168   \n",
       "2   116.907786       20.094411      -20.094411   837.962116     35.981752   \n",
       "3  3595.445148      694.155894     -694.155894  1973.338972     95.179897   \n",
       "4  1233.844672      367.335736     -367.335736  1510.353647    112.889880   \n",
       "\n",
       "   iso_teq_err2  \n",
       "0    -71.758330  \n",
       "1   -146.140168  \n",
       "2    -35.981752  \n",
       "3    -95.179897  \n",
       "4   -112.889880  \n",
       "\n",
       "[5 rows x 120 columns]"
      ]
     },
     "execution_count": 35,
     "metadata": {},
     "output_type": "execute_result"
    }
   ],
   "source": [
    "df4.head()"
   ]
  },
  {
   "cell_type": "code",
   "execution_count": 77,
   "metadata": {},
   "outputs": [
    {
     "data": {
      "text/plain": [
       "0    K00001.01\n",
       "1    K00002.01\n",
       "2    K00003.01\n",
       "3    K00006.01\n",
       "4    K00007.01\n",
       "Name: id_koicand, dtype: object"
      ]
     },
     "execution_count": 77,
     "metadata": {},
     "output_type": "execute_result"
    }
   ],
   "source": [
    "df4['id_koicand'].head()"
   ]
  },
  {
   "cell_type": "code",
   "execution_count": 78,
   "metadata": {},
   "outputs": [
    {
     "data": {
      "text/plain": [
       "2          N/A\n",
       "3          N/A\n",
       "4          N/A\n",
       "5    K00992.01\n",
       "6    K00992.01\n",
       "Name: kepoi_name_x, dtype: object"
      ]
     },
     "execution_count": 78,
     "metadata": {},
     "output_type": "execute_result"
    }
   ],
   "source": [
    "df_all['kepoi_name_x'].head()"
   ]
  },
  {
   "cell_type": "code",
   "execution_count": 83,
   "metadata": {},
   "outputs": [
    {
     "data": {
      "text/plain": [
       "(4432, 351)"
      ]
     },
     "execution_count": 83,
     "metadata": {},
     "output_type": "execute_result"
    }
   ],
   "source": [
    "df=pd.merge(df4,df_all,how='outer',left_on='id_koicand',right_on='kepoi_name_x')\n",
    "df.shape"
   ]
  },
  {
   "cell_type": "code",
   "execution_count": 84,
   "metadata": {
    "collapsed": true
   },
   "outputs": [],
   "source": [
    "low_fpp = df['FPP'] < 0.5\n",
    "cand    = df['planet?'] != 'conf'\n",
    "bright  = df['koi_kepmag'] < 13\n",
    "short_period = df['koi_period_x'] < 50\n",
    "\n",
    "idx     = low_fpp & cand & bright #& short_period"
   ]
  },
  {
   "cell_type": "code",
   "execution_count": 85,
   "metadata": {},
   "outputs": [
    {
     "data": {
      "text/plain": [
       "(87, 351)"
      ]
     },
     "execution_count": 85,
     "metadata": {},
     "output_type": "execute_result"
    }
   ],
   "source": [
    "df[idx].shape"
   ]
  },
  {
   "cell_type": "code",
   "execution_count": 78,
   "metadata": {},
   "outputs": [
    {
     "ename": "NameError",
     "evalue": "name 'df' is not defined",
     "output_type": "error",
     "traceback": [
      "\u001b[0;31m---------------------------------------------------------------------------\u001b[0m",
      "\u001b[0;31mNameError\u001b[0m                                 Traceback (most recent call last)",
      "\u001b[0;32m<ipython-input-78-3ebc426945fd>\u001b[0m in \u001b[0;36m<module>\u001b[0;34m()\u001b[0m\n\u001b[0;32m----> 1\u001b[0;31m \u001b[0mnp\u001b[0m\u001b[0;34m.\u001b[0m\u001b[0mc_\u001b[0m\u001b[0;34m[\u001b[0m\u001b[0mdf\u001b[0m\u001b[0;34m[\u001b[0m\u001b[0midx\u001b[0m\u001b[0;34m]\u001b[0m\u001b[0;34m[\u001b[0m\u001b[0;34m'kepid,id_koicand,kepoi_name_y,id_kic,planet?,id_kepler_name'\u001b[0m\u001b[0;34m.\u001b[0m\u001b[0msplit\u001b[0m\u001b[0;34m(\u001b[0m\u001b[0;34m','\u001b[0m\u001b[0;34m)\u001b[0m\u001b[0;34m]\u001b[0m\u001b[0;34m]\u001b[0m\u001b[0;34m\u001b[0m\u001b[0m\n\u001b[0m",
      "\u001b[0;31mNameError\u001b[0m: name 'df' is not defined"
     ]
    }
   ],
   "source": [
    "np.c_[df[idx]['kepid,id_koicand,kepoi_name_y,id_kic,planet?,id_kepler_name'.split(',')]]"
   ]
  },
  {
   "cell_type": "code",
   "execution_count": 68,
   "metadata": {
    "collapsed": true
   },
   "outputs": [],
   "source": [
    "kepid=df[idx]['kepid'].astype(int)"
   ]
  },
  {
   "cell_type": "raw",
   "metadata": {},
   "source": [
    "import kplr\n",
    "client = kplr.API()\n",
    "\n",
    "# Find a KOI.\n",
    "koi = client.koi(952.01)\n",
    "print(koi.koi_period)\n",
    "\n",
    "# This KOI has an associated star.\n",
    "star = koi.star\n",
    "print(star.kic_teff)\n",
    "\n",
    "# Download the lightcurves for this KOI.\n",
    "lightcurves = koi.get_light_curves()\n",
    "for lc in lightcurves:\n",
    "    print(lc.filename)"
   ]
  },
  {
   "cell_type": "code",
   "execution_count": null,
   "metadata": {
    "collapsed": true
   },
   "outputs": [],
   "source": []
  },
  {
   "cell_type": "code",
   "execution_count": null,
   "metadata": {
    "collapsed": true
   },
   "outputs": [],
   "source": []
  }
 ],
 "metadata": {
  "kernelspec": {
   "display_name": "Python 3",
   "language": "python",
   "name": "python3"
  },
  "language_info": {
   "codemirror_mode": {
    "name": "ipython",
    "version": 3
   },
   "file_extension": ".py",
   "mimetype": "text/x-python",
   "name": "python",
   "nbconvert_exporter": "python",
   "pygments_lexer": "ipython3",
   "version": "3.6.2"
  }
 },
 "nbformat": 4,
 "nbformat_minor": 2
}
