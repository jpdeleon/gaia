{
 "cells": [
  {
   "cell_type": "markdown",
   "metadata": {},
   "source": [
    "## gaia/kepler/k2/nexsci cross-matched catalogs"
   ]
  },
  {
   "cell_type": "markdown",
   "metadata": {},
   "source": [
    "* merge Kepler candidates + parallax + FPP (Morton+2016) tables"
   ]
  },
  {
   "cell_type": "code",
   "execution_count": 2,
   "metadata": {
    "collapsed": true
   },
   "outputs": [],
   "source": [
    "import numpy as np\n",
    "#np.warnings.filterwarnings('ignore')\n",
    "import matplotlib.pyplot as pl\n",
    "%matplotlib inline\n",
    "from astropy.table import Table"
   ]
  },
  {
   "cell_type": "code",
   "execution_count": 3,
   "metadata": {
    "collapsed": true
   },
   "outputs": [],
   "source": [
    "import matplotlib as mpl\n",
    "mpl.rcParams['axes.linewidth'] = 1. #set the value globally"
   ]
  },
  {
   "cell_type": "markdown",
   "metadata": {},
   "source": [
    "# Kepler candidates with Gaia parallax"
   ]
  },
  {
   "cell_type": "markdown",
   "metadata": {},
   "source": [
    "The merged Gaia parallax and Kepler host star data is downloadable from [here](https://www.dropbox.com/s/v070hmvhm2ezjax/kepler_dr2_4arcsec.fits?dl=0)."
   ]
  },
  {
   "cell_type": "code",
   "execution_count": 4,
   "metadata": {},
   "outputs": [],
   "source": [
    "import getpass\n",
    "user = getpass.getuser()\n",
    "datadir='/home/'+user+'/data/gaia/'\n",
    "kep_data = Table.read(datadir+'kepler_dr2_4arcsec.fits', format='fits')"
   ]
  },
  {
   "cell_type": "raw",
   "metadata": {
    "scrolled": false
   },
   "source": [
    "kep_data.columns.keys()"
   ]
  },
  {
   "cell_type": "code",
   "execution_count": 4,
   "metadata": {
    "scrolled": true
   },
   "outputs": [
    {
     "data": {
      "text/html": [
       "&lt;Table masked=True length=5&gt;\n",
       "<table id=\"table140492142578096\" class=\"table-striped table-bordered table-condensed\">\n",
       "<thead><tr><th>angDist</th><th>kepid</th><th>source_id</th><th>ra_gaia</th><th>ra_error</th><th>dec_gaia</th><th>dec_error</th><th>parallax</th><th>parallax_error</th><th>pmra</th><th>pmra_error</th><th>pmdec</th><th>pmdec_error</th><th>phot_g_mean_flux</th><th>phot_g_mean_flux_error</th><th>phot_g_mean_mag</th><th>phot_bp_mean_flux</th><th>phot_bp_mean_flux_error</th><th>phot_bp_mean_mag</th><th>phot_rp_mean_flux</th><th>phot_rp_mean_flux_error</th><th>phot_rp_mean_mag</th><th>bp_rp</th><th>radial_velocity</th><th>radial_velocity_error</th><th>teff_val</th><th>a_g_val</th><th>e_bp_min_rp_val</th><th>radius_val</th><th>lum_val</th><th>tm_designation</th><th>ra_kic</th><th>dec_kic</th><th>kepmag</th><th>teff</th><th>teff_err1</th><th>teff_err2</th><th>teff_prov</th><th>logg</th><th>logg_err1</th><th>logg_err2</th><th>logg_prov</th><th>feh</th><th>feh_err1</th><th>feh_err2</th><th>feh_prov</th><th>radius</th><th>radius_err1</th><th>radius_err2</th><th>mass</th><th>mass_err1</th><th>mass_err2</th><th>prov_sec</th><th>nconfp</th><th>nkoi</th><th>ntce</th><th>jmag</th><th>hmag</th><th>kmag</th><th>kepoi_name</th><th>planet?</th></tr></thead>\n",
       "<thead><tr><th>arcsec</th><th></th><th></th><th>deg</th><th>0.001 arcsec</th><th>deg</th><th>0.001 arcsec</th><th>0.001 arcsec</th><th>0.001 arcsec</th><th>0.001 arcsec / yr</th><th>0.001 arcsec / yr</th><th>0.001 arcsec / yr</th><th>0.001 arcsec / yr</th><th>ph / s</th><th>ph / s</th><th>mag</th><th>ph / s</th><th>ph / s</th><th>mag</th><th>ph / s</th><th>ph / s</th><th>mag</th><th>mag</th><th>km / s</th><th>km / s</th><th>K</th><th>mag</th><th>mag</th><th>solRad</th><th>solLum</th><th></th><th>deg</th><th>deg</th><th></th><th>K</th><th>K</th><th>K</th><th></th><th></th><th></th><th></th><th></th><th></th><th></th><th></th><th></th><th>solRad</th><th>solRad</th><th>solRad</th><th>solMass</th><th>solMass</th><th>solMass</th><th></th><th></th><th></th><th></th><th>mag</th><th>mag</th><th>mag</th><th></th><th></th></tr></thead>\n",
       "<thead><tr><th>float64</th><th>int64</th><th>int64</th><th>float64</th><th>float64</th><th>float64</th><th>float64</th><th>float64</th><th>float64</th><th>float64</th><th>float64</th><th>float64</th><th>float64</th><th>float64</th><th>float64</th><th>float64</th><th>float64</th><th>float64</th><th>float64</th><th>float64</th><th>float64</th><th>float64</th><th>float64</th><th>float64</th><th>float64</th><th>float64</th><th>float64</th><th>float64</th><th>float64</th><th>float64</th><th>str25</th><th>float64</th><th>float64</th><th>float64</th><th>int64</th><th>int64</th><th>int64</th><th>str5</th><th>float64</th><th>float64</th><th>float64</th><th>str5</th><th>float64</th><th>float64</th><th>float64</th><th>str5</th><th>float64</th><th>float64</th><th>float64</th><th>float64</th><th>float64</th><th>float64</th><th>str6</th><th>int64</th><th>int64</th><th>int64</th><th>float64</th><th>float64</th><th>float64</th><th>str9</th><th>str4</th></tr></thead>\n",
       "<tr><td>0.15616</td><td>757076</td><td>2050233807328471424</td><td>291.038681305</td><td>0.0359</td><td>36.5980305018</td><td>0.0478</td><td>1.4939</td><td>0.0483</td><td>-4.961</td><td>0.079</td><td>-13.683</td><td>0.081</td><td>429068.0</td><td>130.709</td><td>11.607049</td><td>196805.0</td><td>360.632</td><td>12.116295</td><td>329938.0</td><td>372.998</td><td>10.965838</td><td>1.150457</td><td>-16.28</td><td>0.64</td><td>4927.0</td><td>nan</td><td>nan</td><td>4.01</td><td>8.524</td><td>2MASS J19240929+3635532</td><td>291.03873</td><td>36.598129</td><td>11.678</td><td>5160</td><td>171</td><td>-156</td><td>PHO1</td><td>3.58</td><td>0.928</td><td>-0.232</td><td>KIC0</td><td>-0.1</td><td>0.3</td><td>-0.3</td><td>KIC0</td><td>3.128</td><td>0.987</td><td>-2.304</td><td>1.357</td><td>0.204</td><td>-0.475</td><td>DSEP</td><td>0</td><td>0</td><td>0</td><td>10.126</td><td>9.667</td><td>9.559</td><td>N/A</td><td>none</td></tr>\n",
       "<tr><td>0.128262</td><td>757099</td><td>2050233601176543104</td><td>291.043057138</td><td>0.0199</td><td>36.5937670632</td><td>0.0276</td><td>2.6782</td><td>0.0272</td><td>2.88</td><td>0.043</td><td>-2.667</td><td>0.055</td><td>108912.0</td><td>153.213</td><td>13.095681</td><td>52403.4</td><td>275.227</td><td>13.552989</td><td>82009.5</td><td>312.707</td><td>12.47726</td><td>1.075729</td><td>nan</td><td>nan</td><td>5281.25</td><td>0.4943</td><td>0.2473</td><td>0.95</td><td>0.63</td><td>2MASS J19241033+3635377</td><td>291.04306</td><td>36.593811</td><td>13.152</td><td>5519</td><td>182</td><td>-149</td><td>PHO1</td><td>3.822</td><td>0.638</td><td>-0.213</td><td>KIC0</td><td>-0.22</td><td>0.35</td><td>-0.25</td><td>KIC0</td><td>2.109</td><td>0.673</td><td>-1.251</td><td>1.077</td><td>0.175</td><td>-0.233</td><td>DSEP</td><td>0</td><td>0</td><td>1</td><td>11.656</td><td>11.193</td><td>11.094</td><td>N/A</td><td>none</td></tr>\n",
       "<tr><td>0.146787</td><td>757137</td><td>2050230543159814656</td><td>291.055892008</td><td>0.0194</td><td>36.559886182</td><td>0.0266</td><td>1.7234</td><td>0.0253</td><td>-4.502</td><td>0.042</td><td>-8.636</td><td>0.052</td><td>4217640.0</td><td>1078.28</td><td>9.125692</td><td>1765180.0</td><td>2398.46</td><td>9.734418</td><td>3454670.0</td><td>3346.22</td><td>8.415903</td><td>1.318515</td><td>-12.41</td><td>0.52</td><td>4683.52</td><td>0.4427</td><td>0.2043</td><td>12.47</td><td>67.381</td><td>2MASS J19241341+3633358</td><td>291.05588</td><td>36.559952</td><td>9.196</td><td>4706</td><td>74</td><td>-102</td><td>PHO1</td><td>2.374</td><td>0.03</td><td>-0.027</td><td>AST9</td><td>-0.1</td><td>0.2</td><td>-0.3</td><td>KIC0</td><td>15.447</td><td>3.54</td><td>-3.933</td><td>2.061</td><td>1.157</td><td>-0.947</td><td>DSEP</td><td>0</td><td>0</td><td>0</td><td>7.467</td><td>6.853</td><td>6.722</td><td>N/A</td><td>none</td></tr>\n",
       "<tr><td>0.116421</td><td>757280</td><td>2050230611879323904</td><td>291.095372808</td><td>0.0169</td><td>36.5649028283</td><td>0.023</td><td>1.1837</td><td>0.022</td><td>-0.668</td><td>0.037</td><td>-2.782</td><td>0.046</td><td>367284.0</td><td>78.14</td><td>11.775861</td><td>206782.0</td><td>280.407</td><td>12.062609</td><td>232557.0</td><td>135.978</td><td>11.345596</td><td>0.717012</td><td>-17.96</td><td>4.93</td><td>6224.0</td><td>nan</td><td>nan</td><td>2.74</td><td>10.175</td><td>2MASS J19242289+3633538</td><td>291.0954</td><td>36.564941</td><td>11.901</td><td>6543</td><td>162</td><td>-194</td><td>PHO1</td><td>4.082</td><td>0.258</td><td>-0.172</td><td>KIC0</td><td>-0.24</td><td>0.25</td><td>-0.3</td><td>KIC0</td><td>1.638</td><td>0.475</td><td>-0.475</td><td>1.18</td><td>0.209</td><td>-0.157</td><td>DSEP</td><td>0</td><td>0</td><td>0</td><td>10.852</td><td>10.662</td><td>10.627</td><td>N/A</td><td>none</td></tr>\n",
       "<tr><td>0.114502</td><td>757450</td><td>2050231848829944320</td><td>291.137620279</td><td>0.0196</td><td>36.5773443112</td><td>0.0252</td><td>1.1689</td><td>0.0261</td><td>7.99</td><td>0.044</td><td>-2.449</td><td>0.05</td><td>15988.4</td><td>10.6853</td><td>15.17885</td><td>7297.41</td><td>33.2245</td><td>15.693465</td><td>12502.6</td><td>25.0306</td><td>14.519423</td><td>1.174043</td><td>nan</td><td>nan</td><td>4993.0</td><td>0.653</td><td>0.321</td><td>0.96</td><td>0.511</td><td>2MASS J19243302+3634385</td><td>291.1376</td><td>36.577381</td><td>15.264</td><td>5332</td><td>106</td><td>-96</td><td>SPE51</td><td>4.5</td><td>0.05</td><td>-0.036</td><td>TRA51</td><td>-0.08</td><td>0.15</td><td>-0.15</td><td>SPE51</td><td>0.843</td><td>0.045</td><td>-0.045</td><td>0.821</td><td>0.061</td><td>-0.04</td><td>DSEP</td><td>1</td><td>1</td><td>1</td><td>13.665</td><td>13.262</td><td>13.118</td><td>K00889.01</td><td>conf</td></tr>\n",
       "</table>"
      ],
      "text/plain": [
       "<Table masked=True length=5>\n",
       "angDist  kepid       source_id         ra_gaia    ...   kmag  kepoi_name planet?\n",
       " arcsec                                  deg      ...   mag                     \n",
       "float64  int64         int64           float64    ... float64    str9      str4 \n",
       "-------- ------ ------------------- ------------- ... ------- ---------- -------\n",
       " 0.15616 757076 2050233807328471424 291.038681305 ...   9.559        N/A    none\n",
       "0.128262 757099 2050233601176543104 291.043057138 ...  11.094        N/A    none\n",
       "0.146787 757137 2050230543159814656 291.055892008 ...   6.722        N/A    none\n",
       "0.116421 757280 2050230611879323904 291.095372808 ...  10.627        N/A    none\n",
       "0.114502 757450 2050231848829944320 291.137620279 ...  13.118  K00889.01    conf"
      ]
     },
     "execution_count": 4,
     "metadata": {},
     "output_type": "execute_result"
    }
   ],
   "source": [
    "kep_data[:5]"
   ]
  },
  {
   "cell_type": "markdown",
   "metadata": {},
   "source": [
    "convert table to pandas"
   ]
  },
  {
   "cell_type": "code",
   "execution_count": 5,
   "metadata": {
    "scrolled": true
   },
   "outputs": [
    {
     "data": {
      "text/html": [
       "<div>\n",
       "<style>\n",
       "    .dataframe thead tr:only-child th {\n",
       "        text-align: right;\n",
       "    }\n",
       "\n",
       "    .dataframe thead th {\n",
       "        text-align: left;\n",
       "    }\n",
       "\n",
       "    .dataframe tbody tr th {\n",
       "        vertical-align: top;\n",
       "    }\n",
       "</style>\n",
       "<table border=\"1\" class=\"dataframe\">\n",
       "  <thead>\n",
       "    <tr style=\"text-align: right;\">\n",
       "      <th></th>\n",
       "      <th>angDist</th>\n",
       "      <th>kepid</th>\n",
       "      <th>source_id</th>\n",
       "      <th>ra_gaia</th>\n",
       "      <th>ra_error</th>\n",
       "      <th>dec_gaia</th>\n",
       "      <th>dec_error</th>\n",
       "      <th>parallax</th>\n",
       "      <th>parallax_error</th>\n",
       "      <th>pmra</th>\n",
       "      <th>...</th>\n",
       "      <th>mass_err2</th>\n",
       "      <th>prov_sec</th>\n",
       "      <th>nconfp</th>\n",
       "      <th>nkoi</th>\n",
       "      <th>ntce</th>\n",
       "      <th>jmag</th>\n",
       "      <th>hmag</th>\n",
       "      <th>kmag</th>\n",
       "      <th>kepoi_name</th>\n",
       "      <th>planet?</th>\n",
       "    </tr>\n",
       "  </thead>\n",
       "  <tbody>\n",
       "    <tr>\n",
       "      <th>0</th>\n",
       "      <td>0.156160</td>\n",
       "      <td>757076.0</td>\n",
       "      <td>2.050234e+18</td>\n",
       "      <td>291.038681</td>\n",
       "      <td>0.0359</td>\n",
       "      <td>36.598031</td>\n",
       "      <td>0.0478</td>\n",
       "      <td>1.4939</td>\n",
       "      <td>0.0483</td>\n",
       "      <td>-4.961</td>\n",
       "      <td>...</td>\n",
       "      <td>-0.475</td>\n",
       "      <td>DSEP</td>\n",
       "      <td>0.0</td>\n",
       "      <td>0.0</td>\n",
       "      <td>0.0</td>\n",
       "      <td>10.126</td>\n",
       "      <td>9.667</td>\n",
       "      <td>9.559</td>\n",
       "      <td>N/A</td>\n",
       "      <td>none</td>\n",
       "    </tr>\n",
       "    <tr>\n",
       "      <th>1</th>\n",
       "      <td>0.128262</td>\n",
       "      <td>757099.0</td>\n",
       "      <td>2.050234e+18</td>\n",
       "      <td>291.043057</td>\n",
       "      <td>0.0199</td>\n",
       "      <td>36.593767</td>\n",
       "      <td>0.0276</td>\n",
       "      <td>2.6782</td>\n",
       "      <td>0.0272</td>\n",
       "      <td>2.880</td>\n",
       "      <td>...</td>\n",
       "      <td>-0.233</td>\n",
       "      <td>DSEP</td>\n",
       "      <td>0.0</td>\n",
       "      <td>0.0</td>\n",
       "      <td>1.0</td>\n",
       "      <td>11.656</td>\n",
       "      <td>11.193</td>\n",
       "      <td>11.094</td>\n",
       "      <td>N/A</td>\n",
       "      <td>none</td>\n",
       "    </tr>\n",
       "    <tr>\n",
       "      <th>2</th>\n",
       "      <td>0.146787</td>\n",
       "      <td>757137.0</td>\n",
       "      <td>2.050231e+18</td>\n",
       "      <td>291.055892</td>\n",
       "      <td>0.0194</td>\n",
       "      <td>36.559886</td>\n",
       "      <td>0.0266</td>\n",
       "      <td>1.7234</td>\n",
       "      <td>0.0253</td>\n",
       "      <td>-4.502</td>\n",
       "      <td>...</td>\n",
       "      <td>-0.947</td>\n",
       "      <td>DSEP</td>\n",
       "      <td>0.0</td>\n",
       "      <td>0.0</td>\n",
       "      <td>0.0</td>\n",
       "      <td>7.467</td>\n",
       "      <td>6.853</td>\n",
       "      <td>6.722</td>\n",
       "      <td>N/A</td>\n",
       "      <td>none</td>\n",
       "    </tr>\n",
       "    <tr>\n",
       "      <th>3</th>\n",
       "      <td>0.116421</td>\n",
       "      <td>757280.0</td>\n",
       "      <td>2.050231e+18</td>\n",
       "      <td>291.095373</td>\n",
       "      <td>0.0169</td>\n",
       "      <td>36.564903</td>\n",
       "      <td>0.0230</td>\n",
       "      <td>1.1837</td>\n",
       "      <td>0.0220</td>\n",
       "      <td>-0.668</td>\n",
       "      <td>...</td>\n",
       "      <td>-0.157</td>\n",
       "      <td>DSEP</td>\n",
       "      <td>0.0</td>\n",
       "      <td>0.0</td>\n",
       "      <td>0.0</td>\n",
       "      <td>10.852</td>\n",
       "      <td>10.662</td>\n",
       "      <td>10.627</td>\n",
       "      <td>N/A</td>\n",
       "      <td>none</td>\n",
       "    </tr>\n",
       "    <tr>\n",
       "      <th>4</th>\n",
       "      <td>0.114502</td>\n",
       "      <td>757450.0</td>\n",
       "      <td>2.050232e+18</td>\n",
       "      <td>291.137620</td>\n",
       "      <td>0.0196</td>\n",
       "      <td>36.577344</td>\n",
       "      <td>0.0252</td>\n",
       "      <td>1.1689</td>\n",
       "      <td>0.0261</td>\n",
       "      <td>7.990</td>\n",
       "      <td>...</td>\n",
       "      <td>-0.040</td>\n",
       "      <td>DSEP</td>\n",
       "      <td>1.0</td>\n",
       "      <td>1.0</td>\n",
       "      <td>1.0</td>\n",
       "      <td>13.665</td>\n",
       "      <td>13.262</td>\n",
       "      <td>13.118</td>\n",
       "      <td>K00889.01</td>\n",
       "      <td>conf</td>\n",
       "    </tr>\n",
       "  </tbody>\n",
       "</table>\n",
       "<p>5 rows × 61 columns</p>\n",
       "</div>"
      ],
      "text/plain": [
       "    angDist     kepid     source_id     ra_gaia  ra_error   dec_gaia  \\\n",
       "0  0.156160  757076.0  2.050234e+18  291.038681    0.0359  36.598031   \n",
       "1  0.128262  757099.0  2.050234e+18  291.043057    0.0199  36.593767   \n",
       "2  0.146787  757137.0  2.050231e+18  291.055892    0.0194  36.559886   \n",
       "3  0.116421  757280.0  2.050231e+18  291.095373    0.0169  36.564903   \n",
       "4  0.114502  757450.0  2.050232e+18  291.137620    0.0196  36.577344   \n",
       "\n",
       "   dec_error  parallax  parallax_error   pmra   ...     mass_err2  prov_sec  \\\n",
       "0     0.0478    1.4939          0.0483 -4.961   ...        -0.475      DSEP   \n",
       "1     0.0276    2.6782          0.0272  2.880   ...        -0.233      DSEP   \n",
       "2     0.0266    1.7234          0.0253 -4.502   ...        -0.947      DSEP   \n",
       "3     0.0230    1.1837          0.0220 -0.668   ...        -0.157      DSEP   \n",
       "4     0.0252    1.1689          0.0261  7.990   ...        -0.040      DSEP   \n",
       "\n",
       "   nconfp  nkoi  ntce    jmag    hmag    kmag  kepoi_name  planet?  \n",
       "0     0.0   0.0   0.0  10.126   9.667   9.559         N/A     none  \n",
       "1     0.0   0.0   1.0  11.656  11.193  11.094         N/A     none  \n",
       "2     0.0   0.0   0.0   7.467   6.853   6.722         N/A     none  \n",
       "3     0.0   0.0   0.0  10.852  10.662  10.627         N/A     none  \n",
       "4     1.0   1.0   1.0  13.665  13.262  13.118   K00889.01     conf  \n",
       "\n",
       "[5 rows x 61 columns]"
      ]
     },
     "execution_count": 5,
     "metadata": {},
     "output_type": "execute_result"
    }
   ],
   "source": [
    "df1 = kep_data.to_pandas()\n",
    "df1.head()"
   ]
  },
  {
   "cell_type": "code",
   "execution_count": 6,
   "metadata": {},
   "outputs": [
    {
     "data": {
      "text/plain": [
       "(241989, 61)"
      ]
     },
     "execution_count": 6,
     "metadata": {},
     "output_type": "execute_result"
    }
   ],
   "source": [
    "df1.shape"
   ]
  },
  {
   "cell_type": "code",
   "execution_count": 7,
   "metadata": {},
   "outputs": [
    {
     "data": {
      "text/html": [
       "&lt;MaskedColumn name=&apos;planet?&apos; dtype=&apos;str4&apos; length=3&gt;\n",
       "<table>\n",
       "<tr><td>cand</td></tr>\n",
       "<tr><td>conf</td></tr>\n",
       "<tr><td>none</td></tr>\n",
       "</table>"
      ],
      "text/plain": [
       "<MaskedColumn name='planet?' dtype='str4' length=3>\n",
       "cand\n",
       "conf\n",
       "none"
      ]
     },
     "execution_count": 7,
     "metadata": {},
     "output_type": "execute_result"
    }
   ],
   "source": [
    "np.unique(kep_data['planet?'])"
   ]
  },
  {
   "cell_type": "code",
   "execution_count": 8,
   "metadata": {
    "collapsed": true
   },
   "outputs": [],
   "source": [
    "df1['KOI'] = df1['kepoi_name'].astype('str').apply(lambda x: x[2:])"
   ]
  },
  {
   "cell_type": "markdown",
   "metadata": {},
   "source": [
    "## Morton+2016 FPP\n",
    "\n",
    "* fetch [Table 6](http://vizier.cfa.harvard.edu/viz-bin/VizieR?-source=J/ApJ/822/86) of Morton+2016 using [astropy.astroquery.Vizier](http://astroquery.readthedocs.io/en/latest/vizier/vizier.html)"
   ]
  },
  {
   "cell_type": "code",
   "execution_count": 9,
   "metadata": {},
   "outputs": [
    {
     "name": "stdout",
     "output_type": "stream",
     "text": [
      "{'J/ApJ/822/86': 'False positive probabilities for Q1-Q17 DR24 KOIs (Morton+, 2016)'}\n"
     ]
    }
   ],
   "source": [
    "from astroquery.vizier import Vizier\n",
    "\n",
    "Vizier.ROW_LIMIT = -1\n",
    "catalog_list = Vizier.find_catalogs('False positive probabilities for Q1-Q17 DR24 KOIs Morton 2016')\n",
    "print({k:v.description for k,v in catalog_list.items()})"
   ]
  },
  {
   "cell_type": "code",
   "execution_count": 10,
   "metadata": {
    "collapsed": true
   },
   "outputs": [],
   "source": [
    "catalogs = Vizier.get_catalogs(catalog_list.keys())"
   ]
  },
  {
   "cell_type": "code",
   "execution_count": 11,
   "metadata": {},
   "outputs": [
    {
     "name": "stdout",
     "output_type": "stream",
     "text": [
      "TableList with 3 tables:\n",
      "\t'0:J/ApJ/822/86/table3' with 12 column(s) and 9 row(s) \n",
      "\t'1:J/ApJ/822/86/table5' with 17 column(s) and 6102 row(s) \n",
      "\t'2:J/ApJ/822/86/table6' with 15 column(s) and 7470 row(s) \n"
     ]
    }
   ],
   "source": [
    "print(catalogs)"
   ]
  },
  {
   "cell_type": "code",
   "execution_count": 12,
   "metadata": {},
   "outputs": [
    {
     "data": {
      "text/html": [
       "&lt;Table masked=True length=5&gt;\n",
       "<table id=\"table140491165326248\" class=\"table-striped table-bordered table-condensed\">\n",
       "<thead><tr><th>KOI</th><th>HZ</th><th>Per</th><th>dsec</th><th>PrEB</th><th>PrEB2</th><th>PrHEB</th><th>PrHEB2</th><th>PrBEB</th><th>PrBEB2</th><th>Prboxy</th><th>Prlong</th><th>fp</th><th>FPP</th><th>e_FPP</th></tr></thead>\n",
       "<thead><tr><th></th><th></th><th>d</th><th>ppm</th><th></th><th></th><th></th><th></th><th></th><th></th><th></th><th></th><th></th><th></th><th></th></tr></thead>\n",
       "<thead><tr><th>float32</th><th>bytes1</th><th>float32</th><th>int32</th><th>float32</th><th>float32</th><th>float32</th><th>float32</th><th>float32</th><th>float32</th><th>float32</th><th>bytes7</th><th>float32</th><th>float32</th><th>float32</th></tr></thead>\n",
       "<tr><td>1.01</td><td></td><td>2.471</td><td>20</td><td>0.0049999999</td><td>0.001</td><td>0.00030000001</td><td>3.9999999e-05</td><td>0.0</td><td>0.0</td><td>0.0</td><td>0.0e+00</td><td>0.074</td><td>0.0060000001</td><td>0.00079999998</td></tr>\n",
       "<tr><td>2.01</td><td></td><td>2.205</td><td>96</td><td>0.0</td><td>0.0</td><td>0.0</td><td>0.0</td><td>0.0</td><td>0.0</td><td>0.0</td><td>0.0e+00</td><td>0.057</td><td>0.0</td><td>0.0</td></tr>\n",
       "<tr><td>3.01</td><td></td><td>4.888</td><td>11</td><td>0.0</td><td>0.0</td><td>0.0</td><td>0.0</td><td>0.0</td><td>0.0</td><td>0.0</td><td>0.0e+00</td><td>--</td><td>0.0</td><td>2e-06</td></tr>\n",
       "<tr><td>4.01</td><td></td><td>3.849</td><td>66</td><td>0.0099999998</td><td>0.00030000001</td><td>0.0070000002</td><td>9.9999997e-06</td><td>0.00060000003</td><td>0.0</td><td>0.0</td><td>0.0e+00</td><td>0.069</td><td>0.02</td><td>0.0049999999</td></tr>\n",
       "<tr><td>5.01</td><td></td><td>4.780</td><td>15</td><td>0.2</td><td>0.003</td><td>0.029999999</td><td>4.9999999e-05</td><td>3.9999999e-05</td><td>0.0</td><td>0.0</td><td>0.0e+00</td><td>0.052</td><td>0.2</td><td>0.2</td></tr>\n",
       "</table>"
      ],
      "text/plain": [
       "<Table masked=True length=5>\n",
       "  KOI     HZ     Per    dsec ...  Prlong    fp       FPP          e_FPP    \n",
       "                  d     ppm  ...                                           \n",
       "float32 bytes1 float32 int32 ...  bytes7 float32   float32       float32   \n",
       "------- ------ ------- ----- ... ------- ------- ------------ -------------\n",
       "   1.01          2.471    20 ... 0.0e+00   0.074 0.0060000001 0.00079999998\n",
       "   2.01          2.205    96 ... 0.0e+00   0.057          0.0           0.0\n",
       "   3.01          4.888    11 ... 0.0e+00      --          0.0         2e-06\n",
       "   4.01          3.849    66 ... 0.0e+00   0.069         0.02  0.0049999999\n",
       "   5.01          4.780    15 ... 0.0e+00   0.052          0.2           0.2"
      ]
     },
     "execution_count": 12,
     "metadata": {},
     "output_type": "execute_result"
    }
   ],
   "source": [
    "fpp = catalogs[2]\n",
    "fpp[:5]"
   ]
  },
  {
   "cell_type": "markdown",
   "metadata": {},
   "source": [
    "convert table to pandas, then fix the format of KOI column"
   ]
  },
  {
   "cell_type": "code",
   "execution_count": 13,
   "metadata": {},
   "outputs": [
    {
     "data": {
      "text/html": [
       "<div>\n",
       "<style>\n",
       "    .dataframe thead tr:only-child th {\n",
       "        text-align: right;\n",
       "    }\n",
       "\n",
       "    .dataframe thead th {\n",
       "        text-align: left;\n",
       "    }\n",
       "\n",
       "    .dataframe tbody tr th {\n",
       "        vertical-align: top;\n",
       "    }\n",
       "</style>\n",
       "<table border=\"1\" class=\"dataframe\">\n",
       "  <thead>\n",
       "    <tr style=\"text-align: right;\">\n",
       "      <th></th>\n",
       "      <th>KOI</th>\n",
       "      <th>HZ</th>\n",
       "      <th>Per</th>\n",
       "      <th>dsec</th>\n",
       "      <th>PrEB</th>\n",
       "      <th>PrEB2</th>\n",
       "      <th>PrHEB</th>\n",
       "      <th>PrHEB2</th>\n",
       "      <th>PrBEB</th>\n",
       "      <th>PrBEB2</th>\n",
       "      <th>Prboxy</th>\n",
       "      <th>Prlong</th>\n",
       "      <th>fp</th>\n",
       "      <th>FPP</th>\n",
       "      <th>e_FPP</th>\n",
       "    </tr>\n",
       "  </thead>\n",
       "  <tbody>\n",
       "    <tr>\n",
       "      <th>0</th>\n",
       "      <td>0001.01</td>\n",
       "      <td>b''</td>\n",
       "      <td>2.471</td>\n",
       "      <td>20.0</td>\n",
       "      <td>0.005</td>\n",
       "      <td>0.0010</td>\n",
       "      <td>0.0003</td>\n",
       "      <td>0.00004</td>\n",
       "      <td>0.00000</td>\n",
       "      <td>0.0</td>\n",
       "      <td>0.0</td>\n",
       "      <td>b'0.0e+00'</td>\n",
       "      <td>0.074</td>\n",
       "      <td>0.006</td>\n",
       "      <td>0.000800</td>\n",
       "    </tr>\n",
       "    <tr>\n",
       "      <th>1</th>\n",
       "      <td>0002.01</td>\n",
       "      <td>b''</td>\n",
       "      <td>2.205</td>\n",
       "      <td>96.0</td>\n",
       "      <td>0.000</td>\n",
       "      <td>0.0000</td>\n",
       "      <td>0.0000</td>\n",
       "      <td>0.00000</td>\n",
       "      <td>0.00000</td>\n",
       "      <td>0.0</td>\n",
       "      <td>0.0</td>\n",
       "      <td>b'0.0e+00'</td>\n",
       "      <td>0.057</td>\n",
       "      <td>0.000</td>\n",
       "      <td>0.000000</td>\n",
       "    </tr>\n",
       "    <tr>\n",
       "      <th>2</th>\n",
       "      <td>0003.01</td>\n",
       "      <td>b''</td>\n",
       "      <td>4.888</td>\n",
       "      <td>11.0</td>\n",
       "      <td>0.000</td>\n",
       "      <td>0.0000</td>\n",
       "      <td>0.0000</td>\n",
       "      <td>0.00000</td>\n",
       "      <td>0.00000</td>\n",
       "      <td>0.0</td>\n",
       "      <td>0.0</td>\n",
       "      <td>b'0.0e+00'</td>\n",
       "      <td>NaN</td>\n",
       "      <td>0.000</td>\n",
       "      <td>0.000002</td>\n",
       "    </tr>\n",
       "    <tr>\n",
       "      <th>3</th>\n",
       "      <td>0004.01</td>\n",
       "      <td>b''</td>\n",
       "      <td>3.849</td>\n",
       "      <td>66.0</td>\n",
       "      <td>0.010</td>\n",
       "      <td>0.0003</td>\n",
       "      <td>0.0070</td>\n",
       "      <td>0.00001</td>\n",
       "      <td>0.00060</td>\n",
       "      <td>0.0</td>\n",
       "      <td>0.0</td>\n",
       "      <td>b'0.0e+00'</td>\n",
       "      <td>0.069</td>\n",
       "      <td>0.020</td>\n",
       "      <td>0.005000</td>\n",
       "    </tr>\n",
       "    <tr>\n",
       "      <th>4</th>\n",
       "      <td>0005.01</td>\n",
       "      <td>b''</td>\n",
       "      <td>4.780</td>\n",
       "      <td>15.0</td>\n",
       "      <td>0.200</td>\n",
       "      <td>0.0030</td>\n",
       "      <td>0.0300</td>\n",
       "      <td>0.00005</td>\n",
       "      <td>0.00004</td>\n",
       "      <td>0.0</td>\n",
       "      <td>0.0</td>\n",
       "      <td>b'0.0e+00'</td>\n",
       "      <td>0.052</td>\n",
       "      <td>0.200</td>\n",
       "      <td>0.200000</td>\n",
       "    </tr>\n",
       "  </tbody>\n",
       "</table>\n",
       "</div>"
      ],
      "text/plain": [
       "       KOI   HZ    Per  dsec   PrEB   PrEB2   PrHEB   PrHEB2    PrBEB  PrBEB2  \\\n",
       "0  0001.01  b''  2.471  20.0  0.005  0.0010  0.0003  0.00004  0.00000     0.0   \n",
       "1  0002.01  b''  2.205  96.0  0.000  0.0000  0.0000  0.00000  0.00000     0.0   \n",
       "2  0003.01  b''  4.888  11.0  0.000  0.0000  0.0000  0.00000  0.00000     0.0   \n",
       "3  0004.01  b''  3.849  66.0  0.010  0.0003  0.0070  0.00001  0.00060     0.0   \n",
       "4  0005.01  b''  4.780  15.0  0.200  0.0030  0.0300  0.00005  0.00004     0.0   \n",
       "\n",
       "   Prboxy      Prlong     fp    FPP     e_FPP  \n",
       "0     0.0  b'0.0e+00'  0.074  0.006  0.000800  \n",
       "1     0.0  b'0.0e+00'  0.057  0.000  0.000000  \n",
       "2     0.0  b'0.0e+00'    NaN  0.000  0.000002  \n",
       "3     0.0  b'0.0e+00'  0.069  0.020  0.005000  \n",
       "4     0.0  b'0.0e+00'  0.052  0.200  0.200000  "
      ]
     },
     "execution_count": 13,
     "metadata": {},
     "output_type": "execute_result"
    }
   ],
   "source": [
    "df2 = fpp.to_pandas()\n",
    "df2['KOI'] = df2['KOI'].astype('str').apply(lambda x: x.zfill(7))\n",
    "df2.head()"
   ]
  },
  {
   "cell_type": "markdown",
   "metadata": {},
   "source": [
    "## NExSci \n",
    "\n",
    "* fetch Kepler candidate planet properties from [nexsci](https://exoplanetarchive.ipac.caltech.edu/docs/program_interfaces.html)."
   ]
  },
  {
   "cell_type": "code",
   "execution_count": 14,
   "metadata": {
    "collapsed": true
   },
   "outputs": [],
   "source": [
    "import pandas as pd\n",
    "\n",
    "refresh = False\n",
    "\n",
    "fname = '~/data/q1_q17_dr25_koi.csv'\n",
    "if refresh:\n",
    "    koi_link='http://exoplanetarchive.ipac.caltech.edu/cgi-bin/nstedAPI/nph-nstedAPI?table=q1_q17_dr25_koi&select=*'\n",
    "    koi = pd.read_csv(koi_link)\n",
    "    koi.to_csv(fname)\n",
    "else:\n",
    "    koi = pd.read_csv(fname,index_col=0)"
   ]
  },
  {
   "cell_type": "code",
   "execution_count": 15,
   "metadata": {
    "scrolled": false
   },
   "outputs": [
    {
     "data": {
      "text/html": [
       "<div>\n",
       "<style>\n",
       "    .dataframe thead tr:only-child th {\n",
       "        text-align: right;\n",
       "    }\n",
       "\n",
       "    .dataframe thead th {\n",
       "        text-align: left;\n",
       "    }\n",
       "\n",
       "    .dataframe tbody tr th {\n",
       "        vertical-align: top;\n",
       "    }\n",
       "</style>\n",
       "<table border=\"1\" class=\"dataframe\">\n",
       "  <thead>\n",
       "    <tr style=\"text-align: right;\">\n",
       "      <th></th>\n",
       "      <th>kepid</th>\n",
       "      <th>kepoi_name</th>\n",
       "      <th>kepler_name</th>\n",
       "      <th>ra</th>\n",
       "      <th>ra_err</th>\n",
       "      <th>ra_str</th>\n",
       "      <th>dec</th>\n",
       "      <th>dec_err</th>\n",
       "      <th>dec_str</th>\n",
       "      <th>koi_gmag</th>\n",
       "      <th>...</th>\n",
       "      <th>koi_fpflag_co</th>\n",
       "      <th>koi_fpflag_ec</th>\n",
       "      <th>koi_insol</th>\n",
       "      <th>koi_insol_err1</th>\n",
       "      <th>koi_insol_err2</th>\n",
       "      <th>koi_srho</th>\n",
       "      <th>koi_srho_err1</th>\n",
       "      <th>koi_srho_err2</th>\n",
       "      <th>koi_fittype</th>\n",
       "      <th>koi_score</th>\n",
       "    </tr>\n",
       "  </thead>\n",
       "  <tbody>\n",
       "    <tr>\n",
       "      <th>8049</th>\n",
       "      <td>9530945</td>\n",
       "      <td>K00708.01</td>\n",
       "      <td>Kepler-216 c</td>\n",
       "      <td>293.72806</td>\n",
       "      <td>0.0</td>\n",
       "      <td>19h34m54.73s</td>\n",
       "      <td>46.129150</td>\n",
       "      <td>0.0</td>\n",
       "      <td>+46d07m44.9s</td>\n",
       "      <td>14.372</td>\n",
       "      <td>...</td>\n",
       "      <td>0</td>\n",
       "      <td>0</td>\n",
       "      <td>104.04</td>\n",
       "      <td>51.40</td>\n",
       "      <td>-36.02</td>\n",
       "      <td>0.48517</td>\n",
       "      <td>0.00391</td>\n",
       "      <td>-0.12441</td>\n",
       "      <td>LS+MCMC</td>\n",
       "      <td>1.000</td>\n",
       "    </tr>\n",
       "    <tr>\n",
       "      <th>8050</th>\n",
       "      <td>9530945</td>\n",
       "      <td>K00708.02</td>\n",
       "      <td>Kepler-216 b</td>\n",
       "      <td>293.72806</td>\n",
       "      <td>0.0</td>\n",
       "      <td>19h34m54.73s</td>\n",
       "      <td>46.129150</td>\n",
       "      <td>0.0</td>\n",
       "      <td>+46d07m44.9s</td>\n",
       "      <td>14.372</td>\n",
       "      <td>...</td>\n",
       "      <td>0</td>\n",
       "      <td>0</td>\n",
       "      <td>308.61</td>\n",
       "      <td>152.48</td>\n",
       "      <td>-106.84</td>\n",
       "      <td>0.43582</td>\n",
       "      <td>0.11411</td>\n",
       "      <td>-0.11699</td>\n",
       "      <td>LS+MCMC</td>\n",
       "      <td>1.000</td>\n",
       "    </tr>\n",
       "    <tr>\n",
       "      <th>8051</th>\n",
       "      <td>9578686</td>\n",
       "      <td>K00709.01</td>\n",
       "      <td>Kepler-651 b</td>\n",
       "      <td>287.33279</td>\n",
       "      <td>0.0</td>\n",
       "      <td>19h09m19.87s</td>\n",
       "      <td>46.203510</td>\n",
       "      <td>0.0</td>\n",
       "      <td>+46d12m12.6s</td>\n",
       "      <td>14.460</td>\n",
       "      <td>...</td>\n",
       "      <td>0</td>\n",
       "      <td>0</td>\n",
       "      <td>25.63</td>\n",
       "      <td>6.91</td>\n",
       "      <td>-5.12</td>\n",
       "      <td>1.82855</td>\n",
       "      <td>1.00319</td>\n",
       "      <td>-0.05226</td>\n",
       "      <td>LS+MCMC</td>\n",
       "      <td>1.000</td>\n",
       "    </tr>\n",
       "    <tr>\n",
       "      <th>8052</th>\n",
       "      <td>6678383</td>\n",
       "      <td>K00111.01</td>\n",
       "      <td>Kepler-104 b</td>\n",
       "      <td>287.60461</td>\n",
       "      <td>0.0</td>\n",
       "      <td>19h10m25.11s</td>\n",
       "      <td>42.166779</td>\n",
       "      <td>0.0</td>\n",
       "      <td>+42d10m00.4s</td>\n",
       "      <td>12.956</td>\n",
       "      <td>...</td>\n",
       "      <td>0</td>\n",
       "      <td>0</td>\n",
       "      <td>124.31</td>\n",
       "      <td>48.42</td>\n",
       "      <td>-34.01</td>\n",
       "      <td>0.54640</td>\n",
       "      <td>0.42632</td>\n",
       "      <td>-0.06106</td>\n",
       "      <td>LS+MCMC</td>\n",
       "      <td>0.999</td>\n",
       "    </tr>\n",
       "    <tr>\n",
       "      <th>8053</th>\n",
       "      <td>5613330</td>\n",
       "      <td>K00649.01</td>\n",
       "      <td>Kepler-635 b</td>\n",
       "      <td>289.77325</td>\n",
       "      <td>0.0</td>\n",
       "      <td>19h19m05.58s</td>\n",
       "      <td>40.800720</td>\n",
       "      <td>0.0</td>\n",
       "      <td>+40d48m02.6s</td>\n",
       "      <td>13.666</td>\n",
       "      <td>...</td>\n",
       "      <td>0</td>\n",
       "      <td>0</td>\n",
       "      <td>97.94</td>\n",
       "      <td>49.00</td>\n",
       "      <td>-33.09</td>\n",
       "      <td>0.30321</td>\n",
       "      <td>0.01485</td>\n",
       "      <td>-0.11063</td>\n",
       "      <td>LS+MCMC</td>\n",
       "      <td>1.000</td>\n",
       "    </tr>\n",
       "  </tbody>\n",
       "</table>\n",
       "<p>5 rows × 153 columns</p>\n",
       "</div>"
      ],
      "text/plain": [
       "        kepid kepoi_name   kepler_name         ra  ra_err        ra_str  \\\n",
       "8049  9530945  K00708.01  Kepler-216 c  293.72806     0.0  19h34m54.73s   \n",
       "8050  9530945  K00708.02  Kepler-216 b  293.72806     0.0  19h34m54.73s   \n",
       "8051  9578686  K00709.01  Kepler-651 b  287.33279     0.0  19h09m19.87s   \n",
       "8052  6678383  K00111.01  Kepler-104 b  287.60461     0.0  19h10m25.11s   \n",
       "8053  5613330  K00649.01  Kepler-635 b  289.77325     0.0  19h19m05.58s   \n",
       "\n",
       "            dec  dec_err       dec_str  koi_gmag    ...      koi_fpflag_co  \\\n",
       "8049  46.129150      0.0  +46d07m44.9s    14.372    ...                  0   \n",
       "8050  46.129150      0.0  +46d07m44.9s    14.372    ...                  0   \n",
       "8051  46.203510      0.0  +46d12m12.6s    14.460    ...                  0   \n",
       "8052  42.166779      0.0  +42d10m00.4s    12.956    ...                  0   \n",
       "8053  40.800720      0.0  +40d48m02.6s    13.666    ...                  0   \n",
       "\n",
       "      koi_fpflag_ec  koi_insol  koi_insol_err1  koi_insol_err2  koi_srho  \\\n",
       "8049              0     104.04           51.40          -36.02   0.48517   \n",
       "8050              0     308.61          152.48         -106.84   0.43582   \n",
       "8051              0      25.63            6.91           -5.12   1.82855   \n",
       "8052              0     124.31           48.42          -34.01   0.54640   \n",
       "8053              0      97.94           49.00          -33.09   0.30321   \n",
       "\n",
       "      koi_srho_err1  koi_srho_err2  koi_fittype  koi_score  \n",
       "8049        0.00391       -0.12441      LS+MCMC      1.000  \n",
       "8050        0.11411       -0.11699      LS+MCMC      1.000  \n",
       "8051        1.00319       -0.05226      LS+MCMC      1.000  \n",
       "8052        0.42632       -0.06106      LS+MCMC      0.999  \n",
       "8053        0.01485       -0.11063      LS+MCMC      1.000  \n",
       "\n",
       "[5 rows x 153 columns]"
      ]
     },
     "execution_count": 15,
     "metadata": {},
     "output_type": "execute_result"
    }
   ],
   "source": [
    "koi.tail()"
   ]
  },
  {
   "cell_type": "raw",
   "metadata": {
    "scrolled": false
   },
   "source": [
    "koi.columns"
   ]
  },
  {
   "cell_type": "markdown",
   "metadata": {},
   "source": [
    "Note the difference between `koi_disposition` and `koi_pdisposition` as discussed [here](https://exoplanetarchive.ipac.caltech.edu/docs/API_kepcandidate_columns.html).\n",
    "\n",
    "`koi_pdisposition` means project disposition. The pipeline flag that designates the most probable physical explanation of the KOI. Typical values are FALSE POSITIVE, NOT DISPOSITIONED, and CANDIDATE. The value of this flag may change over time as the evaluation of KOIs proceeds to deeper levels of analysis using Kepler time-series pixel and light curve data, or follow-up observations. \n",
    "\n",
    "whereas,\n",
    "`koi_disposition` is the category of this KOI from the Exoplanet Archive. Current values are CANDIDATE, FALSE POSITIVE, NOT DISPOSITIONED or CONFIRMED. All KOIs marked as CONFIRMED are also listed in the Exoplanet Archive Confirmed Planet table. Designations of CANDIDATE, FALSE POSITIVE, and NOT DISPOSITIONED are taken from the Disposition Using Kepler Data."
   ]
  },
  {
   "cell_type": "code",
   "execution_count": 16,
   "metadata": {},
   "outputs": [
    {
     "data": {
      "text/plain": [
       "array(['CANDIDATE', 'CONFIRMED', 'FALSE POSITIVE'], dtype=object)"
      ]
     },
     "execution_count": 16,
     "metadata": {},
     "output_type": "execute_result"
    }
   ],
   "source": [
    "np.unique(koi['koi_disposition'])"
   ]
  },
  {
   "cell_type": "code",
   "execution_count": 17,
   "metadata": {},
   "outputs": [
    {
     "data": {
      "text/plain": [
       "array(['CANDIDATE', 'FALSE POSITIVE'], dtype=object)"
      ]
     },
     "execution_count": 17,
     "metadata": {},
     "output_type": "execute_result"
    }
   ],
   "source": [
    "np.unique(koi['koi_pdisposition'])"
   ]
  },
  {
   "cell_type": "code",
   "execution_count": 18,
   "metadata": {},
   "outputs": [
    {
     "data": {
      "text/plain": [
       "(4034, 153)"
      ]
     },
     "execution_count": 18,
     "metadata": {},
     "output_type": "execute_result"
    }
   ],
   "source": [
    "#get only candidates\n",
    "mask = koi['koi_pdisposition'] == 'CANDIDATE' #| (koi['koi_disposition'] == 'CONFIRMED')\n",
    "df3 = koi[mask]\n",
    "df3.shape"
   ]
  },
  {
   "cell_type": "code",
   "execution_count": 19,
   "metadata": {},
   "outputs": [
    {
     "name": "stderr",
     "output_type": "stream",
     "text": [
      "/home/prometheus/miniconda3/envs/astroconda/lib/python3.6/site-packages/ipykernel_launcher.py:2: SettingWithCopyWarning: \n",
      "A value is trying to be set on a copy of a slice from a DataFrame.\n",
      "Try using .loc[row_indexer,col_indexer] = value instead\n",
      "\n",
      "See the caveats in the documentation: http://pandas.pydata.org/pandas-docs/stable/indexing.html#indexing-view-versus-copy\n",
      "  \n"
     ]
    },
    {
     "data": {
      "text/html": [
       "<div>\n",
       "<style>\n",
       "    .dataframe thead tr:only-child th {\n",
       "        text-align: right;\n",
       "    }\n",
       "\n",
       "    .dataframe thead th {\n",
       "        text-align: left;\n",
       "    }\n",
       "\n",
       "    .dataframe tbody tr th {\n",
       "        vertical-align: top;\n",
       "    }\n",
       "</style>\n",
       "<table border=\"1\" class=\"dataframe\">\n",
       "  <thead>\n",
       "    <tr style=\"text-align: right;\">\n",
       "      <th></th>\n",
       "      <th>kepid</th>\n",
       "      <th>kepoi_name</th>\n",
       "      <th>kepler_name</th>\n",
       "      <th>ra</th>\n",
       "      <th>ra_err</th>\n",
       "      <th>ra_str</th>\n",
       "      <th>dec</th>\n",
       "      <th>dec_err</th>\n",
       "      <th>dec_str</th>\n",
       "      <th>koi_gmag</th>\n",
       "      <th>...</th>\n",
       "      <th>koi_fpflag_ec</th>\n",
       "      <th>koi_insol</th>\n",
       "      <th>koi_insol_err1</th>\n",
       "      <th>koi_insol_err2</th>\n",
       "      <th>koi_srho</th>\n",
       "      <th>koi_srho_err1</th>\n",
       "      <th>koi_srho_err2</th>\n",
       "      <th>koi_fittype</th>\n",
       "      <th>koi_score</th>\n",
       "      <th>KOI</th>\n",
       "    </tr>\n",
       "  </thead>\n",
       "  <tbody>\n",
       "    <tr>\n",
       "      <th>8049</th>\n",
       "      <td>9530945</td>\n",
       "      <td>K00708.01</td>\n",
       "      <td>Kepler-216 c</td>\n",
       "      <td>293.72806</td>\n",
       "      <td>0.0</td>\n",
       "      <td>19h34m54.73s</td>\n",
       "      <td>46.129150</td>\n",
       "      <td>0.0</td>\n",
       "      <td>+46d07m44.9s</td>\n",
       "      <td>14.372</td>\n",
       "      <td>...</td>\n",
       "      <td>0</td>\n",
       "      <td>104.04</td>\n",
       "      <td>51.40</td>\n",
       "      <td>-36.02</td>\n",
       "      <td>0.48517</td>\n",
       "      <td>0.00391</td>\n",
       "      <td>-0.12441</td>\n",
       "      <td>LS+MCMC</td>\n",
       "      <td>1.000</td>\n",
       "      <td>0708.01</td>\n",
       "    </tr>\n",
       "    <tr>\n",
       "      <th>8050</th>\n",
       "      <td>9530945</td>\n",
       "      <td>K00708.02</td>\n",
       "      <td>Kepler-216 b</td>\n",
       "      <td>293.72806</td>\n",
       "      <td>0.0</td>\n",
       "      <td>19h34m54.73s</td>\n",
       "      <td>46.129150</td>\n",
       "      <td>0.0</td>\n",
       "      <td>+46d07m44.9s</td>\n",
       "      <td>14.372</td>\n",
       "      <td>...</td>\n",
       "      <td>0</td>\n",
       "      <td>308.61</td>\n",
       "      <td>152.48</td>\n",
       "      <td>-106.84</td>\n",
       "      <td>0.43582</td>\n",
       "      <td>0.11411</td>\n",
       "      <td>-0.11699</td>\n",
       "      <td>LS+MCMC</td>\n",
       "      <td>1.000</td>\n",
       "      <td>0708.02</td>\n",
       "    </tr>\n",
       "    <tr>\n",
       "      <th>8051</th>\n",
       "      <td>9578686</td>\n",
       "      <td>K00709.01</td>\n",
       "      <td>Kepler-651 b</td>\n",
       "      <td>287.33279</td>\n",
       "      <td>0.0</td>\n",
       "      <td>19h09m19.87s</td>\n",
       "      <td>46.203510</td>\n",
       "      <td>0.0</td>\n",
       "      <td>+46d12m12.6s</td>\n",
       "      <td>14.460</td>\n",
       "      <td>...</td>\n",
       "      <td>0</td>\n",
       "      <td>25.63</td>\n",
       "      <td>6.91</td>\n",
       "      <td>-5.12</td>\n",
       "      <td>1.82855</td>\n",
       "      <td>1.00319</td>\n",
       "      <td>-0.05226</td>\n",
       "      <td>LS+MCMC</td>\n",
       "      <td>1.000</td>\n",
       "      <td>0709.01</td>\n",
       "    </tr>\n",
       "    <tr>\n",
       "      <th>8052</th>\n",
       "      <td>6678383</td>\n",
       "      <td>K00111.01</td>\n",
       "      <td>Kepler-104 b</td>\n",
       "      <td>287.60461</td>\n",
       "      <td>0.0</td>\n",
       "      <td>19h10m25.11s</td>\n",
       "      <td>42.166779</td>\n",
       "      <td>0.0</td>\n",
       "      <td>+42d10m00.4s</td>\n",
       "      <td>12.956</td>\n",
       "      <td>...</td>\n",
       "      <td>0</td>\n",
       "      <td>124.31</td>\n",
       "      <td>48.42</td>\n",
       "      <td>-34.01</td>\n",
       "      <td>0.54640</td>\n",
       "      <td>0.42632</td>\n",
       "      <td>-0.06106</td>\n",
       "      <td>LS+MCMC</td>\n",
       "      <td>0.999</td>\n",
       "      <td>0111.01</td>\n",
       "    </tr>\n",
       "    <tr>\n",
       "      <th>8053</th>\n",
       "      <td>5613330</td>\n",
       "      <td>K00649.01</td>\n",
       "      <td>Kepler-635 b</td>\n",
       "      <td>289.77325</td>\n",
       "      <td>0.0</td>\n",
       "      <td>19h19m05.58s</td>\n",
       "      <td>40.800720</td>\n",
       "      <td>0.0</td>\n",
       "      <td>+40d48m02.6s</td>\n",
       "      <td>13.666</td>\n",
       "      <td>...</td>\n",
       "      <td>0</td>\n",
       "      <td>97.94</td>\n",
       "      <td>49.00</td>\n",
       "      <td>-33.09</td>\n",
       "      <td>0.30321</td>\n",
       "      <td>0.01485</td>\n",
       "      <td>-0.11063</td>\n",
       "      <td>LS+MCMC</td>\n",
       "      <td>1.000</td>\n",
       "      <td>0649.01</td>\n",
       "    </tr>\n",
       "  </tbody>\n",
       "</table>\n",
       "<p>5 rows × 154 columns</p>\n",
       "</div>"
      ],
      "text/plain": [
       "        kepid kepoi_name   kepler_name         ra  ra_err        ra_str  \\\n",
       "8049  9530945  K00708.01  Kepler-216 c  293.72806     0.0  19h34m54.73s   \n",
       "8050  9530945  K00708.02  Kepler-216 b  293.72806     0.0  19h34m54.73s   \n",
       "8051  9578686  K00709.01  Kepler-651 b  287.33279     0.0  19h09m19.87s   \n",
       "8052  6678383  K00111.01  Kepler-104 b  287.60461     0.0  19h10m25.11s   \n",
       "8053  5613330  K00649.01  Kepler-635 b  289.77325     0.0  19h19m05.58s   \n",
       "\n",
       "            dec  dec_err       dec_str  koi_gmag   ...     koi_fpflag_ec  \\\n",
       "8049  46.129150      0.0  +46d07m44.9s    14.372   ...                 0   \n",
       "8050  46.129150      0.0  +46d07m44.9s    14.372   ...                 0   \n",
       "8051  46.203510      0.0  +46d12m12.6s    14.460   ...                 0   \n",
       "8052  42.166779      0.0  +42d10m00.4s    12.956   ...                 0   \n",
       "8053  40.800720      0.0  +40d48m02.6s    13.666   ...                 0   \n",
       "\n",
       "      koi_insol  koi_insol_err1  koi_insol_err2  koi_srho  koi_srho_err1  \\\n",
       "8049     104.04           51.40          -36.02   0.48517        0.00391   \n",
       "8050     308.61          152.48         -106.84   0.43582        0.11411   \n",
       "8051      25.63            6.91           -5.12   1.82855        1.00319   \n",
       "8052     124.31           48.42          -34.01   0.54640        0.42632   \n",
       "8053      97.94           49.00          -33.09   0.30321        0.01485   \n",
       "\n",
       "      koi_srho_err2  koi_fittype  koi_score      KOI  \n",
       "8049       -0.12441      LS+MCMC      1.000  0708.01  \n",
       "8050       -0.11699      LS+MCMC      1.000  0708.02  \n",
       "8051       -0.05226      LS+MCMC      1.000  0709.01  \n",
       "8052       -0.06106      LS+MCMC      0.999  0111.01  \n",
       "8053       -0.11063      LS+MCMC      1.000  0649.01  \n",
       "\n",
       "[5 rows x 154 columns]"
      ]
     },
     "execution_count": 19,
     "metadata": {},
     "output_type": "execute_result"
    }
   ],
   "source": [
    "#convert to str and fix KOI column similar to df2\n",
    "df3['KOI'] = df3['kepoi_name'].astype('str').apply(lambda x: x[2:])\n",
    "df3.tail()"
   ]
  },
  {
   "cell_type": "markdown",
   "metadata": {},
   "source": [
    "## Merging tables\n",
    "* use key='KOI'\n",
    "* see koi column meanings [here](https://exoplanetarchive.ipac.caltech.edu/docs/API_kepcandidate_columns.html)"
   ]
  },
  {
   "cell_type": "raw",
   "metadata": {},
   "source": [
    "#get only candidates\n",
    "mask1 = df1['planet?'] == 'cand'\n",
    "df1 = df1[mask1]\n",
    "df1.shape"
   ]
  },
  {
   "cell_type": "raw",
   "metadata": {},
   "source": [
    "df1.shape"
   ]
  },
  {
   "cell_type": "raw",
   "metadata": {},
   "source": [
    "#lower fpp\n",
    "mask2 = df2['FPP'] < 0.5\n",
    "\n",
    "df2 = df2[mask2]"
   ]
  },
  {
   "cell_type": "markdown",
   "metadata": {},
   "source": [
    "Merge the 'outer'=union of KOI columns of df2 and df3"
   ]
  },
  {
   "cell_type": "code",
   "execution_count": 20,
   "metadata": {},
   "outputs": [
    {
     "data": {
      "text/plain": [
       "(7754, 168)"
      ]
     },
     "execution_count": 20,
     "metadata": {},
     "output_type": "execute_result"
    }
   ],
   "source": [
    "df23 = pd.merge(df2, df3, how='outer', on='KOI')\n",
    "df23.shape"
   ]
  },
  {
   "cell_type": "markdown",
   "metadata": {},
   "source": [
    "Merge the 'inner'=intersection of kepid columns of df1 and df23"
   ]
  },
  {
   "cell_type": "code",
   "execution_count": 21,
   "metadata": {},
   "outputs": [
    {
     "data": {
      "text/plain": [
       "(4933, 229)"
      ]
     },
     "execution_count": 21,
     "metadata": {},
     "output_type": "execute_result"
    }
   ],
   "source": [
    "df_all = pd.merge(df1, df23, how='inner', on='kepid')\n",
    "df_all.shape"
   ]
  },
  {
   "cell_type": "markdown",
   "metadata": {},
   "source": [
    "## Adding constraints\n",
    "\n",
    "Kepler confirmed+candidates\n",
    "* without planet mass measurement, \n",
    "* bright (Mv<14), \n",
    "* low FPP (fpp<0.5)\n",
    "* large depth (d>1mmag), \n",
    "* large expected K>1m/s, \n",
    "* period < 50 d\n",
    "* t23/t14 > 0.5"
   ]
  },
  {
   "cell_type": "code",
   "execution_count": 22,
   "metadata": {},
   "outputs": [
    {
     "data": {
      "text/plain": [
       "(8054,)"
      ]
     },
     "execution_count": 22,
     "metadata": {},
     "output_type": "execute_result"
    }
   ],
   "source": [
    "mask.shape"
   ]
  },
  {
   "cell_type": "code",
   "execution_count": 23,
   "metadata": {},
   "outputs": [
    {
     "data": {
      "text/plain": [
       "(4527,)"
      ]
     },
     "execution_count": 23,
     "metadata": {},
     "output_type": "execute_result"
    }
   ],
   "source": [
    "df_all['FPP'].dropna().shape"
   ]
  },
  {
   "cell_type": "code",
   "execution_count": 24,
   "metadata": {},
   "outputs": [
    {
     "data": {
      "text/plain": [
       "(4933,)"
      ]
     },
     "execution_count": 24,
     "metadata": {},
     "output_type": "execute_result"
    }
   ],
   "source": [
    "df_all['FPP'].shape"
   ]
  },
  {
   "cell_type": "code",
   "execution_count": 25,
   "metadata": {},
   "outputs": [
    {
     "name": "stderr",
     "output_type": "stream",
     "text": [
      "/home/prometheus/miniconda3/envs/astroconda/lib/python3.6/site-packages/ipykernel_launcher.py:3: UserWarning: Boolean Series key will be reindexed to match DataFrame index.\n",
      "  This is separate from the ipykernel package so we can avoid doing imports until\n"
     ]
    },
    {
     "data": {
      "text/plain": [
       "(2945, 229)"
      ]
     },
     "execution_count": 25,
     "metadata": {},
     "output_type": "execute_result"
    }
   ],
   "source": [
    "low_fpp = df_all['FPP'] < 0.5\n",
    "\n",
    "df_all = df_all[mask]\n",
    "df_all.shape"
   ]
  },
  {
   "cell_type": "code",
   "execution_count": 26,
   "metadata": {},
   "outputs": [
    {
     "name": "stderr",
     "output_type": "stream",
     "text": [
      "/home/prometheus/miniconda3/envs/astroconda/lib/python3.6/site-packages/ipykernel_launcher.py:4: UserWarning: Boolean Series key will be reindexed to match DataFrame index.\n",
      "  after removing the cwd from sys.path.\n"
     ]
    },
    {
     "data": {
      "text/plain": [
       "(839, 229)"
      ]
     },
     "execution_count": 26,
     "metadata": {},
     "output_type": "execute_result"
    }
   ],
   "source": [
    "#cand = df_all['koi_disposition'] != 'CONFIRMED'\n",
    "cand = df_all['planet?'] != 'conf'\n",
    "idx = low_fpp & cand\n",
    "df_all[idx].shape"
   ]
  },
  {
   "cell_type": "code",
   "execution_count": 27,
   "metadata": {},
   "outputs": [
    {
     "data": {
      "text/plain": [
       "(1718, 229)"
      ]
     },
     "execution_count": 27,
     "metadata": {},
     "output_type": "execute_result"
    }
   ],
   "source": [
    "df_all[df_all['planet?'] == 'conf'].shape"
   ]
  },
  {
   "cell_type": "raw",
   "metadata": {},
   "source": [
    "df_all[idx].columns.tolist()"
   ]
  },
  {
   "cell_type": "code",
   "execution_count": 28,
   "metadata": {
    "collapsed": true
   },
   "outputs": [],
   "source": [
    "bright = df_all['koi_kepmag'] < 12\n",
    "idx = low_fpp & cand & bright"
   ]
  },
  {
   "cell_type": "code",
   "execution_count": 304,
   "metadata": {
    "collapsed": true
   },
   "outputs": [],
   "source": [
    "from astropy import units as u\n",
    "from astropy import constants as c\n",
    "\n",
    "def inclination(a, b, e=None, w=None):\n",
    "    \"\"\"\n",
    "    Winn 2014 (\"Transits and Occultations\"), eq. 7\n",
    "    \"\"\"\n",
    "    # if e is None and w is None:\n",
    "    #     return np.arccos(b / a)\n",
    "    # elif e is not None and w is not None:\n",
    "    #     return np.arccos(b / a * (1 + e * np.sin(w)) / (1 - e**2))\n",
    "    # else:\n",
    "    #     return np.nan\n",
    "    return np.arccos(b / a)\n",
    "\n",
    "def t14_circ(p, a, k, b):\n",
    "    \"\"\"\n",
    "    Winn 2014 (\"Transits and Occultations\"), eq. 14\n",
    "    \"\"\"\n",
    "    i = inclination(a, b)\n",
    "    alpha = np.sqrt( (1 + k)**2 - b**2 )\n",
    "    return (p / np.pi) * np.arcsin( alpha / np.sin(i) / a )\n",
    "\n",
    "\n",
    "def t23_circ(p, a, k, b):\n",
    "    \"\"\"\n",
    "    Winn 2014 (\"Transits and Occultations\"), eq. 15\n",
    "    \"\"\"\n",
    "    i = inclination(a, b)\n",
    "    alpha = np.sqrt( (1 - k)**2 - b**2 )\n",
    "    return (p / np.pi) * np.arcsin( alpha / np.sin(i) / a )\n",
    "\n",
    "\n",
    "def tau_circ(p, a, k, b):\n",
    "    \"\"\"\n",
    "    Winn 2014 (\"Transits and Occultations\"), eq. 18\n",
    "    \"\"\"\n",
    "    return p / np.pi / a * k / np.sqrt(1 - b**2)\n",
    "\n",
    "\n",
    "def tshape_approx(a, k, b):\n",
    "    \"\"\"\n",
    "    Seager & Mallen-Ornelas 2003, eq. 15\n",
    "    \"\"\"\n",
    "    i = inclination(a, b)\n",
    "    alpha = (1 - k)**2 - b**2\n",
    "    beta = (1 + k)**2 - b**2\n",
    "    return np.sqrt( alpha / beta )\n",
    "\n",
    "\n",
    "def max_k(tshape):\n",
    "    \"\"\"\n",
    "    Seager & Mallen-Ornelas 2003, eq. 21\n",
    "    \"\"\"\n",
    "    return (1 - tshape) / (1 + tshape)\n",
    "\n",
    "def rho_star(logg, r):\n",
    "    r = (r * u.R_sun).cgs\n",
    "    g = 10 ** logg * u.cm / u.s ** 2\n",
    "    rho = 3 * g / (r * c.G.cgs * 4 * np.pi)\n",
    "    return rho"
   ]
  },
  {
   "cell_type": "code",
   "execution_count": 358,
   "metadata": {
    "collapsed": true
   },
   "outputs": [],
   "source": [
    "from uncertainties import unumpy\n",
    "\n",
    "G, Msun, Mearth = 6.67e-11, 1.98849925145e30, 6.04589804468e24\n",
    "Rsun, Rearth, AU, pc = 695500e3, 6371e3, 1.495978707e11, 3.08567758149137e16\n",
    "kb, mproton = 1.38e-23, 1.67e-27\n",
    "\n",
    "# Define conversion functions\n",
    "def days2sec(t):\n",
    "    return t*24.*60*60\n",
    "def sec2days(t):\n",
    "    return t/(24.*60*60)\n",
    "def days2yrs(t):\n",
    "    return t/365.25\n",
    "def yrs2days(t):\n",
    "    return t*365.25\n",
    "def Msun2kg(m):\n",
    "    return m*Msun\n",
    "def kg2Msun(m):\n",
    "    return m/Msun\n",
    "def Mearth2kg(m):\n",
    "    return m*Mearth\n",
    "def kg2Mearth(m):\n",
    "    return m/Mearth\n",
    "def Rearth2m(r):\n",
    "    return r*Rearth\n",
    "def m2Rearth(r):\n",
    "    return r/Rearth\n",
    "def Rsun2m(r):\n",
    "    return r*Rsun\n",
    "def m2Rsun(r):\n",
    "    return r/Rsun\n",
    "def AU2m(r):\n",
    "    return r*AU\n",
    "def m2AU(r):\n",
    "    return r/AU\n",
    "def pc2m(r):\n",
    "    return r*pc\n",
    "def m2pc(r):\n",
    "    return r/pc\n",
    "\n",
    "def RV_K(P_days, Ms_Msun, mp_Mearth, ecc=0., inc_deg=90.):\n",
    "    '''Compute the RV semiamplitude in m/s.'''\n",
    "    P, Ms, mp, inc = days2sec(P_days), Msun2kg(Ms_Msun), Mearth2kg(mp_Mearth), \\\n",
    "                     np.deg2rad(inc_deg)\n",
    "    return (2*np.pi*G/(P*Ms*Ms))**(1./3) * mp*np.sin(inc) / \\\n",
    "        unumpy.sqrt(1-ecc**2)\n",
    "\n",
    "def transmission_spectroscopy_depth(Rs_Rsun, mp_Mearth, rp_Rearth, Teq, mu,\n",
    "                                    Nscaleheights=5):\n",
    "    '''Compute the expected signal in transit spectroscopy in ppm assuming\n",
    "    the signal is seen at 5 scale heights.'''\n",
    "    g = 10**logg_model(mp_Mearth, rp_Rearth) * 1e-2\n",
    "    rp = Rearth2m(rp_Rearth)\n",
    "    D = (rp / Rsun2m(Rs_Rsun))**2\n",
    "    H = kb*Teq / (mu*mproton*g)\n",
    "    return Nscaleheights * 2e6 * D * H / rp\n",
    "\n",
    "\n",
    "def stellar_density(P_days, T_days, Rs_Rsun, rp_Rearth, b):\n",
    "    '''Compute the stellar density in units of the solar density (1.41 g/cm3)\n",
    "    from the transit parameters.'''\n",
    "    rp, Rs, T, P = Rearth2m(rp_Rearth), Rsun2m(Rs_Rsun), days2sec(T_days), \\\n",
    "                   days2sec(P_days)\n",
    "    D = (rp / Rs)**2\n",
    "    rho = 4*np.pi**2 / (P*P*G) * (((1+np.sqrt(D))**2 - \\\n",
    "                                   b*b*(1-np.sin(np.pi*T/P)**2)) / \\\n",
    "                                  (np.sin(np.pi*T/P)**2))**(1.5)  # kg/m3\n",
    "    rhoSun = 3*Msun2kg(1) / (4*np.pi*Rsun2m(1)**3)\n",
    "    return rho  / rhoSun"
   ]
  },
  {
   "cell_type": "code",
   "execution_count": 305,
   "metadata": {
    "scrolled": true
   },
   "outputs": [
    {
     "name": "stderr",
     "output_type": "stream",
     "text": [
      "/home/prometheus/miniconda3/envs/astroconda/lib/python3.6/site-packages/ipykernel_launcher.py:30: RuntimeWarning: invalid value encountered in sqrt\n"
     ]
    }
   ],
   "source": [
    "k = df_all['koi_ror']\n",
    "a = df_all['koi_dor']\n",
    "b = df_all['koi_impact']\n",
    "p = df_all['koi_period']\n",
    "rad = df_all['radius']    #stellar radius in Rsun\n",
    "logg  = df_all['logg']     #stellar in cgs?\n",
    "prad  = df_all['koi_prad'] #Earth_radius\n",
    "pmass = \n",
    "\n",
    "inc = df_all['koi_incl']\n",
    "ecc = df_all['koi_eccen']\n",
    "\n",
    "df_all['t23_hr'] = t23_circ(p, a, k, b)*24\n",
    "\n",
    "for lg,r in zip(logg,rad):\n",
    "    rho = rho_star(logg, r)\n",
    "    \n",
    "df_all['rho_star'] = rho"
   ]
  },
  {
   "cell_type": "code",
   "execution_count": 340,
   "metadata": {},
   "outputs": [
    {
     "data": {
      "text/plain": [
       "<matplotlib.collections.PathCollection at 0x7fc6a40e2b00>"
      ]
     },
     "execution_count": 340,
     "metadata": {},
     "output_type": "execute_result"
    },
    {
     "data": {
      "image/png": "[encoded data removed]",
      "text/plain": [
       "<matplotlib.figure.Figure at 0x7fc6a3f17cf8>"
      ]
     },
     "metadata": {},
     "output_type": "display_data"
    }
   ],
   "source": [
    "pl.scatter(df_all['koi_srho'],df_all['rho_star']) #[g/cm**3]"
   ]
  },
  {
   "cell_type": "code",
   "execution_count": 306,
   "metadata": {
    "collapsed": true
   },
   "outputs": [],
   "source": [
    "df_all['shape'] = df_all['t23_hr']/df_all['koi_duration']"
   ]
  },
  {
   "cell_type": "raw",
   "metadata": {},
   "source": [
    "RV_K(P_days, Ms_Msun, mp_Mearth, ecc=0., inc_deg=inc)"
   ]
  },
  {
   "cell_type": "code",
   "execution_count": 310,
   "metadata": {},
   "outputs": [
    {
     "data": {
      "text/plain": [
       "(22, 232)"
      ]
     },
     "execution_count": 310,
     "metadata": {},
     "output_type": "execute_result"
    }
   ],
   "source": [
    "low_fpp = df_all['FPP'] < 0.5\n",
    "cand    = df_all['planet?'] != 'conf'\n",
    "bright  = df_all['koi_kepmag'] < 12\n",
    "boxy    = df_all['shape'] > 0.5\n",
    "long_period = df_all['koi_period'] < 50\n",
    "nearby = df_all['parallax'] > 0.5\n",
    "\n",
    "idx = low_fpp & cand & bright & boxy & long_period & nearby\n",
    "\n",
    "selected = df_all[idx]\n",
    "selected.shape"
   ]
  },
  {
   "cell_type": "raw",
   "metadata": {},
   "source": [
    "selected[['kepoi_name_x','kepoi_name_y']]"
   ]
  },
  {
   "cell_type": "code",
   "execution_count": 311,
   "metadata": {},
   "outputs": [
    {
     "data": {
      "text/plain": [
       "5.0707494515110882"
      ]
     },
     "execution_count": 311,
     "metadata": {},
     "output_type": "execute_result"
    }
   ],
   "source": [
    "#etimated planet radius= sub-Saturn?\n",
    "np.sqrt(2125*1e-6)*110"
   ]
  },
  {
   "cell_type": "code",
   "execution_count": 312,
   "metadata": {},
   "outputs": [
    {
     "data": {
      "text/html": [
       "<div>\n",
       "<style>\n",
       "    .dataframe thead tr:only-child th {\n",
       "        text-align: right;\n",
       "    }\n",
       "\n",
       "    .dataframe thead th {\n",
       "        text-align: left;\n",
       "    }\n",
       "\n",
       "    .dataframe tbody tr th {\n",
       "        vertical-align: top;\n",
       "    }\n",
       "</style>\n",
       "<table border=\"1\" class=\"dataframe\">\n",
       "  <thead>\n",
       "    <tr style=\"text-align: right;\">\n",
       "      <th></th>\n",
       "      <th>kepid</th>\n",
       "      <th>kepoi_name_y</th>\n",
       "      <th>koi_depth</th>\n",
       "      <th>shape</th>\n",
       "      <th>radius</th>\n",
       "      <th>FPP</th>\n",
       "      <th>parallax</th>\n",
       "      <th>koi_period</th>\n",
       "      <th>koi_impact</th>\n",
       "    </tr>\n",
       "  </thead>\n",
       "  <tbody>\n",
       "    <tr>\n",
       "      <th>684</th>\n",
       "      <td>4735826.0</td>\n",
       "      <td>K03184.03</td>\n",
       "      <td>18.5</td>\n",
       "      <td>0.989836</td>\n",
       "      <td>1.376</td>\n",
       "      <td>0.00030</td>\n",
       "      <td>3.4515</td>\n",
       "      <td>4.020189</td>\n",
       "      <td>0.505</td>\n",
       "    </tr>\n",
       "    <tr>\n",
       "      <th>683</th>\n",
       "      <td>4735826.0</td>\n",
       "      <td>K03184.01</td>\n",
       "      <td>22.2</td>\n",
       "      <td>0.985192</td>\n",
       "      <td>1.376</td>\n",
       "      <td>0.00300</td>\n",
       "      <td>3.4515</td>\n",
       "      <td>7.545922</td>\n",
       "      <td>0.625</td>\n",
       "    </tr>\n",
       "    <tr>\n",
       "      <th>3853</th>\n",
       "      <td>10155029.0</td>\n",
       "      <td>K03208.01</td>\n",
       "      <td>32.2</td>\n",
       "      <td>0.989781</td>\n",
       "      <td>0.997</td>\n",
       "      <td>0.03000</td>\n",
       "      <td>3.3180</td>\n",
       "      <td>2.131661</td>\n",
       "      <td>0.036</td>\n",
       "    </tr>\n",
       "    <tr>\n",
       "      <th>1275</th>\n",
       "      <td>5905822.0</td>\n",
       "      <td>K02801.01</td>\n",
       "      <td>33.4</td>\n",
       "      <td>0.884700</td>\n",
       "      <td>1.467</td>\n",
       "      <td>0.00002</td>\n",
       "      <td>3.8185</td>\n",
       "      <td>6.992050</td>\n",
       "      <td>0.944</td>\n",
       "    </tr>\n",
       "    <tr>\n",
       "      <th>1333</th>\n",
       "      <td>5985713.0</td>\n",
       "      <td>K03190.01</td>\n",
       "      <td>44.0</td>\n",
       "      <td>0.972792</td>\n",
       "      <td>1.207</td>\n",
       "      <td>0.30000</td>\n",
       "      <td>2.4193</td>\n",
       "      <td>8.952940</td>\n",
       "      <td>0.718</td>\n",
       "    </tr>\n",
       "    <tr>\n",
       "      <th>1334</th>\n",
       "      <td>5985713.0</td>\n",
       "      <td>K03190.01</td>\n",
       "      <td>44.0</td>\n",
       "      <td>0.972792</td>\n",
       "      <td>1.207</td>\n",
       "      <td>0.30000</td>\n",
       "      <td>0.7113</td>\n",
       "      <td>8.952940</td>\n",
       "      <td>0.718</td>\n",
       "    </tr>\n",
       "    <tr>\n",
       "      <th>2365</th>\n",
       "      <td>7887791.0</td>\n",
       "      <td>K01964.01</td>\n",
       "      <td>49.1</td>\n",
       "      <td>0.986240</td>\n",
       "      <td>0.865</td>\n",
       "      <td>0.10000</td>\n",
       "      <td>7.3529</td>\n",
       "      <td>2.229326</td>\n",
       "      <td>0.249</td>\n",
       "    </tr>\n",
       "    <tr>\n",
       "      <th>1534</th>\n",
       "      <td>6356692.0</td>\n",
       "      <td>K02948.01</td>\n",
       "      <td>51.0</td>\n",
       "      <td>0.947097</td>\n",
       "      <td>1.249</td>\n",
       "      <td>0.04000</td>\n",
       "      <td>2.4532</td>\n",
       "      <td>11.391695</td>\n",
       "      <td>0.849</td>\n",
       "    </tr>\n",
       "    <tr>\n",
       "      <th>2022</th>\n",
       "      <td>7202957.0</td>\n",
       "      <td>K02687.01</td>\n",
       "      <td>59.5</td>\n",
       "      <td>0.970147</td>\n",
       "      <td>0.902</td>\n",
       "      <td>0.00070</td>\n",
       "      <td>8.8187</td>\n",
       "      <td>1.716828</td>\n",
       "      <td>0.700</td>\n",
       "    </tr>\n",
       "    <tr>\n",
       "      <th>2571</th>\n",
       "      <td>8176564.0</td>\n",
       "      <td>K02720.01</td>\n",
       "      <td>65.7</td>\n",
       "      <td>0.963436</td>\n",
       "      <td>1.432</td>\n",
       "      <td>0.03000</td>\n",
       "      <td>4.6493</td>\n",
       "      <td>6.571594</td>\n",
       "      <td>0.751</td>\n",
       "    </tr>\n",
       "    <tr>\n",
       "      <th>817</th>\n",
       "      <td>5042210.0</td>\n",
       "      <td>K02462.01</td>\n",
       "      <td>70.7</td>\n",
       "      <td>0.969329</td>\n",
       "      <td>1.963</td>\n",
       "      <td>0.06000</td>\n",
       "      <td>2.1876</td>\n",
       "      <td>12.146846</td>\n",
       "      <td>0.687</td>\n",
       "    </tr>\n",
       "    <tr>\n",
       "      <th>2769</th>\n",
       "      <td>8443527.0</td>\n",
       "      <td>K03197.01</td>\n",
       "      <td>76.9</td>\n",
       "      <td>0.985168</td>\n",
       "      <td>1.087</td>\n",
       "      <td>0.00000</td>\n",
       "      <td>3.5380</td>\n",
       "      <td>22.599501</td>\n",
       "      <td>0.120</td>\n",
       "    </tr>\n",
       "    <tr>\n",
       "      <th>3510</th>\n",
       "      <td>9697131.0</td>\n",
       "      <td>K02706.01</td>\n",
       "      <td>83.3</td>\n",
       "      <td>0.980413</td>\n",
       "      <td>1.885</td>\n",
       "      <td>0.00000</td>\n",
       "      <td>3.3295</td>\n",
       "      <td>3.097569</td>\n",
       "      <td>0.408</td>\n",
       "    </tr>\n",
       "    <tr>\n",
       "      <th>568</th>\n",
       "      <td>4276716.0</td>\n",
       "      <td>K01619.01</td>\n",
       "      <td>100.4</td>\n",
       "      <td>0.982222</td>\n",
       "      <td>0.676</td>\n",
       "      <td>0.30000</td>\n",
       "      <td>8.3702</td>\n",
       "      <td>20.665437</td>\n",
       "      <td>0.050</td>\n",
       "    </tr>\n",
       "    <tr>\n",
       "      <th>2023</th>\n",
       "      <td>7202957.0</td>\n",
       "      <td>K02687.02</td>\n",
       "      <td>104.9</td>\n",
       "      <td>0.942577</td>\n",
       "      <td>0.902</td>\n",
       "      <td>0.00010</td>\n",
       "      <td>8.8187</td>\n",
       "      <td>8.167339</td>\n",
       "      <td>0.801</td>\n",
       "    </tr>\n",
       "    <tr>\n",
       "      <th>2237</th>\n",
       "      <td>7670943.0</td>\n",
       "      <td>K00269.01</td>\n",
       "      <td>107.8</td>\n",
       "      <td>0.852508</td>\n",
       "      <td>1.459</td>\n",
       "      <td>0.02000</td>\n",
       "      <td>3.3578</td>\n",
       "      <td>18.011650</td>\n",
       "      <td>0.924</td>\n",
       "    </tr>\n",
       "    <tr>\n",
       "      <th>1060</th>\n",
       "      <td>5513648.0</td>\n",
       "      <td>K01962.01</td>\n",
       "      <td>162.8</td>\n",
       "      <td>0.702580</td>\n",
       "      <td>1.414</td>\n",
       "      <td>0.04000</td>\n",
       "      <td>0.9081</td>\n",
       "      <td>32.858626</td>\n",
       "      <td>0.955</td>\n",
       "    </tr>\n",
       "    <tr>\n",
       "      <th>2705</th>\n",
       "      <td>8345384.0</td>\n",
       "      <td>K04399.01</td>\n",
       "      <td>214.0</td>\n",
       "      <td>0.868028</td>\n",
       "      <td>0.820</td>\n",
       "      <td>0.20000</td>\n",
       "      <td>6.7850</td>\n",
       "      <td>42.100335</td>\n",
       "      <td>0.880</td>\n",
       "    </tr>\n",
       "    <tr>\n",
       "      <th>2277</th>\n",
       "      <td>7746958.0</td>\n",
       "      <td>K02324.01</td>\n",
       "      <td>233.2</td>\n",
       "      <td>0.967765</td>\n",
       "      <td>1.000</td>\n",
       "      <td>0.00000</td>\n",
       "      <td>0.5330</td>\n",
       "      <td>1.204687</td>\n",
       "      <td>0.328</td>\n",
       "    </tr>\n",
       "    <tr>\n",
       "      <th>425</th>\n",
       "      <td>3861595.0</td>\n",
       "      <td>K00004.01</td>\n",
       "      <td>1298.6</td>\n",
       "      <td>0.590372</td>\n",
       "      <td>2.992</td>\n",
       "      <td>0.02000</td>\n",
       "      <td>1.2406</td>\n",
       "      <td>3.849372</td>\n",
       "      <td>0.915</td>\n",
       "    </tr>\n",
       "    <tr>\n",
       "      <th>424</th>\n",
       "      <td>3861595.0</td>\n",
       "      <td>K00004.01</td>\n",
       "      <td>1298.6</td>\n",
       "      <td>0.590372</td>\n",
       "      <td>2.992</td>\n",
       "      <td>0.02000</td>\n",
       "      <td>0.7468</td>\n",
       "      <td>3.849372</td>\n",
       "      <td>0.915</td>\n",
       "    </tr>\n",
       "    <tr>\n",
       "      <th>722</th>\n",
       "      <td>4815520.0</td>\n",
       "      <td>K00367.01</td>\n",
       "      <td>2125.4</td>\n",
       "      <td>0.919574</td>\n",
       "      <td>0.990</td>\n",
       "      <td>0.30000</td>\n",
       "      <td>5.3511</td>\n",
       "      <td>31.578651</td>\n",
       "      <td>0.040</td>\n",
       "    </tr>\n",
       "  </tbody>\n",
       "</table>\n",
       "</div>"
      ],
      "text/plain": [
       "           kepid kepoi_name_y  koi_depth     shape  radius      FPP  parallax  \\\n",
       "684    4735826.0    K03184.03       18.5  0.989836   1.376  0.00030    3.4515   \n",
       "683    4735826.0    K03184.01       22.2  0.985192   1.376  0.00300    3.4515   \n",
       "3853  10155029.0    K03208.01       32.2  0.989781   0.997  0.03000    3.3180   \n",
       "1275   5905822.0    K02801.01       33.4  0.884700   1.467  0.00002    3.8185   \n",
       "1333   5985713.0    K03190.01       44.0  0.972792   1.207  0.30000    2.4193   \n",
       "1334   5985713.0    K03190.01       44.0  0.972792   1.207  0.30000    0.7113   \n",
       "2365   7887791.0    K01964.01       49.1  0.986240   0.865  0.10000    7.3529   \n",
       "1534   6356692.0    K02948.01       51.0  0.947097   1.249  0.04000    2.4532   \n",
       "2022   7202957.0    K02687.01       59.5  0.970147   0.902  0.00070    8.8187   \n",
       "2571   8176564.0    K02720.01       65.7  0.963436   1.432  0.03000    4.6493   \n",
       "817    5042210.0    K02462.01       70.7  0.969329   1.963  0.06000    2.1876   \n",
       "2769   8443527.0    K03197.01       76.9  0.985168   1.087  0.00000    3.5380   \n",
       "3510   9697131.0    K02706.01       83.3  0.980413   1.885  0.00000    3.3295   \n",
       "568    4276716.0    K01619.01      100.4  0.982222   0.676  0.30000    8.3702   \n",
       "2023   7202957.0    K02687.02      104.9  0.942577   0.902  0.00010    8.8187   \n",
       "2237   7670943.0    K00269.01      107.8  0.852508   1.459  0.02000    3.3578   \n",
       "1060   5513648.0    K01962.01      162.8  0.702580   1.414  0.04000    0.9081   \n",
       "2705   8345384.0    K04399.01      214.0  0.868028   0.820  0.20000    6.7850   \n",
       "2277   7746958.0    K02324.01      233.2  0.967765   1.000  0.00000    0.5330   \n",
       "425    3861595.0    K00004.01     1298.6  0.590372   2.992  0.02000    1.2406   \n",
       "424    3861595.0    K00004.01     1298.6  0.590372   2.992  0.02000    0.7468   \n",
       "722    4815520.0    K00367.01     2125.4  0.919574   0.990  0.30000    5.3511   \n",
       "\n",
       "      koi_period  koi_impact  \n",
       "684     4.020189       0.505  \n",
       "683     7.545922       0.625  \n",
       "3853    2.131661       0.036  \n",
       "1275    6.992050       0.944  \n",
       "1333    8.952940       0.718  \n",
       "1334    8.952940       0.718  \n",
       "2365    2.229326       0.249  \n",
       "1534   11.391695       0.849  \n",
       "2022    1.716828       0.700  \n",
       "2571    6.571594       0.751  \n",
       "817    12.146846       0.687  \n",
       "2769   22.599501       0.120  \n",
       "3510    3.097569       0.408  \n",
       "568    20.665437       0.050  \n",
       "2023    8.167339       0.801  \n",
       "2237   18.011650       0.924  \n",
       "1060   32.858626       0.955  \n",
       "2705   42.100335       0.880  \n",
       "2277    1.204687       0.328  \n",
       "425     3.849372       0.915  \n",
       "424     3.849372       0.915  \n",
       "722    31.578651       0.040  "
      ]
     },
     "execution_count": 312,
     "metadata": {},
     "output_type": "execute_result"
    }
   ],
   "source": [
    "selected[['kepid','kepoi_name_y','koi_depth','shape','radius','FPP','parallax','koi_period','koi_impact']].sort_values(by='koi_depth')"
   ]
  },
  {
   "cell_type": "markdown",
   "metadata": {},
   "source": [
    "## Lightcurves"
   ]
  },
  {
   "cell_type": "code",
   "execution_count": 36,
   "metadata": {},
   "outputs": [
    {
     "data": {
      "text/plain": [
       "424        4.01\n",
       "425        4.01\n",
       "568     1619.01\n",
       "683     3184.01\n",
       "684     3184.03\n",
       "722      367.01\n",
       "817     2462.01\n",
       "857     5129.01\n",
       "1060    1962.01\n",
       "1275    2801.01\n",
       "1333    3190.01\n",
       "1334    3190.01\n",
       "1534    2948.01\n",
       "2022    2687.01\n",
       "2023    2687.02\n",
       "2237     269.01\n",
       "2277    2324.01\n",
       "2278    2324.01\n",
       "2365    1964.01\n",
       "2571    2720.01\n",
       "2705    4399.01\n",
       "2769    3197.01\n",
       "3510    2706.01\n",
       "3853    3208.01\n",
       "Name: kepoi_name_y, dtype: float64"
      ]
     },
     "execution_count": 36,
     "metadata": {},
     "output_type": "execute_result"
    }
   ],
   "source": [
    "kois = selected['kepoi_name_y'].apply(lambda x: x[2:]).astype(float)\n",
    "kois"
   ]
  },
  {
   "cell_type": "raw",
   "metadata": {},
   "source": [
    "import sys\n",
    "\n",
    "!{sys.executable} -m pip install kplr"
   ]
  },
  {
   "cell_type": "code",
   "execution_count": 38,
   "metadata": {},
   "outputs": [
    {
     "name": "stdout",
     "output_type": "stream",
     "text": [
      "Filename: /home/prometheus/.kplr/data/lightcurves/004815520/kplr004815520-2009131105131_llc.fits\n",
      "No.    Name      Ver    Type      Cards   Dimensions   Format\n",
      "  0  PRIMARY       1 PrimaryHDU      58   ()      \n",
      "  1  LIGHTCURVE    1 BinTableHDU    155   476R x 20C   [D, E, J, E, E, E, E, E, E, J, D, E, D, E, D, E, D, E, E, E]   \n",
      "  2  APERTURE      1 ImageHDU        48   (8, 10)   int32   \n"
     ]
    }
   ],
   "source": [
    "import kplr\n",
    "client = kplr.API()\n",
    "\n",
    "koi = client.koi(367.01)\n",
    "lcs=koi.get_light_curves(short_cadence=False)\n",
    "lcs[0].open().info()"
   ]
  },
  {
   "cell_type": "code",
   "execution_count": 39,
   "metadata": {},
   "outputs": [
    {
     "data": {
      "text/plain": [
       "SCFXDOFF=               219400 / short cadence fixed offset                     \n",
       "CDPP3_0 =   25.557697296142578 / [ppm] RMS CDPP on 3.0-hr time scales           \n",
       "CDPP6_0 =   22.964338302612305 / [ppm] RMS CDPP on 6.0-hr time scales           \n",
       "CDPP12_0=    21.89278793334961 / [ppm] RMS CDPP on 12.0-hr time scales          \n",
       "CROWDSAP=               1.0000 / Ratio of target flux to total flux in op. ap.  \n",
       "FLFRCSAP=               0.9606 / Frac. of target flux w/in the op. aperture     \n",
       "NSPSDDET=                    0 / Number of SPSDs detected                       \n",
       "NSPSDCOR=                    0 / Number of SPSDs corrected                      \n",
       "PDCVAR  =   1.0131021738052368 / Target variability                             \n",
       "PDCMETHD= 'regularMap'         / PDC algorithm used for target                  \n",
       "NUMBAND =                    1 / Number of scale bands                          \n",
       "FITTYPE1= 'prior   '           / Fit type used for band 1                       \n",
       "PR_GOOD1=   0.9854043126106262 / Prior goodness for band 1                      \n",
       "PR_WGHT1=   3.9934301376342773 / Prior weight for band 1                        \n",
       "PDC_TOT =   0.8955263495445251 / PDC total goodness metric for target           \n",
       "PDC_TOTP=   3.0197482109069824 / PDC_TOT percentile compared to mod/out         \n",
       "PDC_COR =   0.6529574990272522 / PDC correlation goodness metric for target     \n",
       "PDC_CORP=   1.1277942657470703 / PDC_COR percentile compared to mod/out         \n",
       "PDC_VAR =   0.9998533725738525 / PDC variability goodness metric for target     \n",
       "PDC_VARP=    71.41021728515625 / PDC_VAR percentile compared to mod/out         \n",
       "PDC_NOI =   0.9851270914077759 / PDC noise goodness metric for target           \n",
       "PDC_NOIP=   15.125506401062012 / PDC_NOI percentile compared to mod/out         \n",
       "PDC_EPT =                      / PDC earth point goodness metric for target     \n",
       "PDC_EPTP=                      / PDC_EPT percentile compared to mod/out         \n",
       "CHECKSUM= 'omPJqlOHolOHolOH'   / HDU checksum updated 2015-08-26T17:47:25Z      "
      ]
     },
     "execution_count": 39,
     "metadata": {},
     "output_type": "execute_result"
    }
   ],
   "source": [
    "hdr=lcs[0].open()[1].header\n",
    "hdr[-25:]"
   ]
  },
  {
   "cell_type": "code",
   "execution_count": 40,
   "metadata": {},
   "outputs": [
    {
     "name": "stdout",
     "output_type": "stream",
     "text": [
      "25.557697296142578\n",
      "22.964338302612305\n",
      "21.89278793334961\n",
      "1.0131021738052368\n",
      "0.9851270914077759\n"
     ]
    }
   ],
   "source": [
    "cols = 'CDPP3_0,CDPP6_0,CDPP12_0,PDCVAR,PDC_NOI'.split(',')\n",
    "for i in cols:\n",
    "    print(hdr[i])"
   ]
  },
  {
   "cell_type": "code",
   "execution_count": 41,
   "metadata": {},
   "outputs": [
    {
     "data": {
      "text/plain": [
       "<matplotlib.image.AxesImage at 0x7fc6a4f657b8>"
      ]
     },
     "execution_count": 41,
     "metadata": {},
     "output_type": "execute_result"
    },
    {
     "data": {
      "image/png": "[encoded data removed]",
      "text/plain": [
       "<matplotlib.figure.Figure at 0x7fc6a503e8d0>"
      ]
     },
     "metadata": {},
     "output_type": "display_data"
    }
   ],
   "source": [
    "pl.imshow(lcs[0].open()[2].data)"
   ]
  },
  {
   "cell_type": "code",
   "execution_count": 42,
   "metadata": {},
   "outputs": [
    {
     "name": "stdout",
     "output_type": "stream",
     "text": [
      "/home/prometheus/.kplr/data/lightcurves/004815520/kplr004815520-2009131105131_llc.fits\n",
      "/home/prometheus/.kplr/data/lightcurves/004815520/kplr004815520-2009166043257_llc.fits\n",
      "/home/prometheus/.kplr/data/lightcurves/004815520/kplr004815520-2009259160929_llc.fits\n",
      "/home/prometheus/.kplr/data/lightcurves/004815520/kplr004815520-2009350155506_llc.fits\n",
      "/home/prometheus/.kplr/data/lightcurves/004815520/kplr004815520-2010078095331_llc.fits\n",
      "/home/prometheus/.kplr/data/lightcurves/004815520/kplr004815520-2010265121752_llc.fits\n",
      "/home/prometheus/.kplr/data/lightcurves/004815520/kplr004815520-2010355172524_llc.fits\n",
      "/home/prometheus/.kplr/data/lightcurves/004815520/kplr004815520-2011073133259_llc.fits\n",
      "/home/prometheus/.kplr/data/lightcurves/004815520/kplr004815520-2011271113734_llc.fits\n",
      "/home/prometheus/.kplr/data/lightcurves/004815520/kplr004815520-2012004120508_llc.fits\n",
      "/home/prometheus/.kplr/data/lightcurves/004815520/kplr004815520-2012088054726_llc.fits\n",
      "/home/prometheus/.kplr/data/lightcurves/004815520/kplr004815520-2012277125453_llc.fits\n",
      "/home/prometheus/.kplr/data/lightcurves/004815520/kplr004815520-2013011073258_llc.fits\n",
      "/home/prometheus/.kplr/data/lightcurves/004815520/kplr004815520-2013098041711_llc.fits\n"
     ]
    }
   ],
   "source": [
    "# Find the target KOI.\n",
    "koi = client.koi(367.01)\n",
    "\n",
    "# Get a list of light curve datasets.\n",
    "lcs = koi.get_light_curves(short_cadence=False)\n",
    "\n",
    "# Loop over the datasets and read in the data.\n",
    "times, fluxes, ferrs, qualities = [], [], [], []\n",
    "aper_shapes, apers, headers = [], [], []\n",
    "\n",
    "for lc in lcs:\n",
    "    print(lc.filename)\n",
    "    with lc.open() as f:\n",
    "        # header of lightcurve data is in 1st FITS HDU\n",
    "        hdr = f[1].header\n",
    "        headers.append(hdr)\n",
    "        \n",
    "        # lightcurve data\n",
    "        hdu_data = f[1].data\n",
    "        times.append(hdu_data[\"time\"])\n",
    "        fluxes.append(hdu_data[\"sap_flux\"])\n",
    "        ferrs.append(hdu_data[\"sap_flux_err\"])\n",
    "        qualities.append(hdu_data[\"sap_quality\"])\n",
    "        \n",
    "        # aperture\n",
    "        aperture = f[2].data\n",
    "        apers.append(aperture)\n",
    "        aper_shapes.append(aperture.shape)"
   ]
  },
  {
   "cell_type": "code",
   "execution_count": 43,
   "metadata": {
    "collapsed": true,
    "scrolled": false
   },
   "outputs": [],
   "source": [
    "def plot_aper(apers,ncols=3,figsize=(15,25)):\n",
    "    nrows = int(len(apers)/ncols)+1\n",
    "    fig, ax = pl.subplots(nrows, ncols, figsize=figsize)\n",
    "    for n in range(len(apers)):\n",
    "        title = 'aperture={}'.format(apers[n].shape)\n",
    "        if ncols == 1:\n",
    "            ax[n].imshow(apers[n])\n",
    "            ax[n].set_title()\n",
    "        else:\n",
    "            ax[int(n/ncols),n%ncols].imshow(apers[n])\n",
    "            ax[int(n/ncols),n%ncols].set_title(title)"
   ]
  },
  {
   "cell_type": "code",
   "execution_count": 44,
   "metadata": {},
   "outputs": [
    {
     "data": {
      "image/png": "[encoded data removed]",
      "text/plain": [
       "<matplotlib.figure.Figure at 0x7fc6a486aac8>"
      ]
     },
     "metadata": {},
     "output_type": "display_data"
    }
   ],
   "source": [
    "plot_aper(apers,figsize=(15,15))"
   ]
  },
  {
   "cell_type": "code",
   "execution_count": 71,
   "metadata": {
    "collapsed": true,
    "scrolled": false
   },
   "outputs": [],
   "source": [
    "def plot_lc(times,fluxes,headers,aper_shapes,ncols=3,figsize=(15,25)):\n",
    "    nrows = int(len(times)/ncols)+1\n",
    "    fig, ax = pl.subplots(nrows, ncols, figsize=figsize)\n",
    "    for n in range(len(times)):\n",
    "        x = times[n]\n",
    "        y = fluxes[n]\n",
    "        hdr = headers[n]\n",
    "        title = 'aperture={0}, noise metric={1:.2f}'.format(aper_shapes[n],hdr['PDC_NOI'])\n",
    "        if ncols == 1:\n",
    "            ax[n].plot(x,y)\n",
    "            ax[n].set_title()\n",
    "        else:\n",
    "            ax[int(n/ncols),n%ncols].plot(x,y)\n",
    "            ax[int(n/ncols),n%ncols].set_title(title)"
   ]
  },
  {
   "cell_type": "code",
   "execution_count": 72,
   "metadata": {},
   "outputs": [
    {
     "data": {
      "image/png": "[encoded data removed]",
      "text/plain": [
       "<matplotlib.figure.Figure at 0x7fc6a47ddc50>"
      ]
     },
     "metadata": {},
     "output_type": "display_data"
    }
   ],
   "source": [
    "plot_lc(times,fluxes,headers,aper_shapes)"
   ]
  },
  {
   "cell_type": "code",
   "execution_count": 68,
   "metadata": {
    "collapsed": true
   },
   "outputs": [],
   "source": [
    "def get_best_lc(koi_num):\n",
    "    metrics = []\n",
    "    \n",
    "    client = kplr.API()\n",
    "    koi = client.koi(koi_num)\n",
    "    lcs=koi.get_light_curves(short_cadence=False)\n",
    "    for lc in lcs:\n",
    "        hdul=lc.open()\n",
    "        hdr=hdul[1].header\n",
    "        metrics.append(hdr['PDC_NOI'])\n",
    "    return np.argmin(metrics)"
   ]
  },
  {
   "cell_type": "code",
   "execution_count": 69,
   "metadata": {},
   "outputs": [
    {
     "data": {
      "text/plain": [
       "11"
      ]
     },
     "execution_count": 69,
     "metadata": {},
     "output_type": "execute_result"
    }
   ],
   "source": [
    "get_best_lc(367.01)"
   ]
  },
  {
   "cell_type": "code",
   "execution_count": 240,
   "metadata": {},
   "outputs": [
    {
     "name": "stdout",
     "output_type": "stream",
     "text": [
      "4.01\n",
      "4.01\n",
      "1619.01\n",
      "3184.01\n",
      "3184.03\n",
      "367.01\n",
      "2462.01\n",
      "5129.01\n",
      "1962.01\n",
      "2801.01\n",
      "3190.01\n",
      "3190.01\n",
      "2948.01\n",
      "2687.01\n",
      "2687.02\n",
      "269.01\n",
      "2324.01\n",
      "2324.01\n",
      "1964.01\n",
      "2720.01\n",
      "4399.01\n",
      "3197.01\n",
      "2706.01\n",
      "3208.01\n"
     ]
    }
   ],
   "source": [
    "from tqdm import tqdm\n",
    "\n",
    "for k in tqdm(koi):\n",
    "    print('koi {}'.format(koi))\n",
    "    #idx = get_best_lc(koi)\n",
    "    koi = client.koi(k)\n",
    "\n",
    "    # Get a list of light curve datasets.\n",
    "    lcs = koi.get_light_curves(short_cadence=False,fetch=False)\n",
    "\n",
    "    # Loop over the datasets and read in the data.\n",
    "    times, fluxes, ferrs, qualities = [], [], [], []\n",
    "    aper_shapes, apers, headers = [], [], []\n",
    "\n",
    "    for lc in lcs:\n",
    "        print(lc.filename)\n",
    "        with lc.open() as f:\n",
    "            # header of lightcurve data is in 1st FITS HDU\n",
    "            hdr = f[1].header\n",
    "            headers.append(hdr)\n",
    "\n",
    "            # lightcurve data\n",
    "            hdu_data = f[1].data\n",
    "            times.append(hdu_data[\"time\"])\n",
    "            fluxes.append(hdu_data[\"sap_flux\"])\n",
    "            ferrs.append(hdu_data[\"sap_flux_err\"])\n",
    "            qualities.append(hdu_data[\"sap_quality\"])\n",
    "\n",
    "            # aperture\n",
    "            aperture = f[2].data\n",
    "            apers.append(aperture)\n",
    "            aper_shapes.append(aperture.shape)"
   ]
  },
  {
   "cell_type": "raw",
   "metadata": {},
   "source": [
    "import sys\n",
    "\n",
    "!{sys.executable} -m pip install everest-pipeline"
   ]
  },
  {
   "cell_type": "raw",
   "metadata": {},
   "source": [
    "import everest\n",
    "\n",
    "#everest.missions.kepler.GetData(5480640)\n",
    "everest.kepler.GetData(5480640)"
   ]
  },
  {
   "cell_type": "markdown",
   "metadata": {},
   "source": [
    "## CKS Catalog \n",
    "\n",
    "* [CKS data](https://california-planet-search.github.io/cks-website/) and meanings [here](http://www.astro.caltech.edu/~howard/cks/column-definitions.txt)"
   ]
  },
  {
   "cell_type": "code",
   "execution_count": 314,
   "metadata": {},
   "outputs": [
    {
     "data": {
      "text/plain": [
       "(2025, 120)"
      ]
     },
     "execution_count": 314,
     "metadata": {},
     "output_type": "execute_result"
    }
   ],
   "source": [
    "df4 = pd.read_csv('../data/cks_physical_merged.csv',index_col=0)\n",
    "df4.shape"
   ]
  },
  {
   "cell_type": "code",
   "execution_count": 76,
   "metadata": {},
   "outputs": [
    {
     "data": {
      "text/html": [
       "<div>\n",
       "<style>\n",
       "    .dataframe thead tr:only-child th {\n",
       "        text-align: right;\n",
       "    }\n",
       "\n",
       "    .dataframe thead th {\n",
       "        text-align: left;\n",
       "    }\n",
       "\n",
       "    .dataframe tbody tr th {\n",
       "        vertical-align: top;\n",
       "    }\n",
       "</style>\n",
       "<table border=\"1\" class=\"dataframe\">\n",
       "  <thead>\n",
       "    <tr style=\"text-align: right;\">\n",
       "      <th></th>\n",
       "      <th>id_starname</th>\n",
       "      <th>id_kic</th>\n",
       "      <th>id_koicand</th>\n",
       "      <th>id_kepler_name</th>\n",
       "      <th>koi_disposition</th>\n",
       "      <th>koi_period</th>\n",
       "      <th>koi_period_err1</th>\n",
       "      <th>koi_period_err2</th>\n",
       "      <th>koi_time0</th>\n",
       "      <th>koi_time0_err1</th>\n",
       "      <th>...</th>\n",
       "      <th>iso_prad_err2</th>\n",
       "      <th>iso_sma</th>\n",
       "      <th>iso_sma_err1</th>\n",
       "      <th>iso_sma_err2</th>\n",
       "      <th>iso_insol</th>\n",
       "      <th>iso_insol_err1</th>\n",
       "      <th>iso_insol_err2</th>\n",
       "      <th>iso_teq</th>\n",
       "      <th>iso_teq_err1</th>\n",
       "      <th>iso_teq_err2</th>\n",
       "    </tr>\n",
       "  </thead>\n",
       "  <tbody>\n",
       "    <tr>\n",
       "      <th>0</th>\n",
       "      <td>K00001</td>\n",
       "      <td>11446443</td>\n",
       "      <td>K00001.01</td>\n",
       "      <td>Kepler-1 b</td>\n",
       "      <td>CONFIRMED</td>\n",
       "      <td>2.470613</td>\n",
       "      <td>1.900000e-08</td>\n",
       "      <td>-1.900000e-08</td>\n",
       "      <td>2454955.763</td>\n",
       "      <td>0.000006</td>\n",
       "      <td>...</td>\n",
       "      <td>-1.419266</td>\n",
       "      <td>0.035951</td>\n",
       "      <td>0.000596</td>\n",
       "      <td>-0.000596</td>\n",
       "      <td>890.712853</td>\n",
       "      <td>184.876216</td>\n",
       "      <td>-184.876216</td>\n",
       "      <td>1392.188224</td>\n",
       "      <td>71.758330</td>\n",
       "      <td>-71.758330</td>\n",
       "    </tr>\n",
       "    <tr>\n",
       "      <th>1</th>\n",
       "      <td>K00002</td>\n",
       "      <td>10666592</td>\n",
       "      <td>K00002.01</td>\n",
       "      <td>Kepler-2 b</td>\n",
       "      <td>CONFIRMED</td>\n",
       "      <td>2.204735</td>\n",
       "      <td>3.800000e-08</td>\n",
       "      <td>-3.800000e-08</td>\n",
       "      <td>2454954.359</td>\n",
       "      <td>0.000014</td>\n",
       "      <td>...</td>\n",
       "      <td>-2.018515</td>\n",
       "      <td>0.036880</td>\n",
       "      <td>0.000727</td>\n",
       "      <td>-0.000727</td>\n",
       "      <td>3029.593093</td>\n",
       "      <td>931.186264</td>\n",
       "      <td>-931.186264</td>\n",
       "      <td>1890.643307</td>\n",
       "      <td>146.140168</td>\n",
       "      <td>-146.140168</td>\n",
       "    </tr>\n",
       "    <tr>\n",
       "      <th>2</th>\n",
       "      <td>K00003</td>\n",
       "      <td>10748390</td>\n",
       "      <td>K00003.01</td>\n",
       "      <td>Kepler-3 b</td>\n",
       "      <td>CONFIRMED</td>\n",
       "      <td>4.887803</td>\n",
       "      <td>1.770000e-07</td>\n",
       "      <td>-1.770000e-07</td>\n",
       "      <td>2454957.813</td>\n",
       "      <td>0.000028</td>\n",
       "      <td>...</td>\n",
       "      <td>-0.410257</td>\n",
       "      <td>0.052952</td>\n",
       "      <td>0.000883</td>\n",
       "      <td>-0.000883</td>\n",
       "      <td>116.907786</td>\n",
       "      <td>20.094411</td>\n",
       "      <td>-20.094411</td>\n",
       "      <td>837.962116</td>\n",
       "      <td>35.981752</td>\n",
       "      <td>-35.981752</td>\n",
       "    </tr>\n",
       "    <tr>\n",
       "      <th>3</th>\n",
       "      <td>K00006</td>\n",
       "      <td>3248033</td>\n",
       "      <td>K00006.01</td>\n",
       "      <td>NaN</td>\n",
       "      <td>FALSE POSITIVE</td>\n",
       "      <td>1.334104</td>\n",
       "      <td>7.070000e-07</td>\n",
       "      <td>-7.070000e-07</td>\n",
       "      <td>2454966.702</td>\n",
       "      <td>0.000420</td>\n",
       "      <td>...</td>\n",
       "      <td>-21.966014</td>\n",
       "      <td>0.025383</td>\n",
       "      <td>0.000427</td>\n",
       "      <td>-0.000427</td>\n",
       "      <td>3595.445148</td>\n",
       "      <td>694.155894</td>\n",
       "      <td>-694.155894</td>\n",
       "      <td>1973.338972</td>\n",
       "      <td>95.179897</td>\n",
       "      <td>-95.179897</td>\n",
       "    </tr>\n",
       "    <tr>\n",
       "      <th>4</th>\n",
       "      <td>K00007</td>\n",
       "      <td>11853905</td>\n",
       "      <td>K00007.01</td>\n",
       "      <td>Kepler-4 b</td>\n",
       "      <td>CONFIRMED</td>\n",
       "      <td>3.213669</td>\n",
       "      <td>1.122000e-06</td>\n",
       "      <td>-1.122000e-06</td>\n",
       "      <td>2454956.612</td>\n",
       "      <td>0.000280</td>\n",
       "      <td>...</td>\n",
       "      <td>-0.596032</td>\n",
       "      <td>0.044247</td>\n",
       "      <td>0.001075</td>\n",
       "      <td>-0.001075</td>\n",
       "      <td>1233.844672</td>\n",
       "      <td>367.335736</td>\n",
       "      <td>-367.335736</td>\n",
       "      <td>1510.353647</td>\n",
       "      <td>112.889880</td>\n",
       "      <td>-112.889880</td>\n",
       "    </tr>\n",
       "  </tbody>\n",
       "</table>\n",
       "<p>5 rows × 120 columns</p>\n",
       "</div>"
      ],
      "text/plain": [
       "  id_starname    id_kic id_koicand id_kepler_name koi_disposition  koi_period  \\\n",
       "0      K00001  11446443  K00001.01     Kepler-1 b       CONFIRMED    2.470613   \n",
       "1      K00002  10666592  K00002.01     Kepler-2 b       CONFIRMED    2.204735   \n",
       "2      K00003  10748390  K00003.01     Kepler-3 b       CONFIRMED    4.887803   \n",
       "3      K00006   3248033  K00006.01            NaN  FALSE POSITIVE    1.334104   \n",
       "4      K00007  11853905  K00007.01     Kepler-4 b       CONFIRMED    3.213669   \n",
       "\n",
       "   koi_period_err1  koi_period_err2    koi_time0  koi_time0_err1  \\\n",
       "0     1.900000e-08    -1.900000e-08  2454955.763        0.000006   \n",
       "1     3.800000e-08    -3.800000e-08  2454954.359        0.000014   \n",
       "2     1.770000e-07    -1.770000e-07  2454957.813        0.000028   \n",
       "3     7.070000e-07    -7.070000e-07  2454966.702        0.000420   \n",
       "4     1.122000e-06    -1.122000e-06  2454956.612        0.000280   \n",
       "\n",
       "       ...       iso_prad_err2   iso_sma  iso_sma_err1  iso_sma_err2  \\\n",
       "0      ...           -1.419266  0.035951      0.000596     -0.000596   \n",
       "1      ...           -2.018515  0.036880      0.000727     -0.000727   \n",
       "2      ...           -0.410257  0.052952      0.000883     -0.000883   \n",
       "3      ...          -21.966014  0.025383      0.000427     -0.000427   \n",
       "4      ...           -0.596032  0.044247      0.001075     -0.001075   \n",
       "\n",
       "     iso_insol  iso_insol_err1  iso_insol_err2      iso_teq  iso_teq_err1  \\\n",
       "0   890.712853      184.876216     -184.876216  1392.188224     71.758330   \n",
       "1  3029.593093      931.186264     -931.186264  1890.643307    146.140168   \n",
       "2   116.907786       20.094411      -20.094411   837.962116     35.981752   \n",
       "3  3595.445148      694.155894     -694.155894  1973.338972     95.179897   \n",
       "4  1233.844672      367.335736     -367.335736  1510.353647    112.889880   \n",
       "\n",
       "   iso_teq_err2  \n",
       "0    -71.758330  \n",
       "1   -146.140168  \n",
       "2    -35.981752  \n",
       "3    -95.179897  \n",
       "4   -112.889880  \n",
       "\n",
       "[5 rows x 120 columns]"
      ]
     },
     "execution_count": 76,
     "metadata": {},
     "output_type": "execute_result"
    }
   ],
   "source": [
    "df4.head()"
   ]
  },
  {
   "cell_type": "code",
   "execution_count": 317,
   "metadata": {},
   "outputs": [
    {
     "data": {
      "text/plain": [
       "0    K00001.01\n",
       "1    K00002.01\n",
       "2    K00003.01\n",
       "3    K00006.01\n",
       "4    K00007.01\n",
       "Name: id_koicand, dtype: object"
      ]
     },
     "execution_count": 317,
     "metadata": {},
     "output_type": "execute_result"
    }
   ],
   "source": [
    "df4['id_koicand'].head()"
   ]
  },
  {
   "cell_type": "code",
   "execution_count": 318,
   "metadata": {},
   "outputs": [
    {
     "data": {
      "text/plain": [
       "2    K00984.01\n",
       "3    K00984.01\n",
       "4    K00994.01\n",
       "5    K00992.01\n",
       "6    K00992.02\n",
       "Name: kepoi_name_y, dtype: object"
      ]
     },
     "execution_count": 318,
     "metadata": {},
     "output_type": "execute_result"
    }
   ],
   "source": [
    "df_all['kepoi_name_y'].head()"
   ]
  },
  {
   "cell_type": "code",
   "execution_count": 319,
   "metadata": {},
   "outputs": [
    {
     "data": {
      "text/plain": [
       "(3888, 352)"
      ]
     },
     "execution_count": 319,
     "metadata": {},
     "output_type": "execute_result"
    }
   ],
   "source": [
    "df=pd.merge(df4,df_all,how='outer',left_on='id_koicand',right_on='kepoi_name_y')\n",
    "df.shape"
   ]
  },
  {
   "cell_type": "code",
   "execution_count": 320,
   "metadata": {
    "scrolled": true
   },
   "outputs": [
    {
     "data": {
      "text/plain": [
       "(14, 352)"
      ]
     },
     "execution_count": 320,
     "metadata": {},
     "output_type": "execute_result"
    }
   ],
   "source": [
    "low_fpp = df['FPP'] < 0.5\n",
    "cand    = df['planet?'] != 'conf'\n",
    "bright  = df['koi_kepmag'] < 14\n",
    "short_period = df['koi_period_y'] < 40\n",
    "deep    = df['koi_depth_y'] > 1000\n",
    "nearby  = df['parallax'] > 0.5\n",
    "#keep spectroscopic values; replace nan otherwise\n",
    "#df['teff_prov'].astype(str).apply(lambda x: x[:3]=='SPE' or x[:3]=='AST')\n",
    "#df['logg_prov'].astype(str).apply(lambda x: x[:3]=='SPE' or x[:3]=='AST')\n",
    "#df['feh_prov'].astype(str).apply(lambda x: x[:3]=='SPE' or x[:3]=='AST')\n",
    "\n",
    "idx     = low_fpp & cand & bright & deep & short_period & nearby\n",
    "\n",
    "df[idx].shape"
   ]
  },
  {
   "cell_type": "code",
   "execution_count": 321,
   "metadata": {
    "collapsed": true
   },
   "outputs": [],
   "source": [
    "df['uteff']=(df['teff_err1']+abs(df['teff_err2']))/2\n",
    "df['ulogg']=(df['logg_err1']+abs(df['logg_err2']))/2\n",
    "df['ufeh'] =(df['feh_err1']+abs(df['feh_err2']))/2"
   ]
  },
  {
   "cell_type": "raw",
   "metadata": {},
   "source": [
    "sorted(df.columns.tolist())"
   ]
  },
  {
   "cell_type": "code",
   "execution_count": 373,
   "metadata": {},
   "outputs": [
    {
     "data": {
      "text/html": [
       "<div>\n",
       "<style>\n",
       "    .dataframe thead tr:only-child th {\n",
       "        text-align: right;\n",
       "    }\n",
       "\n",
       "    .dataframe thead th {\n",
       "        text-align: left;\n",
       "    }\n",
       "\n",
       "    .dataframe tbody tr th {\n",
       "        vertical-align: top;\n",
       "    }\n",
       "</style>\n",
       "<table border=\"1\" class=\"dataframe\">\n",
       "  <thead>\n",
       "    <tr style=\"text-align: right;\">\n",
       "      <th></th>\n",
       "      <th>kepoi_name_y</th>\n",
       "      <th>teff_prov</th>\n",
       "      <th>logg_prov</th>\n",
       "      <th>feh_prov</th>\n",
       "      <th>teff</th>\n",
       "      <th>uteff</th>\n",
       "      <th>logg</th>\n",
       "      <th>ulogg</th>\n",
       "      <th>feh</th>\n",
       "      <th>ufeh</th>\n",
       "      <th>...</th>\n",
       "      <th>FPP</th>\n",
       "      <th>planet?</th>\n",
       "      <th>koi_kepmag</th>\n",
       "      <th>koi_period_y</th>\n",
       "      <th>koi_depth_y</th>\n",
       "      <th>shape</th>\n",
       "      <th>cks_svsini</th>\n",
       "      <th>mass</th>\n",
       "      <th>radius</th>\n",
       "      <th>rho_star</th>\n",
       "    </tr>\n",
       "  </thead>\n",
       "  <tbody>\n",
       "    <tr>\n",
       "      <th>99</th>\n",
       "      <td>K00141.01</td>\n",
       "      <td>SPE59</td>\n",
       "      <td>SPE59</td>\n",
       "      <td>SPE59</td>\n",
       "      <td>5340.0</td>\n",
       "      <td>106.0</td>\n",
       "      <td>4.514</td>\n",
       "      <td>0.0685</td>\n",
       "      <td>0.36</td>\n",
       "      <td>0.125</td>\n",
       "      <td>...</td>\n",
       "      <td>0.030</td>\n",
       "      <td>cand</td>\n",
       "      <td>13.687</td>\n",
       "      <td>2.624235</td>\n",
       "      <td>2607.0</td>\n",
       "      <td>0.762215</td>\n",
       "      <td>3.0</td>\n",
       "      <td>0.963</td>\n",
       "      <td>0.899</td>\n",
       "      <td>1.963957</td>\n",
       "    </tr>\n",
       "    <tr>\n",
       "      <th>318</th>\n",
       "      <td>K00367.01</td>\n",
       "      <td>SPE59</td>\n",
       "      <td>SPE59</td>\n",
       "      <td>SPE59</td>\n",
       "      <td>5733.0</td>\n",
       "      <td>109.5</td>\n",
       "      <td>4.442</td>\n",
       "      <td>0.0900</td>\n",
       "      <td>0.08</td>\n",
       "      <td>0.150</td>\n",
       "      <td>...</td>\n",
       "      <td>0.300</td>\n",
       "      <td>cand</td>\n",
       "      <td>11.105</td>\n",
       "      <td>31.578651</td>\n",
       "      <td>2125.4</td>\n",
       "      <td>0.919574</td>\n",
       "      <td>2.8</td>\n",
       "      <td>0.987</td>\n",
       "      <td>0.990</td>\n",
       "      <td>1.663918</td>\n",
       "    </tr>\n",
       "    <tr>\n",
       "      <th>2347</th>\n",
       "      <td>K00004.01</td>\n",
       "      <td>SPE3</td>\n",
       "      <td>SPE3</td>\n",
       "      <td>SPE3</td>\n",
       "      <td>6244.0</td>\n",
       "      <td>120.0</td>\n",
       "      <td>3.657</td>\n",
       "      <td>0.1800</td>\n",
       "      <td>-0.16</td>\n",
       "      <td>0.175</td>\n",
       "      <td>...</td>\n",
       "      <td>0.020</td>\n",
       "      <td>cand</td>\n",
       "      <td>11.432</td>\n",
       "      <td>3.849372</td>\n",
       "      <td>1298.6</td>\n",
       "      <td>0.590372</td>\n",
       "      <td>NaN</td>\n",
       "      <td>1.482</td>\n",
       "      <td>2.992</td>\n",
       "      <td>0.272981</td>\n",
       "    </tr>\n",
       "    <tr>\n",
       "      <th>2348</th>\n",
       "      <td>K00004.01</td>\n",
       "      <td>SPE3</td>\n",
       "      <td>SPE3</td>\n",
       "      <td>SPE3</td>\n",
       "      <td>6244.0</td>\n",
       "      <td>120.0</td>\n",
       "      <td>3.657</td>\n",
       "      <td>0.1800</td>\n",
       "      <td>-0.16</td>\n",
       "      <td>0.175</td>\n",
       "      <td>...</td>\n",
       "      <td>0.020</td>\n",
       "      <td>cand</td>\n",
       "      <td>11.432</td>\n",
       "      <td>3.849372</td>\n",
       "      <td>1298.6</td>\n",
       "      <td>0.590372</td>\n",
       "      <td>NaN</td>\n",
       "      <td>1.482</td>\n",
       "      <td>2.992</td>\n",
       "      <td>0.272981</td>\n",
       "    </tr>\n",
       "    <tr>\n",
       "      <th>2449</th>\n",
       "      <td>K00143.01</td>\n",
       "      <td>PHO1</td>\n",
       "      <td>KIC0</td>\n",
       "      <td>KIC0</td>\n",
       "      <td>6968.0</td>\n",
       "      <td>230.5</td>\n",
       "      <td>4.310</td>\n",
       "      <td>0.1450</td>\n",
       "      <td>-0.10</td>\n",
       "      <td>0.300</td>\n",
       "      <td>...</td>\n",
       "      <td>0.300</td>\n",
       "      <td>cand</td>\n",
       "      <td>13.682</td>\n",
       "      <td>22.651175</td>\n",
       "      <td>2250.0</td>\n",
       "      <td>0.410963</td>\n",
       "      <td>NaN</td>\n",
       "      <td>1.333</td>\n",
       "      <td>1.333</td>\n",
       "      <td>1.227812</td>\n",
       "    </tr>\n",
       "    <tr>\n",
       "      <th>2536</th>\n",
       "      <td>K00641.01</td>\n",
       "      <td>SPE60</td>\n",
       "      <td>SPE60</td>\n",
       "      <td>SPE60</td>\n",
       "      <td>4129.0</td>\n",
       "      <td>82.0</td>\n",
       "      <td>4.636</td>\n",
       "      <td>0.0230</td>\n",
       "      <td>0.30</td>\n",
       "      <td>0.150</td>\n",
       "      <td>...</td>\n",
       "      <td>0.004</td>\n",
       "      <td>cand</td>\n",
       "      <td>13.583</td>\n",
       "      <td>14.851855</td>\n",
       "      <td>1341.0</td>\n",
       "      <td>0.792639</td>\n",
       "      <td>NaN</td>\n",
       "      <td>0.671</td>\n",
       "      <td>0.652</td>\n",
       "      <td>2.600949</td>\n",
       "    </tr>\n",
       "    <tr>\n",
       "      <th>2537</th>\n",
       "      <td>K00641.01</td>\n",
       "      <td>SPE60</td>\n",
       "      <td>SPE60</td>\n",
       "      <td>SPE60</td>\n",
       "      <td>4129.0</td>\n",
       "      <td>82.0</td>\n",
       "      <td>4.636</td>\n",
       "      <td>0.0230</td>\n",
       "      <td>0.30</td>\n",
       "      <td>0.150</td>\n",
       "      <td>...</td>\n",
       "      <td>0.004</td>\n",
       "      <td>cand</td>\n",
       "      <td>13.583</td>\n",
       "      <td>14.851855</td>\n",
       "      <td>1341.0</td>\n",
       "      <td>0.792639</td>\n",
       "      <td>NaN</td>\n",
       "      <td>0.671</td>\n",
       "      <td>0.652</td>\n",
       "      <td>2.600949</td>\n",
       "    </tr>\n",
       "    <tr>\n",
       "      <th>2913</th>\n",
       "      <td>K00667.01</td>\n",
       "      <td>Solar</td>\n",
       "      <td>Solar</td>\n",
       "      <td>Solar</td>\n",
       "      <td>5780.0</td>\n",
       "      <td>NaN</td>\n",
       "      <td>4.438</td>\n",
       "      <td>NaN</td>\n",
       "      <td>0.00</td>\n",
       "      <td>NaN</td>\n",
       "      <td>...</td>\n",
       "      <td>0.000</td>\n",
       "      <td>cand</td>\n",
       "      <td>13.826</td>\n",
       "      <td>4.305219</td>\n",
       "      <td>9738.6</td>\n",
       "      <td>0.728066</td>\n",
       "      <td>NaN</td>\n",
       "      <td>NaN</td>\n",
       "      <td>1.000</td>\n",
       "      <td>1.648663</td>\n",
       "    </tr>\n",
       "    <tr>\n",
       "      <th>3022</th>\n",
       "      <td>K06156.01</td>\n",
       "      <td>PHO1</td>\n",
       "      <td>KIC0</td>\n",
       "      <td>KIC0</td>\n",
       "      <td>5022.0</td>\n",
       "      <td>151.0</td>\n",
       "      <td>4.668</td>\n",
       "      <td>0.0440</td>\n",
       "      <td>-1.10</td>\n",
       "      <td>0.300</td>\n",
       "      <td>...</td>\n",
       "      <td>0.050</td>\n",
       "      <td>cand</td>\n",
       "      <td>13.819</td>\n",
       "      <td>1.608363</td>\n",
       "      <td>96134.0</td>\n",
       "      <td>0.298429</td>\n",
       "      <td>NaN</td>\n",
       "      <td>0.589</td>\n",
       "      <td>0.589</td>\n",
       "      <td>2.799831</td>\n",
       "    </tr>\n",
       "    <tr>\n",
       "      <th>3285</th>\n",
       "      <td>K05486.01</td>\n",
       "      <td>PHO1</td>\n",
       "      <td>FLK73</td>\n",
       "      <td>KIC0</td>\n",
       "      <td>6996.0</td>\n",
       "      <td>209.0</td>\n",
       "      <td>3.627</td>\n",
       "      <td>0.1755</td>\n",
       "      <td>-0.20</td>\n",
       "      <td>0.275</td>\n",
       "      <td>...</td>\n",
       "      <td>0.400</td>\n",
       "      <td>cand</td>\n",
       "      <td>12.572</td>\n",
       "      <td>4.154722</td>\n",
       "      <td>2243.0</td>\n",
       "      <td>NaN</td>\n",
       "      <td>NaN</td>\n",
       "      <td>1.742</td>\n",
       "      <td>3.359</td>\n",
       "      <td>0.254760</td>\n",
       "    </tr>\n",
       "    <tr>\n",
       "      <th>3349</th>\n",
       "      <td>K01254.01</td>\n",
       "      <td>Solar</td>\n",
       "      <td>Solar</td>\n",
       "      <td>Solar</td>\n",
       "      <td>5780.0</td>\n",
       "      <td>NaN</td>\n",
       "      <td>4.438</td>\n",
       "      <td>NaN</td>\n",
       "      <td>0.00</td>\n",
       "      <td>NaN</td>\n",
       "      <td>...</td>\n",
       "      <td>0.000</td>\n",
       "      <td>cand</td>\n",
       "      <td>12.777</td>\n",
       "      <td>5.082722</td>\n",
       "      <td>1974.1</td>\n",
       "      <td>0.921904</td>\n",
       "      <td>NaN</td>\n",
       "      <td>NaN</td>\n",
       "      <td>1.000</td>\n",
       "      <td>1.648663</td>\n",
       "    </tr>\n",
       "    <tr>\n",
       "      <th>3350</th>\n",
       "      <td>K01254.01</td>\n",
       "      <td>Solar</td>\n",
       "      <td>Solar</td>\n",
       "      <td>Solar</td>\n",
       "      <td>5780.0</td>\n",
       "      <td>NaN</td>\n",
       "      <td>4.438</td>\n",
       "      <td>NaN</td>\n",
       "      <td>0.00</td>\n",
       "      <td>NaN</td>\n",
       "      <td>...</td>\n",
       "      <td>0.000</td>\n",
       "      <td>cand</td>\n",
       "      <td>12.777</td>\n",
       "      <td>5.082722</td>\n",
       "      <td>1974.1</td>\n",
       "      <td>0.921904</td>\n",
       "      <td>NaN</td>\n",
       "      <td>NaN</td>\n",
       "      <td>1.000</td>\n",
       "      <td>1.648663</td>\n",
       "    </tr>\n",
       "    <tr>\n",
       "      <th>3636</th>\n",
       "      <td>K01154.01</td>\n",
       "      <td>KIC0</td>\n",
       "      <td>KIC0</td>\n",
       "      <td>KIC0</td>\n",
       "      <td>7226.0</td>\n",
       "      <td>266.0</td>\n",
       "      <td>3.967</td>\n",
       "      <td>0.2250</td>\n",
       "      <td>-0.40</td>\n",
       "      <td>0.300</td>\n",
       "      <td>...</td>\n",
       "      <td>0.400</td>\n",
       "      <td>cand</td>\n",
       "      <td>12.628</td>\n",
       "      <td>6.810824</td>\n",
       "      <td>14446.8</td>\n",
       "      <td>0.705704</td>\n",
       "      <td>NaN</td>\n",
       "      <td>1.461</td>\n",
       "      <td>2.079</td>\n",
       "      <td>0.557355</td>\n",
       "    </tr>\n",
       "    <tr>\n",
       "      <th>3756</th>\n",
       "      <td>K00977.01</td>\n",
       "      <td>SPE18</td>\n",
       "      <td>SPE18</td>\n",
       "      <td>SPE18</td>\n",
       "      <td>4283.0</td>\n",
       "      <td>68.5</td>\n",
       "      <td>2.012</td>\n",
       "      <td>0.1245</td>\n",
       "      <td>0.00</td>\n",
       "      <td>0.150</td>\n",
       "      <td>...</td>\n",
       "      <td>0.000</td>\n",
       "      <td>cand</td>\n",
       "      <td>10.523</td>\n",
       "      <td>1.353772</td>\n",
       "      <td>1349.1</td>\n",
       "      <td>NaN</td>\n",
       "      <td>NaN</td>\n",
       "      <td>0.931</td>\n",
       "      <td>15.760</td>\n",
       "      <td>0.006182</td>\n",
       "    </tr>\n",
       "  </tbody>\n",
       "</table>\n",
       "<p>14 rows × 30 columns</p>\n",
       "</div>"
      ],
      "text/plain": [
       "     kepoi_name_y teff_prov logg_prov feh_prov    teff  uteff   logg   ulogg  \\\n",
       "99      K00141.01     SPE59     SPE59    SPE59  5340.0  106.0  4.514  0.0685   \n",
       "318     K00367.01     SPE59     SPE59    SPE59  5733.0  109.5  4.442  0.0900   \n",
       "2347    K00004.01      SPE3      SPE3     SPE3  6244.0  120.0  3.657  0.1800   \n",
       "2348    K00004.01      SPE3      SPE3     SPE3  6244.0  120.0  3.657  0.1800   \n",
       "2449    K00143.01      PHO1      KIC0     KIC0  6968.0  230.5  4.310  0.1450   \n",
       "2536    K00641.01     SPE60     SPE60    SPE60  4129.0   82.0  4.636  0.0230   \n",
       "2537    K00641.01     SPE60     SPE60    SPE60  4129.0   82.0  4.636  0.0230   \n",
       "2913    K00667.01     Solar     Solar    Solar  5780.0    NaN  4.438     NaN   \n",
       "3022    K06156.01      PHO1      KIC0     KIC0  5022.0  151.0  4.668  0.0440   \n",
       "3285    K05486.01      PHO1     FLK73     KIC0  6996.0  209.0  3.627  0.1755   \n",
       "3349    K01254.01     Solar     Solar    Solar  5780.0    NaN  4.438     NaN   \n",
       "3350    K01254.01     Solar     Solar    Solar  5780.0    NaN  4.438     NaN   \n",
       "3636    K01154.01      KIC0      KIC0     KIC0  7226.0  266.0  3.967  0.2250   \n",
       "3756    K00977.01     SPE18     SPE18    SPE18  4283.0   68.5  2.012  0.1245   \n",
       "\n",
       "       feh   ufeh    ...       FPP  planet?  koi_kepmag  koi_period_y  \\\n",
       "99    0.36  0.125    ...     0.030     cand      13.687      2.624235   \n",
       "318   0.08  0.150    ...     0.300     cand      11.105     31.578651   \n",
       "2347 -0.16  0.175    ...     0.020     cand      11.432      3.849372   \n",
       "2348 -0.16  0.175    ...     0.020     cand      11.432      3.849372   \n",
       "2449 -0.10  0.300    ...     0.300     cand      13.682     22.651175   \n",
       "2536  0.30  0.150    ...     0.004     cand      13.583     14.851855   \n",
       "2537  0.30  0.150    ...     0.004     cand      13.583     14.851855   \n",
       "2913  0.00    NaN    ...     0.000     cand      13.826      4.305219   \n",
       "3022 -1.10  0.300    ...     0.050     cand      13.819      1.608363   \n",
       "3285 -0.20  0.275    ...     0.400     cand      12.572      4.154722   \n",
       "3349  0.00    NaN    ...     0.000     cand      12.777      5.082722   \n",
       "3350  0.00    NaN    ...     0.000     cand      12.777      5.082722   \n",
       "3636 -0.40  0.300    ...     0.400     cand      12.628      6.810824   \n",
       "3756  0.00  0.150    ...     0.000     cand      10.523      1.353772   \n",
       "\n",
       "      koi_depth_y     shape  cks_svsini   mass  radius  rho_star  \n",
       "99         2607.0  0.762215         3.0  0.963   0.899  1.963957  \n",
       "318        2125.4  0.919574         2.8  0.987   0.990  1.663918  \n",
       "2347       1298.6  0.590372         NaN  1.482   2.992  0.272981  \n",
       "2348       1298.6  0.590372         NaN  1.482   2.992  0.272981  \n",
       "2449       2250.0  0.410963         NaN  1.333   1.333  1.227812  \n",
       "2536       1341.0  0.792639         NaN  0.671   0.652  2.600949  \n",
       "2537       1341.0  0.792639         NaN  0.671   0.652  2.600949  \n",
       "2913       9738.6  0.728066         NaN    NaN   1.000  1.648663  \n",
       "3022      96134.0  0.298429         NaN  0.589   0.589  2.799831  \n",
       "3285       2243.0       NaN         NaN  1.742   3.359  0.254760  \n",
       "3349       1974.1  0.921904         NaN    NaN   1.000  1.648663  \n",
       "3350       1974.1  0.921904         NaN    NaN   1.000  1.648663  \n",
       "3636      14446.8  0.705704         NaN  1.461   2.079  0.557355  \n",
       "3756       1349.1       NaN         NaN  0.931  15.760  0.006182  \n",
       "\n",
       "[14 rows x 30 columns]"
      ]
     },
     "execution_count": 373,
     "metadata": {},
     "output_type": "execute_result"
    }
   ],
   "source": [
    "cols = 'kepoi_name_y,teff_prov,logg_prov,feh_prov,teff,uteff,logg,ulogg,feh,ufeh,koi_jmag,koi_jmag_err,koi_hmag,koi_hmag_err,koi_kmag,koi_kmag_err,parallax,parallax_error,radial_velocity,radial_velocity_error,FPP,planet?,koi_kepmag,koi_period_y,koi_depth_y,shape,cks_svsini,mass,radius,rho_star'.split(',')\n",
    "\n",
    "#save\n",
    "df[idx][cols]\n",
    "#.to_csv('kepler_candidates.csv')"
   ]
  },
  {
   "cell_type": "code",
   "execution_count": 297,
   "metadata": {},
   "outputs": [
    {
     "data": {
      "image/png": "[encoded data removed]",
      "text/plain": [
       "<matplotlib.figure.Figure at 0x7fc6a4471780>"
      ]
     },
     "metadata": {},
     "output_type": "display_data"
    }
   ],
   "source": [
    "fig, ax = pl.subplots(1,3,figsize=(15,5))\n",
    "for n,col in enumerate([['teff','cks_steff'],['logg','cks_slogg'],['feh','cks_smet']]):\n",
    "    mask = df[col[0]+'_prov'].astype(str).apply(lambda x: x[:3]=='SPE' or x[:3]=='AST')\n",
    "    df[mask].plot(x=col[0],y=col[1],kind='scatter',ax=ax[n])\n",
    "    ax[n].set_title(col[0])\n",
    "    ax[n].set_ylabel('CKS')\n",
    "    ax[n].set_xlabel('NExSci')"
   ]
  },
  {
   "cell_type": "raw",
   "metadata": {},
   "source": [
    "df[idx][['kepoi_name_y','teff','cks_steff','logg','cks_slogg','feh','cks_smet']]"
   ]
  },
  {
   "cell_type": "markdown",
   "metadata": {},
   "source": [
    "From the cks list, only one candidate (the one we identified yesterday) has complete stellar parameters. So I used the stellar parameters from nexsci table with spectroscopy as providence."
   ]
  },
  {
   "cell_type": "raw",
   "metadata": {},
   "source": [
    "sorted(df.columns.tolist())"
   ]
  },
  {
   "cell_type": "code",
   "execution_count": 265,
   "metadata": {
    "collapsed": true
   },
   "outputs": [],
   "source": [
    "d = df.loc[idx,cols].drop_duplicates('kepoi_name_y')\n",
    "d.index = d['kepoi_name_y']"
   ]
  },
  {
   "cell_type": "raw",
   "metadata": {},
   "source": [
    "for n,idx in enumerate(d.index):\n",
    "    x = d.loc[idx,'teff_prov']\n",
    "    if x != 'SPE':\n",
    "        d.loc[idx,''] = np.nan\n",
    "    \n",
    "for n,x in enumerate(d.feh_prov):\n",
    "    idx = d.index[n]\n",
    "    if x != 'SPE':\n",
    "        d.loc[idx,'teff_prov'] = np.nan\n",
    "        \n",
    "for n,x in enumerate(d.feh_prov):\n",
    "    idx = d.index[n]\n",
    "    if x != 'SPE':\n",
    "        d.loc[idx,'teff_prov'] = np.nan"
   ]
  },
  {
   "cell_type": "raw",
   "metadata": {},
   "source": [
    "df['cks_sv']=df['cks_svsini']*np.sin(np.deg2rad(df['koi_incl']))"
   ]
  },
  {
   "cell_type": "raw",
   "metadata": {},
   "source": [
    "df[idx][['kepid','kepoi_name_y','shape','koi_period_y','radius','FPP','parallax','koi_incl','cks_svsini','cks_sv']]"
   ]
  },
  {
   "cell_type": "code",
   "execution_count": 341,
   "metadata": {
    "collapsed": true
   },
   "outputs": [],
   "source": [
    "def T_eq(a, D, da=0, dD=0):\n",
    "    '''\n",
    "    equilibrium temperature\n",
    "\n",
    "    a    : albedo [0,1]\n",
    "    D    : semi-major axis in au\n",
    "    see http://burro.case.edu/Academics/Astr221/SolarSys/equiltemp.html\n",
    "    '''\n",
    "    Tsol = 5770 #K\n",
    "    Rsol = 6.957e8 #m\n",
    "    au   = 1.4959787e11 #m\n",
    "    Tp = Tsol*(1-a)**0.25*np.sqrt(Rsol/(2*D*au))\n",
    "\n",
    "    return Tp"
   ]
  },
  {
   "cell_type": "markdown",
   "metadata": {},
   "source": [
    "## KOI 367.01"
   ]
  },
  {
   "cell_type": "code",
   "execution_count": null,
   "metadata": {
    "collapsed": true
   },
   "outputs": [],
   "source": [
    "mu     sig_hi     sig_lo\n",
    "Teff      5767.164612  96.497032  97.290139\n",
    "logg         4.454554   0.042823   0.074362\n",
    "feh          0.064360   0.103672   0.102238\n",
    "mass         1.013759   0.044075   0.041312\n",
    "radius       0.993366   0.085620   0.056729\n",
    "AV           0.280244   0.190468   0.156308\n",
    "distance   182.674663  15.813103  11.187156\n",
    "pmass      18          12         12"
   ]
  },
  {
   "cell_type": "code",
   "execution_count": 361,
   "metadata": {},
   "outputs": [
    {
     "data": {
      "text/plain": [
       "3.6522403469278224"
      ]
     },
     "execution_count": 361,
     "metadata": {},
     "output_type": "execute_result"
    }
   ],
   "source": [
    "P_days   = 31.578651\n",
    "Ms_Msun  = 1.013759\n",
    "mp_Mearth= 18\n",
    "ecc      = 0\n",
    "inc_deg  = 90\n",
    "\n",
    "RV_K(P_days, Ms_Msun, mp_Mearth, ecc, inc_deg)"
   ]
  },
  {
   "cell_type": "code",
   "execution_count": 363,
   "metadata": {
    "collapsed": true
   },
   "outputs": [],
   "source": [
    "Tstar = 5767\n",
    "a_au = 0.195\n",
    "a = 0.5"
   ]
  },
  {
   "cell_type": "code",
   "execution_count": 364,
   "metadata": {},
   "outputs": [
    {
     "data": {
      "text/plain": [
       "529.82726987419824"
      ]
     },
     "execution_count": 364,
     "metadata": {},
     "output_type": "execute_result"
    }
   ],
   "source": [
    "T_eq(a, a_au)"
   ]
  },
  {
   "cell_type": "code",
   "execution_count": 371,
   "metadata": {},
   "outputs": [
    {
     "data": {
      "text/plain": [
       "4295.478590610229"
      ]
     },
     "execution_count": 371,
     "metadata": {},
     "output_type": "execute_result"
    }
   ],
   "source": [
    "2*np.pi*0.993366*u.Rsun.to(u.m)/(11.7*u.day.to(u.second))"
   ]
  },
  {
   "cell_type": "code",
   "execution_count": null,
   "metadata": {
    "collapsed": true
   },
   "outputs": [],
   "source": [
    "P_rot = 11.7\n",
    "\n",
    "vsini"
   ]
  },
  {
   "cell_type": "code",
   "execution_count": 369,
   "metadata": {
    "collapsed": true
   },
   "outputs": [],
   "source": [
    "from scipy.stats import norm\n",
    "\n",
    "norm.rvs(loc=18,scale=1)"
   ]
  },
  {
   "cell_type": "code",
   "execution_count": null,
   "metadata": {
    "collapsed": true
   },
   "outputs": [],
   "source": []
  }
 ],
 "metadata": {
  "kernelspec": {
   "display_name": "Python 3",
   "language": "python",
   "name": "python3"
  },
  "language_info": {
   "codemirror_mode": {
    "name": "ipython",
    "version": 3
   },
   "file_extension": ".py",
   "mimetype": "text/x-python",
   "name": "python",
   "nbconvert_exporter": "python",
   "pygments_lexer": "ipython3",
   "version": "3.6.2"
  }
 },
 "nbformat": 4,
 "nbformat_minor": 2
}
